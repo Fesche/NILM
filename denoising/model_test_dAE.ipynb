{
 "cells": [
  {
   "cell_type": "code",
   "execution_count": 1,
   "metadata": {
    "collapsed": true
   },
   "outputs": [],
   "source": [
    "import pandas as pd\n",
    "import numpy as np\n",
    "from matplotlib import pyplot as plt"
   ]
  },
  {
   "cell_type": "code",
   "execution_count": null,
   "metadata": {
    "collapsed": true
   },
   "outputs": [],
   "source": [
    "X = pd.read_csv('../../master_data/nilm/kettle_aggregates_test.dat', header = None, delim_whitespace = True,\n",
    "                                index_col = 0)\n",
    "y = pd.read_csv('../../master_data/nilm/kettle_signatures_test.dat', header = None, delim_whitespace = True,\n",
    "                                index_col = 0)"
   ]
  },
  {
   "cell_type": "code",
   "execution_count": null,
   "metadata": {
    "collapsed": true
   },
   "outputs": [],
   "source": [
    "normalization = pd.read_csv('../master_data/nilm/normalization_params.csv', header=0, delim_whitespace=True)\n",
    "normalization.head()"
   ]
  },
  {
   "cell_type": "code",
   "execution_count": null,
   "metadata": {
    "collapsed": true
   },
   "outputs": [],
   "source": [
    "X_np = np.array(X).reshape((X.shape[0],X.shape[1],1))\n",
    "y_np = np.array(y).reshape((y.shape[0],y.shape[1]))\n",
    "\n",
    "#mean = normalization['mean'].values[0]\n",
    "mean = X_np.mean(axis=1).reshape(X_np.shape[0],1,1)\n",
    "X_np = X_np - mean\n",
    "sd = normalization['sd'].values[0]\n",
    "#rand_sd = rand_sd.sample(frac=1).reset_index(drop=True)\n",
    "X_np /= sd\n",
    "print(\"Mean: \", X_np.mean())\n",
    "print(\"Std: \", X_np.std())\n"
   ]
  },
  {
   "cell_type": "code",
   "execution_count": null,
   "metadata": {
    "collapsed": true
   },
   "outputs": [],
   "source": [
    "from keras.models import load_model\n",
    "\n",
    "model = load_model('../master_data/nilm/models/model0123dAE.h5')"
   ]
  },
  {
   "cell_type": "code",
   "execution_count": null,
   "metadata": {
    "collapsed": true
   },
   "outputs": [],
   "source": [
    "pred = model.predict(X_np)"
   ]
  },
  {
   "cell_type": "code",
   "execution_count": null,
   "metadata": {
    "collapsed": true
   },
   "outputs": [],
   "source": [
    "#first get an idea about the results:\n",
    "for i in range(4):\n",
    "    dice = np.random.randint(0,y_np.shape[0])\n",
    "    plt.subplot(221 + i)\n",
    "    plt.plot(pred[dice])\n",
    "    plt.plot(y_np[dice])\n",
    "    plt.show()"
   ]
  }
 ],
 "metadata": {
  "kernelspec": {
   "display_name": "Python 3",
   "language": "python",
   "name": "python3"
  },
  "language_info": {
   "codemirror_mode": {
    "name": "ipython",
    "version": 3
   },
   "file_extension": ".py",
   "mimetype": "text/x-python",
   "name": "python",
   "nbconvert_exporter": "python",
   "pygments_lexer": "ipython3",
   "version": "3.6.2"
  }
 },
 "nbformat": 4,
 "nbformat_minor": 2
}
