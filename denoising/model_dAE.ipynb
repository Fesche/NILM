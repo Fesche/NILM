{
 "cells": [
  {
   "cell_type": "markdown",
   "metadata": {},
   "source": [
    "## Denoising autoencoder\n",
    "Attempts to recreate appliance signature from aggregate signal by finding a samller representation then reconstructing the signal from this."
   ]
  },
  {
   "cell_type": "code",
   "execution_count": 1,
   "metadata": {},
   "outputs": [
    {
     "name": "stderr",
     "output_type": "stream",
     "text": [
      "Using TensorFlow backend.\n"
     ]
    }
   ],
   "source": [
    "import numpy as np\n",
    "import pandas as pd\n",
    "from keras.models import Sequential\n",
    "from keras.layers import Conv1D,Input,Dense,Flatten\n",
    "from matplotlib import pyplot as plt"
   ]
  },
  {
   "cell_type": "code",
   "execution_count": 28,
   "metadata": {},
   "outputs": [],
   "source": [
    "X1 = pd.read_csv('../../master_data/nilm/kettle_input.dat', header = 0, delim_whitespace = True,\n",
    "                                index_col = 0)\n",
    "X2 = pd.read_csv('../../master_data/nilm/syntethic_kettle_dae.dat', header = 0, delim_whitespace = True,\n",
    "                                index_col = 0)\n",
    "y1 = pd.read_csv('../../master_data/nilm/kettle_signatures.dat', header = 0, delim_whitespace = True,\n",
    "                                index_col = 0)\n",
    "y2 = pd.read_csv('../../master_data/nilm/syntethic_kettle_dae_response.dat', header = 0, delim_whitespace = True,\n",
    "                                index_col = 0)"
   ]
  },
  {
   "cell_type": "code",
   "execution_count": 29,
   "metadata": {},
   "outputs": [
    {
     "data": {
      "image/png": "[encoded data removed]",
      "text/plain": [
       "<matplotlib.figure.Figure at 0x7fa907579f60>"
      ]
     },
     "metadata": {},
     "output_type": "display_data"
    },
    {
     "data": {
      "image/png": "[encoded data removed]",
      "text/plain": [
       "<matplotlib.figure.Figure at 0x7fa9073995f8>"
      ]
     },
     "metadata": {},
     "output_type": "display_data"
    }
   ],
   "source": [
    "#Comparing the syntethic and the real data\n",
    "means_real = X1.mean(axis=1).sort_values().reset_index(drop=True)\n",
    "means_synth = X2[:means_real.size].mean(axis=1).sort_values().reset_index(drop=True)\n",
    "plt.hist(means_real,alpha=0.5, bins=20, range=(0,4000))\n",
    "plt.hist(means_synth,alpha=0.5,color='orange', bins=20, range=(0,4000))\n",
    "plt.show()\n",
    "\n",
    "stds_real = X1.std(axis=1).sort_values().reset_index(drop=True)\n",
    "stds_synth = X2[:stds_real.size].std(axis=1).sort_values().reset_index(drop=True)\n",
    "plt.hist(stds_real,alpha=0.5,bins=20, range=(0,4000))\n",
    "plt.hist(stds_synth,alpha=0.5,color='orange',bins=20, range=(0,4000))\n",
    "plt.show()"
   ]
  },
  {
   "cell_type": "markdown",
   "metadata": {},
   "source": [
    "The difference in mean is due to the large number of no-signal samples in the syntethic data. This also explains the 0-deviation data."
   ]
  },
  {
   "cell_type": "code",
   "execution_count": 30,
   "metadata": {},
   "outputs": [
    {
     "name": "stdout",
     "output_type": "stream",
     "text": [
      "(13433, 128)\n",
      "(13433, 128)\n",
      "Removed 0 instances.\n"
     ]
    }
   ],
   "source": [
    "#real_data = pd.concat([training_set_kettle,response_kettle],axis=1)\n",
    "\n",
    "col_dict = dict(zip(X1.columns.values,X2.columns.values))\n",
    "X = X2.append(X1.rename(columns=col_dict))\n",
    "\n",
    "y = y1.append(y2)\n",
    "\n",
    "print(X.shape)\n",
    "print(y.shape)\n",
    "\n",
    "X_np = np.array(X,dtype=np.float64).reshape((X.shape[0],X.shape[1],1))\n",
    "y_np = np.array(y,dtype=np.float64).reshape((y.shape[0],y.shape[1]))\n",
    "\n",
    "#some cleaning (some of the syntethic data contained 0-length signals?)\n",
    "dirty = []\n",
    "for i in range(y_np.shape[0]):\n",
    "    if np.isnan(y_np[i]).any():\n",
    "        dirty.append(i)\n",
    "y_np = np.delete(y_np, dirty,axis=0)\n",
    "X_np = np.delete(X_np, dirty,axis=0)\n",
    "\n",
    "print(\"Removed \" + str(len(dirty)) + \" instances.\")\n",
    "#row_mean = syntethic_data.mean(axis=1)\n",
    "#syntethic_data_n = syntethic_data.sub(row_mean.T,axis=0)\n",
    "#rand_sd = syntethic_data.std(axis=1)\n",
    "#rand_sd = rand_sd.sample(frac=1).reset_index(drop=True)\n",
    "#syntethic_data_n = syntethic_data_n.div(rand_sd,axis=0)\n",
    "#syntethic_data_n.head()\n",
    "\n"
   ]
  },
  {
   "cell_type": "code",
   "execution_count": 53,
   "metadata": {},
   "outputs": [],
   "source": [
    "sample_length = X.shape[1]"
   ]
  },
  {
   "cell_type": "code",
   "execution_count": 33,
   "metadata": {},
   "outputs": [
    {
     "name": "stdout",
     "output_type": "stream",
     "text": [
      "Mean:  -1.0686752319e-20\n",
      "Std:  1.26056503832\n"
     ]
    }
   ],
   "source": [
    "mean = X_np.mean(axis=1).reshape(X_np.shape[0],1,1)\n",
    "#mean = 0.0\n",
    "X_np = X_np - mean\n",
    "sd = X_np.std(axis=1).mean()\n",
    "#rand_sd = rand_sd.sample(frac=1).reset_index(drop=True)\n",
    "X_np /= sd\n",
    "print(\"Mean: \", X_np.mean())\n",
    "print(\"Std: \", X_np.std())\n"
   ]
  },
  {
   "cell_type": "code",
   "execution_count": 38,
   "metadata": {},
   "outputs": [],
   "source": [
    "normalization_params = pd.DataFrame([[mean,sd]],columns=['mean','sd'])\n",
    "normalization_params.to_csv('../../master_data/nilm/normalization_params_dAE.csv', sep=' ')"
   ]
  },
  {
   "cell_type": "code",
   "execution_count": 103,
   "metadata": {},
   "outputs": [],
   "source": [
    "layer1 = Conv1D(filters=8, input_shape = (sample_length,1,),kernel_size=8,\n",
    "                activation='linear',padding='causal', strides=1)\n",
    "layer1_b = Flatten()\n",
    "layer2 = Dense(units=(sample_length-3)*8,activation='relu')\n",
    "layer3 = Dense(units=128,activation='relu')\n",
    "layer4 = Dense(units=(sample_length-3)*8,activation='relu')\n",
    "outputs = Conv1D(filters=1,kernel_size=4,activation='linear',padding='causal', strides=1)\n",
    "\n",
    "model = Sequential()\n",
    "\n",
    "model.add(layer1)\n",
    "#model.add(layer1_b)\n",
    "model.add(layer2)\n",
    "model.add(layer3)\n",
    "model.add(layer4)\n",
    "model.add(outputs)\n"
   ]
  },
  {
   "cell_type": "code",
   "execution_count": 105,
   "metadata": {},
   "outputs": [
    {
     "name": "stdout",
     "output_type": "stream",
     "text": [
      "(13433, 128, 1) (13433, 128, 1)\n",
      "Train on 12089 samples, validate on 1344 samples\n",
      "Epoch 1/30\n",
      "12089/12089 [==============================] - 138s 11ms/step - loss: 400233.1043 - mean_absolute_error: 332.5497 - val_loss: 311309.3065 - val_mean_absolute_error: 302.3325\n",
      "Epoch 2/30\n",
      "12089/12089 [==============================] - 118s 10ms/step - loss: 398686.5290 - mean_absolute_error: 340.2351 - val_loss: 309421.7418 - val_mean_absolute_error: 285.0722\n",
      "Epoch 3/30\n",
      "12089/12089 [==============================] - 125s 10ms/step - loss: 398562.1533 - mean_absolute_error: 340.2366 - val_loss: 311393.7403 - val_mean_absolute_error: 308.6770\n",
      "Epoch 4/30\n",
      "12089/12089 [==============================] - 124s 10ms/step - loss: 398540.5466 - mean_absolute_error: 340.4980 - val_loss: 309578.2783 - val_mean_absolute_error: 284.9965\n",
      "Epoch 5/30\n",
      "12089/12089 [==============================] - 128s 11ms/step - loss: 398575.6449 - mean_absolute_error: 339.9778 - val_loss: 309382.1711 - val_mean_absolute_error: 284.3040\n",
      "Epoch 6/30\n",
      "12089/12089 [==============================] - 144s 12ms/step - loss: 398533.1285 - mean_absolute_error: 339.7799 - val_loss: 310093.1771 - val_mean_absolute_error: 293.8105\n",
      "Epoch 7/30\n",
      "12089/12089 [==============================] - 150s 12ms/step - loss: 398481.4009 - mean_absolute_error: 340.1589 - val_loss: 309502.7455 - val_mean_absolute_error: 287.2132\n",
      "Epoch 8/30\n",
      "12089/12089 [==============================] - 167s 14ms/step - loss: 398422.5946 - mean_absolute_error: 340.3779 - val_loss: 308810.9688 - val_mean_absolute_error: 267.9472\n",
      "Epoch 9/30\n",
      "12089/12089 [==============================] - 139s 11ms/step - loss: 398417.7057 - mean_absolute_error: 339.6432 - val_loss: 312050.5997 - val_mean_absolute_error: 312.3332\n",
      "Epoch 10/30\n",
      "12089/12089 [==============================] - 151s 12ms/step - loss: 398400.2901 - mean_absolute_error: 339.9404 - val_loss: 311555.3192 - val_mean_absolute_error: 310.2952\n",
      "Epoch 11/30\n",
      "12089/12089 [==============================] - 153s 13ms/step - loss: 398425.2299 - mean_absolute_error: 340.0838 - val_loss: 310394.9062 - val_mean_absolute_error: 296.8330\n",
      "Epoch 12/30\n",
      "12089/12089 [==============================] - 143s 12ms/step - loss: 398351.8888 - mean_absolute_error: 339.5166 - val_loss: 312055.6778 - val_mean_absolute_error: 314.0792\n",
      "Epoch 13/30\n",
      "12089/12089 [==============================] - 157s 13ms/step - loss: 398315.2375 - mean_absolute_error: 339.6711 - val_loss: 314349.1391 - val_mean_absolute_error: 328.8642\n",
      "Epoch 14/30\n",
      "12089/12089 [==============================] - 142s 12ms/step - loss: 398340.2877 - mean_absolute_error: 340.3554 - val_loss: 308996.1376 - val_mean_absolute_error: 267.6604\n",
      "Epoch 15/30\n",
      "12089/12089 [==============================] - 146s 12ms/step - loss: 398296.2603 - mean_absolute_error: 339.8715 - val_loss: 309359.2396 - val_mean_absolute_error: 285.8171\n",
      "Epoch 16/30\n",
      "12089/12089 [==============================] - 158s 13ms/step - loss: 398227.5504 - mean_absolute_error: 339.9014 - val_loss: 309516.5305 - val_mean_absolute_error: 288.7454\n",
      "Epoch 17/30\n",
      "12089/12089 [==============================] - 136s 11ms/step - loss: 398291.7515 - mean_absolute_error: 339.8431 - val_loss: 311517.0685 - val_mean_absolute_error: 309.6999\n",
      "Epoch 18/30\n",
      " 3584/12089 [=======>......................] - ETA: 1:31 - loss: 400356.0770 - mean_absolute_error: 342.5083"
     ]
    },
    {
     "ename": "KeyboardInterrupt",
     "evalue": "",
     "output_type": "error",
     "traceback": [
      "\u001b[0;31m---------------------------------------------------------------------------\u001b[0m",
      "\u001b[0;31mKeyboardInterrupt\u001b[0m                         Traceback (most recent call last)",
      "\u001b[0;32m<ipython-input-105-9e08e7a1a4f8>\u001b[0m in \u001b[0;36m<module>\u001b[0;34m()\u001b[0m\n\u001b[1;32m      5\u001b[0m               metrics=['mae'])\n\u001b[1;32m      6\u001b[0m \u001b[0;34m\u001b[0m\u001b[0m\n\u001b[0;32m----> 7\u001b[0;31m \u001b[0mtraining_history\u001b[0m \u001b[0;34m=\u001b[0m \u001b[0mmodel\u001b[0m\u001b[0;34m.\u001b[0m\u001b[0mfit\u001b[0m\u001b[0;34m(\u001b[0m\u001b[0mX_np\u001b[0m\u001b[0;34m,\u001b[0m \u001b[0my_np\u001b[0m\u001b[0;34m,\u001b[0m \u001b[0mbatch_size\u001b[0m\u001b[0;34m=\u001b[0m\u001b[0;36m64\u001b[0m\u001b[0;34m,\u001b[0m\u001b[0mverbose\u001b[0m\u001b[0;34m=\u001b[0m\u001b[0;36m1\u001b[0m\u001b[0;34m,\u001b[0m\u001b[0mepochs\u001b[0m\u001b[0;34m=\u001b[0m\u001b[0;36m30\u001b[0m\u001b[0;34m,\u001b[0m \u001b[0mvalidation_split\u001b[0m\u001b[0;34m=\u001b[0m\u001b[0;36m0.1\u001b[0m\u001b[0;34m)\u001b[0m\u001b[0;34m\u001b[0m\u001b[0m\n\u001b[0m",
      "\u001b[0;32m~/anaconda3/lib/python3.6/site-packages/keras/models.py\u001b[0m in \u001b[0;36mfit\u001b[0;34m(self, x, y, batch_size, epochs, verbose, callbacks, validation_split, validation_data, shuffle, class_weight, sample_weight, initial_epoch, steps_per_epoch, validation_steps, **kwargs)\u001b[0m\n\u001b[1;32m    958\u001b[0m                               \u001b[0minitial_epoch\u001b[0m\u001b[0;34m=\u001b[0m\u001b[0minitial_epoch\u001b[0m\u001b[0;34m,\u001b[0m\u001b[0;34m\u001b[0m\u001b[0m\n\u001b[1;32m    959\u001b[0m                               \u001b[0msteps_per_epoch\u001b[0m\u001b[0;34m=\u001b[0m\u001b[0msteps_per_epoch\u001b[0m\u001b[0;34m,\u001b[0m\u001b[0;34m\u001b[0m\u001b[0m\n\u001b[0;32m--> 960\u001b[0;31m                               validation_steps=validation_steps)\n\u001b[0m\u001b[1;32m    961\u001b[0m \u001b[0;34m\u001b[0m\u001b[0m\n\u001b[1;32m    962\u001b[0m     def evaluate(self, x, y, batch_size=32, verbose=1,\n",
      "\u001b[0;32m~/anaconda3/lib/python3.6/site-packages/keras/engine/training.py\u001b[0m in \u001b[0;36mfit\u001b[0;34m(self, x, y, batch_size, epochs, verbose, callbacks, validation_split, validation_data, shuffle, class_weight, sample_weight, initial_epoch, steps_per_epoch, validation_steps, **kwargs)\u001b[0m\n\u001b[1;32m   1655\u001b[0m                               \u001b[0minitial_epoch\u001b[0m\u001b[0;34m=\u001b[0m\u001b[0minitial_epoch\u001b[0m\u001b[0;34m,\u001b[0m\u001b[0;34m\u001b[0m\u001b[0m\n\u001b[1;32m   1656\u001b[0m                               \u001b[0msteps_per_epoch\u001b[0m\u001b[0;34m=\u001b[0m\u001b[0msteps_per_epoch\u001b[0m\u001b[0;34m,\u001b[0m\u001b[0;34m\u001b[0m\u001b[0m\n\u001b[0;32m-> 1657\u001b[0;31m                               validation_steps=validation_steps)\n\u001b[0m\u001b[1;32m   1658\u001b[0m \u001b[0;34m\u001b[0m\u001b[0m\n\u001b[1;32m   1659\u001b[0m     def evaluate(self, x=None, y=None,\n",
      "\u001b[0;32m~/anaconda3/lib/python3.6/site-packages/keras/engine/training.py\u001b[0m in \u001b[0;36m_fit_loop\u001b[0;34m(self, f, ins, out_labels, batch_size, epochs, verbose, callbacks, val_f, val_ins, shuffle, callback_metrics, initial_epoch, steps_per_epoch, validation_steps)\u001b[0m\n\u001b[1;32m   1211\u001b[0m                     \u001b[0mbatch_logs\u001b[0m\u001b[0;34m[\u001b[0m\u001b[0;34m'size'\u001b[0m\u001b[0;34m]\u001b[0m \u001b[0;34m=\u001b[0m \u001b[0mlen\u001b[0m\u001b[0;34m(\u001b[0m\u001b[0mbatch_ids\u001b[0m\u001b[0;34m)\u001b[0m\u001b[0;34m\u001b[0m\u001b[0m\n\u001b[1;32m   1212\u001b[0m                     \u001b[0mcallbacks\u001b[0m\u001b[0;34m.\u001b[0m\u001b[0mon_batch_begin\u001b[0m\u001b[0;34m(\u001b[0m\u001b[0mbatch_index\u001b[0m\u001b[0;34m,\u001b[0m \u001b[0mbatch_logs\u001b[0m\u001b[0;34m)\u001b[0m\u001b[0;34m\u001b[0m\u001b[0m\n\u001b[0;32m-> 1213\u001b[0;31m                     \u001b[0mouts\u001b[0m \u001b[0;34m=\u001b[0m \u001b[0mf\u001b[0m\u001b[0;34m(\u001b[0m\u001b[0mins_batch\u001b[0m\u001b[0;34m)\u001b[0m\u001b[0;34m\u001b[0m\u001b[0m\n\u001b[0m\u001b[1;32m   1214\u001b[0m                     \u001b[0;32mif\u001b[0m \u001b[0;32mnot\u001b[0m \u001b[0misinstance\u001b[0m\u001b[0;34m(\u001b[0m\u001b[0mouts\u001b[0m\u001b[0;34m,\u001b[0m \u001b[0mlist\u001b[0m\u001b[0;34m)\u001b[0m\u001b[0;34m:\u001b[0m\u001b[0;34m\u001b[0m\u001b[0m\n\u001b[1;32m   1215\u001b[0m                         \u001b[0mouts\u001b[0m \u001b[0;34m=\u001b[0m \u001b[0;34m[\u001b[0m\u001b[0mouts\u001b[0m\u001b[0;34m]\u001b[0m\u001b[0;34m\u001b[0m\u001b[0m\n",
      "\u001b[0;32m~/anaconda3/lib/python3.6/site-packages/keras/backend/tensorflow_backend.py\u001b[0m in \u001b[0;36m__call__\u001b[0;34m(self, inputs)\u001b[0m\n\u001b[1;32m   2355\u001b[0m         \u001b[0msession\u001b[0m \u001b[0;34m=\u001b[0m \u001b[0mget_session\u001b[0m\u001b[0;34m(\u001b[0m\u001b[0;34m)\u001b[0m\u001b[0;34m\u001b[0m\u001b[0m\n\u001b[1;32m   2356\u001b[0m         updated = session.run(fetches=fetches, feed_dict=feed_dict,\n\u001b[0;32m-> 2357\u001b[0;31m                               **self.session_kwargs)\n\u001b[0m\u001b[1;32m   2358\u001b[0m         \u001b[0;32mreturn\u001b[0m \u001b[0mupdated\u001b[0m\u001b[0;34m[\u001b[0m\u001b[0;34m:\u001b[0m\u001b[0mlen\u001b[0m\u001b[0;34m(\u001b[0m\u001b[0mself\u001b[0m\u001b[0;34m.\u001b[0m\u001b[0moutputs\u001b[0m\u001b[0;34m)\u001b[0m\u001b[0;34m]\u001b[0m\u001b[0;34m\u001b[0m\u001b[0m\n\u001b[1;32m   2359\u001b[0m \u001b[0;34m\u001b[0m\u001b[0m\n",
      "\u001b[0;32m~/anaconda3/lib/python3.6/site-packages/tensorflow/python/client/session.py\u001b[0m in \u001b[0;36mrun\u001b[0;34m(self, fetches, feed_dict, options, run_metadata)\u001b[0m\n\u001b[1;32m    893\u001b[0m     \u001b[0;32mtry\u001b[0m\u001b[0;34m:\u001b[0m\u001b[0;34m\u001b[0m\u001b[0m\n\u001b[1;32m    894\u001b[0m       result = self._run(None, fetches, feed_dict, options_ptr,\n\u001b[0;32m--> 895\u001b[0;31m                          run_metadata_ptr)\n\u001b[0m\u001b[1;32m    896\u001b[0m       \u001b[0;32mif\u001b[0m \u001b[0mrun_metadata\u001b[0m\u001b[0;34m:\u001b[0m\u001b[0;34m\u001b[0m\u001b[0m\n\u001b[1;32m    897\u001b[0m         \u001b[0mproto_data\u001b[0m \u001b[0;34m=\u001b[0m \u001b[0mtf_session\u001b[0m\u001b[0;34m.\u001b[0m\u001b[0mTF_GetBuffer\u001b[0m\u001b[0;34m(\u001b[0m\u001b[0mrun_metadata_ptr\u001b[0m\u001b[0;34m)\u001b[0m\u001b[0;34m\u001b[0m\u001b[0m\n",
      "\u001b[0;32m~/anaconda3/lib/python3.6/site-packages/tensorflow/python/client/session.py\u001b[0m in \u001b[0;36m_run\u001b[0;34m(self, handle, fetches, feed_dict, options, run_metadata)\u001b[0m\n\u001b[1;32m   1122\u001b[0m     \u001b[0;32mif\u001b[0m \u001b[0mfinal_fetches\u001b[0m \u001b[0;32mor\u001b[0m \u001b[0mfinal_targets\u001b[0m \u001b[0;32mor\u001b[0m \u001b[0;34m(\u001b[0m\u001b[0mhandle\u001b[0m \u001b[0;32mand\u001b[0m \u001b[0mfeed_dict_tensor\u001b[0m\u001b[0;34m)\u001b[0m\u001b[0;34m:\u001b[0m\u001b[0;34m\u001b[0m\u001b[0m\n\u001b[1;32m   1123\u001b[0m       results = self._do_run(handle, final_targets, final_fetches,\n\u001b[0;32m-> 1124\u001b[0;31m                              feed_dict_tensor, options, run_metadata)\n\u001b[0m\u001b[1;32m   1125\u001b[0m     \u001b[0;32melse\u001b[0m\u001b[0;34m:\u001b[0m\u001b[0;34m\u001b[0m\u001b[0m\n\u001b[1;32m   1126\u001b[0m       \u001b[0mresults\u001b[0m \u001b[0;34m=\u001b[0m \u001b[0;34m[\u001b[0m\u001b[0;34m]\u001b[0m\u001b[0;34m\u001b[0m\u001b[0m\n",
      "\u001b[0;32m~/anaconda3/lib/python3.6/site-packages/tensorflow/python/client/session.py\u001b[0m in \u001b[0;36m_do_run\u001b[0;34m(self, handle, target_list, fetch_list, feed_dict, options, run_metadata)\u001b[0m\n\u001b[1;32m   1319\u001b[0m     \u001b[0;32mif\u001b[0m \u001b[0mhandle\u001b[0m \u001b[0;32mis\u001b[0m \u001b[0;32mNone\u001b[0m\u001b[0;34m:\u001b[0m\u001b[0;34m\u001b[0m\u001b[0m\n\u001b[1;32m   1320\u001b[0m       return self._do_call(_run_fn, self._session, feeds, fetches, targets,\n\u001b[0;32m-> 1321\u001b[0;31m                            options, run_metadata)\n\u001b[0m\u001b[1;32m   1322\u001b[0m     \u001b[0;32melse\u001b[0m\u001b[0;34m:\u001b[0m\u001b[0;34m\u001b[0m\u001b[0m\n\u001b[1;32m   1323\u001b[0m       \u001b[0;32mreturn\u001b[0m \u001b[0mself\u001b[0m\u001b[0;34m.\u001b[0m\u001b[0m_do_call\u001b[0m\u001b[0;34m(\u001b[0m\u001b[0m_prun_fn\u001b[0m\u001b[0;34m,\u001b[0m \u001b[0mself\u001b[0m\u001b[0;34m.\u001b[0m\u001b[0m_session\u001b[0m\u001b[0;34m,\u001b[0m \u001b[0mhandle\u001b[0m\u001b[0;34m,\u001b[0m \u001b[0mfeeds\u001b[0m\u001b[0;34m,\u001b[0m \u001b[0mfetches\u001b[0m\u001b[0;34m)\u001b[0m\u001b[0;34m\u001b[0m\u001b[0m\n",
      "\u001b[0;32m~/anaconda3/lib/python3.6/site-packages/tensorflow/python/client/session.py\u001b[0m in \u001b[0;36m_do_call\u001b[0;34m(self, fn, *args)\u001b[0m\n\u001b[1;32m   1325\u001b[0m   \u001b[0;32mdef\u001b[0m \u001b[0m_do_call\u001b[0m\u001b[0;34m(\u001b[0m\u001b[0mself\u001b[0m\u001b[0;34m,\u001b[0m \u001b[0mfn\u001b[0m\u001b[0;34m,\u001b[0m \u001b[0;34m*\u001b[0m\u001b[0margs\u001b[0m\u001b[0;34m)\u001b[0m\u001b[0;34m:\u001b[0m\u001b[0;34m\u001b[0m\u001b[0m\n\u001b[1;32m   1326\u001b[0m     \u001b[0;32mtry\u001b[0m\u001b[0;34m:\u001b[0m\u001b[0;34m\u001b[0m\u001b[0m\n\u001b[0;32m-> 1327\u001b[0;31m       \u001b[0;32mreturn\u001b[0m \u001b[0mfn\u001b[0m\u001b[0;34m(\u001b[0m\u001b[0;34m*\u001b[0m\u001b[0margs\u001b[0m\u001b[0;34m)\u001b[0m\u001b[0;34m\u001b[0m\u001b[0m\n\u001b[0m\u001b[1;32m   1328\u001b[0m     \u001b[0;32mexcept\u001b[0m \u001b[0merrors\u001b[0m\u001b[0;34m.\u001b[0m\u001b[0mOpError\u001b[0m \u001b[0;32mas\u001b[0m \u001b[0me\u001b[0m\u001b[0;34m:\u001b[0m\u001b[0;34m\u001b[0m\u001b[0m\n\u001b[1;32m   1329\u001b[0m       \u001b[0mmessage\u001b[0m \u001b[0;34m=\u001b[0m \u001b[0mcompat\u001b[0m\u001b[0;34m.\u001b[0m\u001b[0mas_text\u001b[0m\u001b[0;34m(\u001b[0m\u001b[0me\u001b[0m\u001b[0;34m.\u001b[0m\u001b[0mmessage\u001b[0m\u001b[0;34m)\u001b[0m\u001b[0;34m\u001b[0m\u001b[0m\n",
      "\u001b[0;32m~/anaconda3/lib/python3.6/site-packages/tensorflow/python/client/session.py\u001b[0m in \u001b[0;36m_run_fn\u001b[0;34m(session, feed_dict, fetch_list, target_list, options, run_metadata)\u001b[0m\n\u001b[1;32m   1304\u001b[0m           return tf_session.TF_Run(session, options,\n\u001b[1;32m   1305\u001b[0m                                    \u001b[0mfeed_dict\u001b[0m\u001b[0;34m,\u001b[0m \u001b[0mfetch_list\u001b[0m\u001b[0;34m,\u001b[0m \u001b[0mtarget_list\u001b[0m\u001b[0;34m,\u001b[0m\u001b[0;34m\u001b[0m\u001b[0m\n\u001b[0;32m-> 1306\u001b[0;31m                                    status, run_metadata)\n\u001b[0m\u001b[1;32m   1307\u001b[0m \u001b[0;34m\u001b[0m\u001b[0m\n\u001b[1;32m   1308\u001b[0m     \u001b[0;32mdef\u001b[0m \u001b[0m_prun_fn\u001b[0m\u001b[0;34m(\u001b[0m\u001b[0msession\u001b[0m\u001b[0;34m,\u001b[0m \u001b[0mhandle\u001b[0m\u001b[0;34m,\u001b[0m \u001b[0mfeed_dict\u001b[0m\u001b[0;34m,\u001b[0m \u001b[0mfetch_list\u001b[0m\u001b[0;34m)\u001b[0m\u001b[0;34m:\u001b[0m\u001b[0;34m\u001b[0m\u001b[0m\n",
      "\u001b[0;31mKeyboardInterrupt\u001b[0m: "
     ]
    }
   ],
   "source": [
    "y_np = y_np.reshape(y_np.shape[0],y_np.shape[1],1)\n",
    "print(X_np.shape, y_np.shape)\n",
    "model.compile(optimizer='rmsprop',\n",
    "              loss='mean_squared_error',\n",
    "              metrics=['mae'])\n",
    "\n",
    "training_history = model.fit(X_np, y_np, batch_size=64,verbose=1,epochs=30, validation_split=0.1)"
   ]
  },
  {
   "cell_type": "code",
   "execution_count": null,
   "metadata": {
    "collapsed": true
   },
   "outputs": [],
   "source": [
    "model.save('../master_data/nilm/models/model0123dAE.h5')"
   ]
  },
  {
   "cell_type": "code",
   "execution_count": 83,
   "metadata": {},
   "outputs": [
    {
     "data": {
      "image/png": "[encoded data removed]",
      "text/plain": [
       "<matplotlib.figure.Figure at 0x7fa8f9ea7198>"
      ]
     },
     "metadata": {},
     "output_type": "display_data"
    }
   ],
   "source": [
    "plt.plot(training_history.history['loss'])\n",
    "plt.plot(training_history.history['val_loss'])\n",
    "plt.show()"
   ]
  }
 ],
 "metadata": {
  "kernelspec": {
   "display_name": "Python 3",
   "language": "python",
   "name": "python3"
  },
  "language_info": {
   "codemirror_mode": {
    "name": "ipython",
    "version": 3
   },
   "file_extension": ".py",
   "mimetype": "text/x-python",
   "name": "python",
   "nbconvert_exporter": "python",
   "pygments_lexer": "ipython3",
   "version": "3.6.2"
  }
 },
 "nbformat": 4,
 "nbformat_minor": 2
}
