{
 "cells": [
  {
   "cell_type": "markdown",
   "metadata": {},
   "source": [
    "## Denoising autoencoder\n",
    "Attempts to recreate appliance signature from aggregate signal by finding a samller representation then reconstructing the signal from this."
   ]
  },
  {
   "cell_type": "code",
   "execution_count": 1,
   "metadata": {},
   "outputs": [
    {
     "name": "stderr",
     "output_type": "stream",
     "text": [
      "Using TensorFlow backend.\n"
     ]
    }
   ],
   "source": [
    "import numpy as np\n",
    "import pandas as pd\n",
    "from keras.models import Sequential\n",
    "from keras.layers import Conv1D,Input,Dense,Flatten\n",
    "from matplotlib import pyplot as plt"
   ]
  },
  {
   "cell_type": "code",
   "execution_count": 2,
   "metadata": {
    "collapsed": true
   },
   "outputs": [],
   "source": [
    "X1 = pd.read_csv('../../master_data/nilm/kettle_input.dat', header = 0, delim_whitespace = True,\n",
    "                                index_col = 0)\n",
    "X2 = pd.read_csv('../../master_data/nilm/syntethic_kettle_dae.dat', header = 0, delim_whitespace = True,\n",
    "                                index_col = 0)\n",
    "y1 = pd.read_csv('../../master_data/nilm/kettle_signatures.dat', header = 0, delim_whitespace = True,\n",
    "                                index_col = 0)\n",
    "y2 = pd.read_csv('../../master_data/nilm/syntethic_kettle_dae_response.dat', header = 0, delim_whitespace = True,\n",
    "                                index_col = 0)"
   ]
  },
  {
   "cell_type": "code",
   "execution_count": 3,
   "metadata": {},
   "outputs": [
    {
     "data": {
      "image/png": "[encoded data removed]",
      "text/plain": [
       "<matplotlib.figure.Figure at 0x177f717c780>"
      ]
     },
     "metadata": {},
     "output_type": "display_data"
    },
    {
     "data": {
      "image/png": "[encoded data removed]",
      "text/plain": [
       "<matplotlib.figure.Figure at 0x177804d88d0>"
      ]
     },
     "metadata": {},
     "output_type": "display_data"
    }
   ],
   "source": [
    "#Comparing the syntethic and the real data\n",
    "means_real = X1.mean(axis=1).sort_values().reset_index(drop=True)\n",
    "means_synth = X2[:means_real.size].mean(axis=1).sort_values().reset_index(drop=True)\n",
    "plt.hist(means_real,alpha=0.5, bins=20, range=(0,4000))\n",
    "plt.hist(means_synth,alpha=0.5,color='orange', bins=20, range=(0,4000))\n",
    "plt.show()\n",
    "\n",
    "stds_real = X1.std(axis=1).sort_values().reset_index(drop=True)\n",
    "stds_synth = X2[:stds_real.size].std(axis=1).sort_values().reset_index(drop=True)\n",
    "plt.hist(stds_real,alpha=0.5,bins=20, range=(0,4000))\n",
    "plt.hist(stds_synth,alpha=0.5,color='orange',bins=20, range=(0,4000))\n",
    "plt.show()"
   ]
  },
  {
   "cell_type": "markdown",
   "metadata": {},
   "source": [
    "The difference in mean is due to the large number of no-signal samples in the syntethic data. This also explains the 0-deviation data."
   ]
  },
  {
   "cell_type": "code",
   "execution_count": 164,
   "metadata": {},
   "outputs": [
    {
     "name": "stdout",
     "output_type": "stream",
     "text": [
      "(13433, 128)\n",
      "(13433, 128)\n",
      "Removed 5092 instances.\n"
     ]
    }
   ],
   "source": [
    "#real_data = pd.concat([training_set_kettle,response_kettle],axis=1)\n",
    "\n",
    "col_dict = dict(zip(X1.columns.values,X2.columns.values))\n",
    "X = X2.append(X1.rename(columns=col_dict))\n",
    "\n",
    "y = y2.append(y1)\n",
    "\n",
    "print(X.shape)\n",
    "print(y.shape)\n",
    "\n",
    "X_np = np.array(X,dtype=np.float64).reshape((X.shape[0],X.shape[1],1))\n",
    "y_np = np.array(y,dtype=np.float64).reshape((y.shape[0],y.shape[1]))\n",
    "\n",
    "#some cleaning (some of the syntethic data contained 0-length signals?)\n",
    "dirty = []\n",
    "for i in range(y_np.shape[0]):\n",
    "    if np.isnan(y_np[i]).any() or y_np[i].mean() == 0:#assume signal present.\n",
    "        dirty.append(i)\n",
    "y_np = np.delete(y_np, dirty,axis=0)\n",
    "X_np = np.delete(X_np, dirty,axis=0)\n",
    "\n",
    "print(\"Removed \" + str(len(dirty)) + \" instances.\")\n",
    "#row_mean = syntethic_data.mean(axis=1)\n",
    "#syntethic_data_n = syntethic_data.sub(row_mean.T,axis=0)\n",
    "#rand_sd = syntethic_data.std(axis=1)\n",
    "#rand_sd = rand_sd.sample(frac=1).reset_index(drop=True)\n",
    "#syntethic_data_n = syntethic_data_n.div(rand_sd,axis=0)\n",
    "#syntethic_data_n.head()\n",
    "\n"
   ]
  },
  {
   "cell_type": "code",
   "execution_count": 241,
   "metadata": {},
   "outputs": [
    {
     "name": "stdout",
     "output_type": "stream",
     "text": [
      "5133\n"
     ]
    },
    {
     "data": {
      "image/png": "[encoded data removed]",
      "text/plain": [
       "<matplotlib.figure.Figure at 0x177877cf908>"
      ]
     },
     "metadata": {},
     "output_type": "display_data"
    }
   ],
   "source": [
    "dice = np.random.randint(0,y_np.shape[0])\n",
    "\n",
    "print(dice)\n",
    "plt.plot(X_np[dice])\n",
    "plt.plot(y_np[dice])\n",
    "plt.show()"
   ]
  },
  {
   "cell_type": "code",
   "execution_count": 88,
   "metadata": {
    "collapsed": true
   },
   "outputs": [],
   "source": [
    "sample_length = X.shape[1]"
   ]
  },
  {
   "cell_type": "code",
   "execution_count": 120,
   "metadata": {},
   "outputs": [
    {
     "name": "stdout",
     "output_type": "stream",
     "text": [
      "Mean:  -9.42226411438e-21\n",
      "Std:  1.04168682526\n"
     ]
    }
   ],
   "source": [
    "mean = X_np.mean(axis=1).reshape(X_np.shape[0],1,1)\n",
    "#mean = 0.0\n",
    "X_np = X_np - mean\n",
    "sd = X_np.std(axis=1).mean()\n",
    "#rand_sd = rand_sd.sample(frac=1).reset_index(drop=True)\n",
    "X_np /= sd\n",
    "print(\"Mean: \", X_np.mean())\n",
    "print(\"Std: \", X_np.std())\n"
   ]
  },
  {
   "cell_type": "code",
   "execution_count": 121,
   "metadata": {
    "collapsed": true
   },
   "outputs": [],
   "source": [
    "normalization_params = pd.DataFrame([[mean,sd]],columns=['mean','sd'])\n",
    "normalization_params.to_csv('C:/Users/bfesc/Documents/Master_thesis/master_data/nilm/normalization_params_dAE.csv', sep=' ')"
   ]
  },
  {
   "cell_type": "code",
   "execution_count": 127,
   "metadata": {},
   "outputs": [],
   "source": [
    "layer1 = Conv1D(filters=8, input_shape = (sample_length,1,),kernel_size=4,\n",
    "                activation='linear',padding='same', strides=1)\n",
    "layer1_b = Flatten()\n",
    "layer2 = Dense(units=(sample_length-3)*8,activation='relu')\n",
    "layer3 = Dense(units=128,activation='relu')\n",
    "layer4 = Dense(units=(sample_length-3)*8,activation='relu')\n",
    "layer5 = Conv1D(filters=1,kernel_size=4,activation='linear',padding='same', strides=1)\n",
    "\n",
    "model = Sequential()\n",
    "\n",
    "model.add(layer1)\n",
    "#model.add(layer1_b)\n",
    "model.add(layer2)\n",
    "model.add(layer3)\n",
    "model.add(layer4)\n",
    "model.add(layer5)\n"
   ]
  },
  {
   "cell_type": "code",
   "execution_count": 128,
   "metadata": {},
   "outputs": [
    {
     "name": "stdout",
     "output_type": "stream",
     "text": [
      "(8341, 128, 1) (8341, 128, 1)\n",
      "Train on 7506 samples, validate on 835 samples\n",
      "Epoch 1/10\n",
      "7506/7506 [==============================] - 77s 10ms/step - loss: 159404.0525 - mean_absolute_error: 138.8198 - val_loss: 296828.5736 - val_mean_absolute_error: 217.7379\n",
      "Epoch 2/10\n",
      "7506/7506 [==============================] - 75s 10ms/step - loss: 106801.0111 - mean_absolute_error: 107.6896 - val_loss: 257877.3858 - val_mean_absolute_error: 195.6210\n",
      "Epoch 3/10\n",
      "7506/7506 [==============================] - 79s 11ms/step - loss: 98145.9954 - mean_absolute_error: 101.2970 - val_loss: 243180.0001 - val_mean_absolute_error: 179.1912\n",
      "Epoch 4/10\n",
      "7506/7506 [==============================] - 79s 11ms/step - loss: 91210.6340 - mean_absolute_error: 94.4687 - val_loss: 211152.8820 - val_mean_absolute_error: 165.7357\n",
      "Epoch 5/10\n",
      "7506/7506 [==============================] - 85s 11ms/step - loss: 84934.3440 - mean_absolute_error: 88.5853 - val_loss: 204692.5006 - val_mean_absolute_error: 158.6130\n",
      "Epoch 6/10\n",
      "7506/7506 [==============================] - 89s 12ms/step - loss: 81439.2244 - mean_absolute_error: 85.1214 - val_loss: 204136.0198 - val_mean_absolute_error: 154.5876\n",
      "Epoch 7/10\n",
      "7506/7506 [==============================] - 89s 12ms/step - loss: 78807.4067 - mean_absolute_error: 81.4134 - val_loss: 194339.3688 - val_mean_absolute_error: 142.1136\n",
      "Epoch 8/10\n",
      "7506/7506 [==============================] - 90s 12ms/step - loss: 76396.2169 - mean_absolute_error: 78.0867 - val_loss: 192567.9416 - val_mean_absolute_error: 144.7368\n",
      "Epoch 9/10\n",
      "7506/7506 [==============================] - 92s 12ms/step - loss: 75881.4740 - mean_absolute_error: 76.3203 - val_loss: 202013.4422 - val_mean_absolute_error: 152.2766\n",
      "Epoch 10/10\n",
      "7506/7506 [==============================] - 85s 11ms/step - loss: 75267.2529 - mean_absolute_error: 74.6286 - val_loss: 195397.8403 - val_mean_absolute_error: 131.6484\n"
     ]
    }
   ],
   "source": [
    "y_np = y_np.reshape(y_np.shape[0],y_np.shape[1],1)\n",
    "print(X_np.shape, y_np.shape)\n",
    "model.compile(optimizer='rmsprop',\n",
    "              loss='mean_squared_error',\n",
    "              metrics=['mae'])\n",
    "\n",
    "training_history = model.fit(X_np, y_np, batch_size=64,verbose=1,epochs=10, validation_split=0.1)"
   ]
  },
  {
   "cell_type": "code",
   "execution_count": 130,
   "metadata": {},
   "outputs": [],
   "source": [
    "model.save('C:\\\\Users\\\\bfesc\\\\Documents\\\\Master_thesis\\\\master_data\\\\nilm\\\\models\\\\model0129bdAE.h5')"
   ]
  },
  {
   "cell_type": "code",
   "execution_count": 129,
   "metadata": {},
   "outputs": [
    {
     "data": {
      "image/png": "[encoded data removed]",
      "text/plain": [
       "<matplotlib.figure.Figure at 0x17786e9de80>"
      ]
     },
     "metadata": {},
     "output_type": "display_data"
    }
   ],
   "source": [
    "plt.plot(training_history.history['loss'])\n",
    "plt.plot(training_history.history['val_loss'])\n",
    "plt.show()"
   ]
  }
 ],
 "metadata": {
  "kernelspec": {
   "display_name": "Python 3",
   "language": "python",
   "name": "python3"
  },
  "language_info": {
   "codemirror_mode": {
    "name": "ipython",
    "version": 3
   },
   "file_extension": ".py",
   "mimetype": "text/x-python",
   "name": "python",
   "nbconvert_exporter": "python",
   "pygments_lexer": "ipython3",
   "version": "3.6.3"
  }
 },
 "nbformat": 4,
 "nbformat_minor": 2
}
