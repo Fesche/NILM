{
 "cells": [
  {
   "cell_type": "code",
   "execution_count": 1,
   "metadata": {
    "collapsed": true
   },
   "outputs": [],
   "source": [
    "from matplotlib import pyplot as plt\n",
    "import pandas as pd\n",
    "import numpy as np"
   ]
  },
  {
   "cell_type": "code",
   "execution_count": 2,
   "metadata": {},
   "outputs": [],
   "source": [
    "def clean_power_series(aggregate_power, activations):\n",
    "    #aggregate_power.index = pd.to_datetime(aggregate_power.index,unit='s')\n",
    "    #activations['start'] = pd.to_datetime(activations['start'],unit='s')\n",
    "    #activations['end'] = pd.to_datetime(activations['end'],unit='s')\n",
    "    \n",
    "    temp_ap = aggregate_power.copy()\n",
    "    \n",
    "    n = activations.shape[0]\n",
    "\n",
    "    pcent = int(n/100)\n",
    "    ap_sans_activations = pd.DataFrame()\n",
    "    \n",
    "    ap_sans_activations.append(temp_ap[:activations['start'][0]])\n",
    "    \n",
    "    for i in range(1,n):\n",
    "        if i % pcent == 0:\n",
    "            print(str(i/pcent) + '%')\n",
    "        ap_sans_activations = ap_sans_activations.append(temp_ap[activations['end'][i-1]:activations['start'][i]])\n",
    "    \n",
    "    ap_sans_activations.append(temp_ap[activations['end'][i]:])\n",
    "    \n",
    "    return ap_sans_activations\n",
    "\n",
    "def get_appliance_signatures(aggregate_power, activations):\n",
    "    \n",
    "    signatures = []\n",
    "    for i in range(activations.shape[0]):\n",
    "        start = activations['start'][i]\n",
    "        end = activations['end'][i]\n",
    "        signatures.append(aggregate_power[start:end])\n",
    "        \n",
    "    return signatures\n",
    "        \n",
    "def make_syntethic_data(aggregate_power, activations, n = 10000, ap_sans_activations = None, sample_length = 128):\n",
    "    if ap_sans_activations is None:\n",
    "        ap_sans_activations = clean_power_series(aggregate_power, activations)\n",
    "    \n",
    "    app_signatures = get_appliance_signatures(aggregate_power, activations)\n",
    "    sign_len = len(app_signatures)\n",
    "    \n",
    "    syntethic_data = []\n",
    "    syntethic_response = []\n",
    "    for i in range(n):\n",
    "        app_no = np.random.randint(0,sign_len-1)\n",
    "        sample_start = np.random.randint(0,ap_sans_activations.shape[0]-(sample_length+1))\n",
    "        sample_end = sample_start + sample_length\n",
    "        \n",
    "        sample_start_time = ap_sans_activations.index[sample_start]\n",
    "        sample_end_time = ap_sans_activations.index[sample_end]\n",
    "        \n",
    "        \n",
    "        sample = ap_sans_activations.loc[sample_start_time:sample_end_time]\n",
    "        signal = app_signatures[app_no]\n",
    "\n",
    "        signal_start = np.random.randint(0,sample_length - (signal.shape[0] + 1))\n",
    "        signal_end = signal_start + signal.shape[0]\n",
    "        sample.iloc[signal_start:signal_end] += signal.values\n",
    "        \n",
    "        syntethic_data.append(sample)\n",
    "        syntethic_response.append(pd.DataFrame([signal_start,signal_end,signal.mean()]))\n",
    "        \n",
    "    return syntethic_data, syntethic_response\n",
    "    "
   ]
  },
  {
   "cell_type": "code",
   "execution_count": 4,
   "metadata": {},
   "outputs": [
    {
     "name": "stderr",
     "output_type": "stream",
     "text": [
      "/home/bjornif/anaconda3/lib/python3.6/site-packages/numpy/lib/arraysetops.py:463: FutureWarning: elementwise comparison failed; returning scalar instead, but in the future will perform elementwise comparison\n",
      "  mask |= (ar1 == a)\n"
     ]
    }
   ],
   "source": [
    "activations = pd.read_csv('../master_data/nilm/kettle_activations.dat', #header = None,\n",
    "                                delim_whitespace = True,\n",
    "                                names = ['index', 'start','end','mean_power'],\n",
    "                                index_col = 0)\n",
    "aggregate_power = pd.read_csv('../master_data/house_1/channel_1.dat', header = None,\n",
    "                                names = [\"Time\",\"Power\"], delim_whitespace = True,\n",
    "                                index_col = 0)\n",
    "kettle_signal = pd.read_csv('../master_data/house_1/channel_10.dat', header = None,\n",
    "                                names = [\"Time\",\"Power\"], delim_whitespace = True,\n",
    "                                index_col = 0)"
   ]
  },
  {
   "cell_type": "code",
   "execution_count": 5,
   "metadata": {},
   "outputs": [],
   "source": [
    "aggregate_power.index = pd.to_datetime(aggregate_power.index,unit='s')\n",
    "kettle_signal.index = pd.to_datetime(kettle_signal.index,unit='s')\n",
    "#activations['start'] = pd.to_datetime(activations['start'],unit='s')\n",
    "#activations['end'] = pd.to_datetime(activations['end'],unit='s')\n"
   ]
  },
  {
   "cell_type": "code",
   "execution_count": 6,
   "metadata": {},
   "outputs": [
    {
     "data": {
      "text/html": [
       "<div>\n",
       "<style>\n",
       "    .dataframe thead tr:only-child th {\n",
       "        text-align: right;\n",
       "    }\n",
       "\n",
       "    .dataframe thead th {\n",
       "        text-align: left;\n",
       "    }\n",
       "\n",
       "    .dataframe tbody tr th {\n",
       "        vertical-align: top;\n",
       "    }\n",
       "</style>\n",
       "<table border=\"1\" class=\"dataframe\">\n",
       "  <thead>\n",
       "    <tr style=\"text-align: right;\">\n",
       "      <th></th>\n",
       "      <th>start</th>\n",
       "      <th>end</th>\n",
       "      <th>mean_power</th>\n",
       "    </tr>\n",
       "  </thead>\n",
       "  <tbody>\n",
       "    <tr>\n",
       "      <th>0</th>\n",
       "      <td>2012-11-10 17:22:40</td>\n",
       "      <td>2012-11-10 17:24:05</td>\n",
       "      <td>2282.692308</td>\n",
       "    </tr>\n",
       "    <tr>\n",
       "      <th>1</th>\n",
       "      <td>2012-11-11 08:28:41</td>\n",
       "      <td>2012-11-11 08:30:47</td>\n",
       "      <td>2261.200000</td>\n",
       "    </tr>\n",
       "    <tr>\n",
       "      <th>2</th>\n",
       "      <td>2012-11-11 11:35:09</td>\n",
       "      <td>2012-11-11 11:38:09</td>\n",
       "      <td>2282.896552</td>\n",
       "    </tr>\n",
       "    <tr>\n",
       "      <th>3</th>\n",
       "      <td>2012-11-11 11:44:35</td>\n",
       "      <td>2012-11-11 11:46:59</td>\n",
       "      <td>2285.956522</td>\n",
       "    </tr>\n",
       "    <tr>\n",
       "      <th>4</th>\n",
       "      <td>2012-11-12 08:59:55</td>\n",
       "      <td>2012-11-12 09:02:43</td>\n",
       "      <td>2329.851852</td>\n",
       "    </tr>\n",
       "  </tbody>\n",
       "</table>\n",
       "</div>"
      ],
      "text/plain": [
       "                 start                  end   mean_power\n",
       "0  2012-11-10 17:22:40  2012-11-10 17:24:05  2282.692308\n",
       "1  2012-11-11 08:28:41  2012-11-11 08:30:47  2261.200000\n",
       "2  2012-11-11 11:35:09  2012-11-11 11:38:09  2282.896552\n",
       "3  2012-11-11 11:44:35  2012-11-11 11:46:59  2285.956522\n",
       "4  2012-11-12 08:59:55  2012-11-12 09:02:43  2329.851852"
      ]
     },
     "execution_count": 6,
     "metadata": {},
     "output_type": "execute_result"
    }
   ],
   "source": [
    "activations = activations.loc[1:]\n",
    "activations = activations.reset_index(drop=True)\n",
    "activations.head(5)"
   ]
  },
  {
   "cell_type": "code",
   "execution_count": 7,
   "metadata": {
    "scrolled": false
   },
   "outputs": [
    {
     "name": "stdout",
     "output_type": "stream",
     "text": [
      "2012-11-10 17:22:40 2012-11-10 17:24:05\n"
     ]
    },
    {
     "data": {
      "image/png": "[encoded data removed]",
      "text/plain": [
       "<matplotlib.figure.Figure at 0x7f67049d8eb8>"
      ]
     },
     "metadata": {},
     "output_type": "display_data"
    }
   ],
   "source": [
    "for i in range(1):\n",
    "    start = activations['start'][i]\n",
    "    end = activations['end'][i]\n",
    "    print(start,end)\n",
    "    kettle_signal[start:end].plot()\n",
    "    plt.show()"
   ]
  },
  {
   "cell_type": "code",
   "execution_count": 8,
   "metadata": {
    "scrolled": true
   },
   "outputs": [
    {
     "name": "stdout",
     "output_type": "stream",
     "text": [
      "1.0%\n",
      "2.0%\n",
      "3.0%\n",
      "4.0%\n",
      "5.0%\n",
      "6.0%\n",
      "7.0%\n",
      "8.0%\n",
      "9.0%\n",
      "10.0%\n",
      "11.0%\n",
      "12.0%\n",
      "13.0%\n",
      "14.0%\n",
      "15.0%\n",
      "16.0%\n",
      "17.0%\n",
      "18.0%\n",
      "19.0%\n",
      "20.0%\n",
      "21.0%\n",
      "22.0%\n",
      "23.0%\n",
      "24.0%\n",
      "25.0%\n",
      "26.0%\n",
      "27.0%\n",
      "28.0%\n",
      "29.0%\n",
      "30.0%\n",
      "31.0%\n",
      "32.0%\n",
      "33.0%\n",
      "34.0%\n",
      "35.0%\n",
      "36.0%\n",
      "37.0%\n",
      "38.0%\n",
      "39.0%\n",
      "40.0%\n",
      "41.0%\n",
      "42.0%\n",
      "43.0%\n",
      "44.0%\n",
      "45.0%\n",
      "46.0%\n",
      "47.0%\n",
      "48.0%\n",
      "49.0%\n",
      "50.0%\n",
      "51.0%\n",
      "52.0%\n",
      "53.0%\n",
      "54.0%\n",
      "55.0%\n",
      "56.0%\n",
      "57.0%\n",
      "58.0%\n",
      "59.0%\n",
      "60.0%\n",
      "61.0%\n",
      "62.0%\n",
      "63.0%\n",
      "64.0%\n",
      "65.0%\n",
      "66.0%\n",
      "67.0%\n",
      "68.0%\n",
      "69.0%\n",
      "70.0%\n",
      "71.0%\n",
      "72.0%\n",
      "73.0%\n",
      "74.0%\n",
      "75.0%\n",
      "76.0%\n",
      "77.0%\n",
      "78.0%\n",
      "79.0%\n",
      "80.0%\n",
      "81.0%\n",
      "82.0%\n",
      "83.0%\n",
      "84.0%\n",
      "85.0%\n",
      "86.0%\n",
      "87.0%\n",
      "88.0%\n",
      "89.0%\n",
      "90.0%\n",
      "91.0%\n",
      "92.0%\n",
      "93.0%\n",
      "94.0%\n",
      "95.0%\n",
      "96.0%\n",
      "97.0%\n",
      "98.0%\n",
      "99.0%\n",
      "100.0%\n",
      "101.0%\n",
      "102.0%\n"
     ]
    }
   ],
   "source": [
    "clean_ap = clean_power_series(aggregate_power, activations)"
   ]
  },
  {
   "cell_type": "code",
   "execution_count": 9,
   "metadata": {},
   "outputs": [
    {
     "name": "stderr",
     "output_type": "stream",
     "text": [
      "/home/bjornif/anaconda3/lib/python3.6/site-packages/pandas/core/indexing.py:179: SettingWithCopyWarning: \n",
      "A value is trying to be set on a copy of a slice from a DataFrame\n",
      "\n",
      "See the caveats in the documentation: http://pandas.pydata.org/pandas-docs/stable/indexing.html#indexing-view-versus-copy\n",
      "  self._setitem_with_indexer(indexer, value)\n",
      "/home/bjornif/anaconda3/lib/python3.6/site-packages/ipykernel_launcher.py:57: SettingWithCopyWarning: \n",
      "A value is trying to be set on a copy of a slice from a DataFrame\n",
      "\n",
      "See the caveats in the documentation: http://pandas.pydata.org/pandas-docs/stable/indexing.html#indexing-view-versus-copy\n"
     ]
    }
   ],
   "source": [
    "syntethic_data, syntethic_response = make_syntethic_data(aggregate_power, activations, n=10000,\n",
    "                                     ap_sans_activations = clean_ap, sample_length = 128)"
   ]
  },
  {
   "cell_type": "code",
   "execution_count": 10,
   "metadata": {},
   "outputs": [],
   "source": [
    "syntethic_data_pd = pd.DataFrame(syntethic_data)\n",
    "syntethic_data_pd.to_csv('../master_data/syntethic_data.dat', sep=' ')\n",
    "syntethic_response_pd = pd.DataFrame(syntethic_response)\n",
    "syntethic_response_pd.to_csv('../master_data/syntethic_response.dat', sep=' ')"
   ]
  }
 ],
 "metadata": {
  "kernelspec": {
   "display_name": "Python 3",
   "language": "python",
   "name": "python3"
  },
  "language_info": {
   "codemirror_mode": {
    "name": "ipython",
    "version": 3
   },
   "file_extension": ".py",
   "mimetype": "text/x-python",
   "name": "python",
   "nbconvert_exporter": "python",
   "pygments_lexer": "ipython3",
   "version": "3.6.2"
  }
 },
 "nbformat": 4,
 "nbformat_minor": 2
}
