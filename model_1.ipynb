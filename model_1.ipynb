{
 "cells": [
  {
   "cell_type": "code",
   "execution_count": 3,
   "metadata": {},
   "outputs": [
    {
     "name": "stderr",
     "output_type": "stream",
     "text": [
      "Using TensorFlow backend.\n"
     ]
    }
   ],
   "source": [
    "from keras.models import Sequential\n",
    "from keras.layers import Conv1D,Input,Dense,Flatten\n",
    "from matplotlib import pyplot as plt\n",
    "import pandas as pd\n",
    "import numpy as np"
   ]
  },
  {
   "cell_type": "code",
   "execution_count": 4,
   "metadata": {
    "collapsed": true
   },
   "outputs": [],
   "source": [
    "sample_length = 128"
   ]
  },
  {
   "cell_type": "code",
   "execution_count": 5,
   "metadata": {
    "scrolled": true
   },
   "outputs": [
    {
     "name": "stderr",
     "output_type": "stream",
     "text": [
      "/home/bjornif/anaconda3/lib/python3.6/site-packages/numpy/lib/arraysetops.py:463: FutureWarning: elementwise comparison failed; returning scalar instead, but in the future will perform elementwise comparison\n",
      "  mask |= (ar1 == a)\n"
     ]
    },
    {
     "data": {
      "text/html": [
       "<div>\n",
       "<style>\n",
       "    .dataframe thead tr:only-child th {\n",
       "        text-align: right;\n",
       "    }\n",
       "\n",
       "    .dataframe thead th {\n",
       "        text-align: left;\n",
       "    }\n",
       "\n",
       "    .dataframe tbody tr th {\n",
       "        vertical-align: top;\n",
       "    }\n",
       "</style>\n",
       "<table border=\"1\" class=\"dataframe\">\n",
       "  <thead>\n",
       "    <tr style=\"text-align: right;\">\n",
       "      <th></th>\n",
       "      <th>start</th>\n",
       "      <th>end</th>\n",
       "      <th>mean_power</th>\n",
       "    </tr>\n",
       "    <tr>\n",
       "      <th>index</th>\n",
       "      <th></th>\n",
       "      <th></th>\n",
       "      <th></th>\n",
       "    </tr>\n",
       "  </thead>\n",
       "  <tbody>\n",
       "    <tr>\n",
       "      <th>0</th>\n",
       "      <td>2012-11-10 08:49:42</td>\n",
       "      <td>2012-11-10 08:51:45</td>\n",
       "      <td>2311.157895</td>\n",
       "    </tr>\n",
       "    <tr>\n",
       "      <th>1</th>\n",
       "      <td>2012-11-10 17:22:40</td>\n",
       "      <td>2012-11-10 17:24:05</td>\n",
       "      <td>2282.692308</td>\n",
       "    </tr>\n",
       "    <tr>\n",
       "      <th>2</th>\n",
       "      <td>2012-11-11 08:28:41</td>\n",
       "      <td>2012-11-11 08:30:47</td>\n",
       "      <td>2261.200000</td>\n",
       "    </tr>\n",
       "    <tr>\n",
       "      <th>3</th>\n",
       "      <td>2012-11-11 11:35:09</td>\n",
       "      <td>2012-11-11 11:38:09</td>\n",
       "      <td>2282.896552</td>\n",
       "    </tr>\n",
       "    <tr>\n",
       "      <th>4</th>\n",
       "      <td>2012-11-11 11:44:35</td>\n",
       "      <td>2012-11-11 11:46:59</td>\n",
       "      <td>2285.956522</td>\n",
       "    </tr>\n",
       "  </tbody>\n",
       "</table>\n",
       "</div>"
      ],
      "text/plain": [
       "                    start                 end   mean_power\n",
       "index                                                     \n",
       "0     2012-11-10 08:49:42 2012-11-10 08:51:45  2311.157895\n",
       "1     2012-11-10 17:22:40 2012-11-10 17:24:05  2282.692308\n",
       "2     2012-11-11 08:28:41 2012-11-11 08:30:47  2261.200000\n",
       "3     2012-11-11 11:35:09 2012-11-11 11:38:09  2282.896552\n",
       "4     2012-11-11 11:44:35 2012-11-11 11:46:59  2285.956522"
      ]
     },
     "execution_count": 5,
     "metadata": {},
     "output_type": "execute_result"
    }
   ],
   "source": [
    "aggregate_power = pd.read_csv('../master_data/house_1/channel_1.dat', header = None,\n",
    "                                names = [\"Time\",\"Power\"], delim_whitespace = True,\n",
    "                                index_col = 0)\n",
    "aggregate_power.index = pd.to_datetime(aggregate_power.index,unit='s')\n",
    "#mw_activations = pd.read_csv('../master_data/nilm/mw_activations.dat', #header = None,\n",
    "#                                delim_whitespace = True,\n",
    "#                                names = ['index', 'start','end','mean_power'],\n",
    "#                                index_col = 0)\n",
    "kettle_activations = pd.read_csv('../master_data/nilm/kettle_activations.dat', header = 0,\n",
    "                                delim_whitespace = True,\n",
    "                                names = ['index', 'start','end','mean_power'],\n",
    "                                index_col = 0, parse_dates = ['start','end'],\n",
    "                                date_parser = pd.core.tools.datetimes.to_datetime)\n",
    "#dw_activations = pd.read_csv('../master_data/nilm/dw_activations.dat', #header = None,\n",
    "#                                delim_whitespace = True,\n",
    "#                                names = ['index', 'start','end','mean_power'],\n",
    "#                                index_col = 0)\n",
    "kettle_activations.head()"
   ]
  },
  {
   "cell_type": "code",
   "execution_count": 61,
   "metadata": {},
   "outputs": [
    {
     "name": "stdout",
     "output_type": "stream",
     "text": [
      "2013-01-05 13:10:13 2013-01-05 13:11:44\n"
     ]
    },
    {
     "data": {
      "image/png": "[encoded data removed]",
      "text/plain": [
       "<matplotlib.figure.Figure at 0x7f6bfb452b00>"
      ]
     },
     "metadata": {},
     "output_type": "display_data"
    }
   ],
   "source": [
    "for _ in range(1):\n",
    "    dice = np.random.randint(0,100)\n",
    "    start = kettle_activations.iloc[dice]['start']\n",
    "    end = kettle_activations.iloc[dice]['end']\n",
    "    print(start,end)\n",
    "    aggregate_power[start:end].plot()\n",
    "    plt.show()"
   ]
  },
  {
   "cell_type": "code",
   "execution_count": 4,
   "metadata": {},
   "outputs": [
    {
     "data": {
      "text/plain": [
       "index\n",
       "2888   00:04:38\n",
       "2320   00:04:38\n",
       "3195   00:04:38\n",
       "3085   00:04:39\n",
       "2913   00:04:40\n",
       "3277   00:04:41\n",
       "2542   00:04:43\n",
       "2939   00:04:46\n",
       "3060   00:04:46\n",
       "652    00:04:46\n",
       "1838   00:04:49\n",
       "564    00:04:51\n",
       "3009   00:04:55\n",
       "2777   00:04:57\n",
       "3270   00:04:59\n",
       "3117   00:04:59\n",
       "1491   00:05:00\n",
       "3137   00:05:01\n",
       "2928   00:05:02\n",
       "53     00:05:11\n",
       "2114   00:05:14\n",
       "3103   00:05:18\n",
       "2988   00:05:23\n",
       "1712   00:05:24\n",
       "3036   00:05:32\n",
       "3019   00:05:33\n",
       "3140   00:05:33\n",
       "3077   00:06:19\n",
       "1250   00:06:19\n",
       "105    00:06:22\n",
       "1133   00:06:22\n",
       "1566   00:06:26\n",
       "355    00:06:28\n",
       "1063   00:07:16\n",
       "1193   00:07:17\n",
       "2344   00:07:49\n",
       "1490   00:07:54\n",
       "1221   00:07:58\n",
       "1119   00:08:57\n",
       "3092   00:11:25\n",
       "dtype: timedelta64[ns]"
      ]
     },
     "execution_count": 4,
     "metadata": {},
     "output_type": "execute_result"
    }
   ],
   "source": [
    "(kettle_activations['end'] - kettle_activations['start']).sort_values().tail(40)"
   ]
  },
  {
   "cell_type": "markdown",
   "metadata": {},
   "source": [
    "#### Note:\n",
    "The minimal run time of the kettle is 30 seconds."
   ]
  },
  {
   "cell_type": "markdown",
   "metadata": {},
   "source": [
    "It is not entirely clear to me how the authors of the paper created their training sets (only that they extended them substantially with syntethic data). Below is an attempt to create a training set in the spirit of the paper, by randomly selecting \"empty\" and \"meaningful\" intervals with a 50/50 probability."
   ]
  },
  {
   "cell_type": "code",
   "execution_count": 64,
   "metadata": {
    "collapsed": true
   },
   "outputs": [],
   "source": [
    "def clean_power_series(aggregate_power, activations):\n",
    "    \n",
    "    temp_ap = aggregate_power.copy()\n",
    "    \n",
    "    n = activations.shape[0]\n",
    "\n",
    "    #pcent = int(n/100)\n",
    "    ap_sans_activations = pd.DataFrame()\n",
    "    \n",
    "    ap_sans_activations.append(temp_ap[:activations['start'][0]])\n",
    "    \n",
    "    for i in range(1,n):\n",
    "        ap_sans_activations = ap_sans_activations.append(temp_ap[activations['end'][i-1]:activations['start'][i]])\n",
    "    \n",
    "    ap_sans_activations.append(temp_ap[activations['end'][i]:])\n",
    "    \n",
    "    return ap_sans_activations\n",
    "\n",
    "\n",
    "def create_training_set(aggregate_power, activations, ap_sans_activations = None, sample_length = 128, pad = 1024):\n",
    "    training_set = pd.DataFrame(columns = np.linspace(0,1,sample_length))\n",
    "    training_set_response = pd.DataFrame(columns = ['start','end','mean_power'])\n",
    "\n",
    "    #aggregate power sans the activation intervals\n",
    "    if ap_sans_activations is None:\n",
    "        ap_sans_activations = clean_power_series(aggregate_power,activations)\n",
    "\n",
    "    n = aggregate_power.shape[0]\n",
    "    j = 0\n",
    "    for i in range(activations.shape[0]):\n",
    "        if i % 100 == 0:\n",
    "            print(i)\n",
    "        while True:\n",
    "            dice = np.random.random()\n",
    "            if dice < 0.5:\n",
    "                start = activations['start'][i]\n",
    "                end = activations['end'][i]\n",
    "                #randomly place the chosen signal in a window.\n",
    "                #note that the entire signal is always in the window \n",
    "                sample_start = start - pd.Timedelta(np.random.randint(0,pad),unit='s')\n",
    "                sample_end = end + pd.Timedelta(np.random.randint(0,pad),unit='s')\n",
    "                sample = aggregate_power[sample_start:sample_end]\n",
    "\n",
    "                while sample.shape[0] > sample_length:\n",
    "                    if np.random.random() > 0.5 and end < sample.index[-1]:\n",
    "                        sample = sample.iloc[:-1]\n",
    "                    elif start > sample.index[0]:\n",
    "                        sample = sample.iloc[1:]\n",
    "                    else:\n",
    "                        sample = sample.iloc[0:1]\n",
    "                \n",
    "                if not sample.shape[0] < sample_length:\n",
    "                    \n",
    "                    #sample = sample.reindex(columns=training_set.columns, method='nearest')\n",
    "                    start_fraction = (start - sample.index[0])/(sample.index[-1] - sample.index[0])\n",
    "                    end_fraction = (end - sample.index[0])/(sample.index[-1] - sample.index[0])\n",
    "                    training_set.loc[j] = sample.T.values[0]\n",
    "                    training_set_response.loc[j] = [start_fraction,end_fraction,activations['mean_power'][i]]\n",
    "                    j+=1\n",
    "                \n",
    "                break\n",
    "                \n",
    "                \n",
    "            ri = np.random.randint(0,ap_sans_activations.shape[0]-sample_length)\n",
    "            sample = ap_sans_activations.iloc[ri: ri+sample_length]\n",
    "            training_set.loc[j] = sample.T.values[0]\n",
    "            training_set_response.loc[j] = [0,0,0]\n",
    "            j+=1\n",
    "            \n",
    "    return training_set, training_set_response\n",
    "\n"
   ]
  },
  {
   "cell_type": "markdown",
   "metadata": {},
   "source": [
    "#### Note: \n",
    "drop() takes forever, avoid it.<br>\n"
   ]
  },
  {
   "cell_type": "code",
   "execution_count": 65,
   "metadata": {
    "collapsed": true,
    "scrolled": true
   },
   "outputs": [],
   "source": [
    "clean_ap = clean_power_series(aggregate_power,kettle_activations)"
   ]
  },
  {
   "cell_type": "code",
   "execution_count": 66,
   "metadata": {},
   "outputs": [
    {
     "name": "stdout",
     "output_type": "stream",
     "text": [
      "0\n",
      "100\n",
      "200\n",
      "300\n",
      "400\n",
      "500\n",
      "600\n",
      "700\n",
      "800\n",
      "900\n",
      "1000\n",
      "1100\n",
      "1200\n",
      "1300\n",
      "1400\n",
      "1500\n",
      "1600\n",
      "1700\n",
      "1800\n",
      "1900\n",
      "2000\n",
      "2100\n",
      "2200\n",
      "2300\n",
      "2400\n",
      "2500\n",
      "2600\n",
      "2700\n",
      "2800\n",
      "2900\n",
      "3000\n",
      "3100\n",
      "3200\n"
     ]
    },
    {
     "data": {
      "text/html": [
       "<div>\n",
       "<style>\n",
       "    .dataframe thead tr:only-child th {\n",
       "        text-align: right;\n",
       "    }\n",
       "\n",
       "    .dataframe thead th {\n",
       "        text-align: left;\n",
       "    }\n",
       "\n",
       "    .dataframe tbody tr th {\n",
       "        vertical-align: top;\n",
       "    }\n",
       "</style>\n",
       "<table border=\"1\" class=\"dataframe\">\n",
       "  <thead>\n",
       "    <tr style=\"text-align: right;\">\n",
       "      <th></th>\n",
       "      <th>0.0</th>\n",
       "      <th>0.00787401574803</th>\n",
       "      <th>0.0157480314961</th>\n",
       "      <th>0.0236220472441</th>\n",
       "      <th>0.0314960629921</th>\n",
       "      <th>0.0393700787402</th>\n",
       "      <th>0.0472440944882</th>\n",
       "      <th>0.0551181102362</th>\n",
       "      <th>0.0629921259843</th>\n",
       "      <th>0.0708661417323</th>\n",
       "      <th>...</th>\n",
       "      <th>0.929133858268</th>\n",
       "      <th>0.937007874016</th>\n",
       "      <th>0.944881889764</th>\n",
       "      <th>0.952755905512</th>\n",
       "      <th>0.96062992126</th>\n",
       "      <th>0.968503937008</th>\n",
       "      <th>0.976377952756</th>\n",
       "      <th>0.984251968504</th>\n",
       "      <th>0.992125984252</th>\n",
       "      <th>1.0</th>\n",
       "    </tr>\n",
       "  </thead>\n",
       "  <tbody>\n",
       "    <tr>\n",
       "      <th>0</th>\n",
       "      <td>1912</td>\n",
       "      <td>2293</td>\n",
       "      <td>1897</td>\n",
       "      <td>2275</td>\n",
       "      <td>1942</td>\n",
       "      <td>1983</td>\n",
       "      <td>2262</td>\n",
       "      <td>1884</td>\n",
       "      <td>2298</td>\n",
       "      <td>1877</td>\n",
       "      <td>...</td>\n",
       "      <td>217</td>\n",
       "      <td>426</td>\n",
       "      <td>886</td>\n",
       "      <td>211</td>\n",
       "      <td>907</td>\n",
       "      <td>211</td>\n",
       "      <td>908</td>\n",
       "      <td>940</td>\n",
       "      <td>211</td>\n",
       "      <td>897</td>\n",
       "    </tr>\n",
       "    <tr>\n",
       "      <th>1</th>\n",
       "      <td>193</td>\n",
       "      <td>191</td>\n",
       "      <td>195</td>\n",
       "      <td>193</td>\n",
       "      <td>191</td>\n",
       "      <td>191</td>\n",
       "      <td>190</td>\n",
       "      <td>193</td>\n",
       "      <td>191</td>\n",
       "      <td>192</td>\n",
       "      <td>...</td>\n",
       "      <td>342</td>\n",
       "      <td>333</td>\n",
       "      <td>342</td>\n",
       "      <td>351</td>\n",
       "      <td>332</td>\n",
       "      <td>348</td>\n",
       "      <td>269</td>\n",
       "      <td>286</td>\n",
       "      <td>289</td>\n",
       "      <td>299</td>\n",
       "    </tr>\n",
       "    <tr>\n",
       "      <th>2</th>\n",
       "      <td>231</td>\n",
       "      <td>252</td>\n",
       "      <td>234</td>\n",
       "      <td>250</td>\n",
       "      <td>227</td>\n",
       "      <td>222</td>\n",
       "      <td>250</td>\n",
       "      <td>232</td>\n",
       "      <td>236</td>\n",
       "      <td>252</td>\n",
       "      <td>...</td>\n",
       "      <td>320</td>\n",
       "      <td>339</td>\n",
       "      <td>334</td>\n",
       "      <td>305</td>\n",
       "      <td>371</td>\n",
       "      <td>343</td>\n",
       "      <td>332</td>\n",
       "      <td>346</td>\n",
       "      <td>351</td>\n",
       "      <td>337</td>\n",
       "    </tr>\n",
       "    <tr>\n",
       "      <th>3</th>\n",
       "      <td>172</td>\n",
       "      <td>172</td>\n",
       "      <td>172</td>\n",
       "      <td>172</td>\n",
       "      <td>174</td>\n",
       "      <td>173</td>\n",
       "      <td>172</td>\n",
       "      <td>172</td>\n",
       "      <td>172</td>\n",
       "      <td>174</td>\n",
       "      <td>...</td>\n",
       "      <td>167</td>\n",
       "      <td>169</td>\n",
       "      <td>168</td>\n",
       "      <td>169</td>\n",
       "      <td>167</td>\n",
       "      <td>171</td>\n",
       "      <td>169</td>\n",
       "      <td>168</td>\n",
       "      <td>170</td>\n",
       "      <td>168</td>\n",
       "    </tr>\n",
       "    <tr>\n",
       "      <th>4</th>\n",
       "      <td>333</td>\n",
       "      <td>313</td>\n",
       "      <td>327</td>\n",
       "      <td>275</td>\n",
       "      <td>275</td>\n",
       "      <td>267</td>\n",
       "      <td>268</td>\n",
       "      <td>274</td>\n",
       "      <td>267</td>\n",
       "      <td>270</td>\n",
       "      <td>...</td>\n",
       "      <td>270</td>\n",
       "      <td>295</td>\n",
       "      <td>297</td>\n",
       "      <td>282</td>\n",
       "      <td>285</td>\n",
       "      <td>283</td>\n",
       "      <td>284</td>\n",
       "      <td>286</td>\n",
       "      <td>290</td>\n",
       "      <td>281</td>\n",
       "    </tr>\n",
       "  </tbody>\n",
       "</table>\n",
       "<p>5 rows × 128 columns</p>\n",
       "</div>"
      ],
      "text/plain": [
       "  0.000000 0.007874 0.015748 0.023622 0.031496 0.039370 0.047244 0.055118  \\\n",
       "0     1912     2293     1897     2275     1942     1983     2262     1884   \n",
       "1      193      191      195      193      191      191      190      193   \n",
       "2      231      252      234      250      227      222      250      232   \n",
       "3      172      172      172      172      174      173      172      172   \n",
       "4      333      313      327      275      275      267      268      274   \n",
       "\n",
       "  0.062992 0.070866   ...    0.929134 0.937008 0.944882 0.952756 0.960630  \\\n",
       "0     2298     1877   ...         217      426      886      211      907   \n",
       "1      191      192   ...         342      333      342      351      332   \n",
       "2      236      252   ...         320      339      334      305      371   \n",
       "3      172      174   ...         167      169      168      169      167   \n",
       "4      267      270   ...         270      295      297      282      285   \n",
       "\n",
       "  0.968504 0.976378 0.984252 0.992126 1.000000  \n",
       "0      211      908      940      211      897  \n",
       "1      348      269      286      289      299  \n",
       "2      343      332      346      351      337  \n",
       "3      171      169      168      170      168  \n",
       "4      283      284      286      290      281  \n",
       "\n",
       "[5 rows x 128 columns]"
      ]
     },
     "execution_count": 66,
     "metadata": {},
     "output_type": "execute_result"
    }
   ],
   "source": [
    "training_set_kettle, response_kettle = create_training_set(aggregate_power, kettle_activations,\n",
    "                                                           ap_sans_activations = clean_ap,\n",
    "                                                          sample_length = sample_length)\n",
    "training_set_kettle.head()"
   ]
  },
  {
   "cell_type": "markdown",
   "metadata": {},
   "source": [
    "### Normalization:"
   ]
  },
  {
   "cell_type": "markdown",
   "metadata": {},
   "source": [
    "As per the paper, done by subtracting sample mean and dividing by a <i>random</i> sample standard deviation.<br>\n",
    "The normalization parameters are saved so they may be used when testing the model."
   ]
  },
  {
   "cell_type": "code",
   "execution_count": 108,
   "metadata": {},
   "outputs": [
    {
     "name": "stdout",
     "output_type": "stream",
     "text": [
      "start         0.842839\n",
      "end            1.00507\n",
      "mean_power     2296.25\n",
      "Name: 89, dtype: object\n"
     ]
    },
    {
     "data": {
      "image/png": "[encoded data removed]",
      "text/plain": [
       "<matplotlib.figure.Figure at 0x7f6bfcc3bcc0>"
      ]
     },
     "metadata": {},
     "output_type": "display_data"
    }
   ],
   "source": [
    "for _ in range(1):\n",
    "    dice = np.random.randint(0,100)\n",
    "    training_set_kettle.iloc[dice].plot()\n",
    "    print(response_kettle.iloc[dice])\n",
    "    plt.show()"
   ]
  },
  {
   "cell_type": "code",
   "execution_count": 131,
   "metadata": {},
   "outputs": [
    {
     "data": {
      "text/html": [
       "<div>\n",
       "<style>\n",
       "    .dataframe thead tr:only-child th {\n",
       "        text-align: right;\n",
       "    }\n",
       "\n",
       "    .dataframe thead th {\n",
       "        text-align: left;\n",
       "    }\n",
       "\n",
       "    .dataframe tbody tr th {\n",
       "        vertical-align: top;\n",
       "    }\n",
       "</style>\n",
       "<table border=\"1\" class=\"dataframe\">\n",
       "  <thead>\n",
       "    <tr style=\"text-align: right;\">\n",
       "      <th></th>\n",
       "      <th>start</th>\n",
       "      <th>end</th>\n",
       "      <th>mean_power</th>\n",
       "    </tr>\n",
       "    <tr>\n",
       "      <th>Time</th>\n",
       "      <th></th>\n",
       "      <th></th>\n",
       "      <th></th>\n",
       "    </tr>\n",
       "  </thead>\n",
       "  <tbody>\n",
       "    <tr>\n",
       "      <th>0</th>\n",
       "      <td>0.000000</td>\n",
       "      <td>0.000000</td>\n",
       "      <td>0.000000</td>\n",
       "    </tr>\n",
       "    <tr>\n",
       "      <th>1</th>\n",
       "      <td>0.755155</td>\n",
       "      <td>0.905928</td>\n",
       "      <td>2240.421053</td>\n",
       "    </tr>\n",
       "    <tr>\n",
       "      <th>2</th>\n",
       "      <td>0.640927</td>\n",
       "      <td>0.750322</td>\n",
       "      <td>2789.071429</td>\n",
       "    </tr>\n",
       "    <tr>\n",
       "      <th>3</th>\n",
       "      <td>0.000000</td>\n",
       "      <td>0.000000</td>\n",
       "      <td>0.000000</td>\n",
       "    </tr>\n",
       "    <tr>\n",
       "      <th>4</th>\n",
       "      <td>0.152605</td>\n",
       "      <td>0.339950</td>\n",
       "      <td>2587.000000</td>\n",
       "    </tr>\n",
       "  </tbody>\n",
       "</table>\n",
       "</div>"
      ],
      "text/plain": [
       "         start       end   mean_power\n",
       "Time                                 \n",
       "0     0.000000  0.000000     0.000000\n",
       "1     0.755155  0.905928  2240.421053\n",
       "2     0.640927  0.750322  2789.071429\n",
       "3     0.000000  0.000000     0.000000\n",
       "4     0.152605  0.339950  2587.000000"
      ]
     },
     "execution_count": 131,
     "metadata": {},
     "output_type": "execute_result"
    }
   ],
   "source": [
    "syntethic_data = pd.read_csv('../master_data/nilm/syntethic_data.dat',\n",
    "                                delim_whitespace = True,\n",
    "                                index_col = 0)\n",
    "\n",
    "syntethic_response = pd.read_csv('../master_data/nilm/syntethic_response.dat', header = 0,\n",
    "                                names = [\"Time\",\"start\",\"end\",\"mean_power\"], delim_whitespace = True,\n",
    "                                index_col = 0)\n",
    "\n",
    "#syntethic_training_set.columns = pd.to_numeric(syntethic_data.columns)\n",
    "syntethic_response.head()"
   ]
  },
  {
   "cell_type": "code",
   "execution_count": 280,
   "metadata": {},
   "outputs": [
    {
     "name": "stdout",
     "output_type": "stream",
     "text": [
      "(15627, 128)\n",
      "(15627, 3)\n",
      "Removed 44 instances.\n"
     ]
    }
   ],
   "source": [
    "#real_data = pd.concat([training_set_kettle,response_kettle],axis=1)\n",
    "\n",
    "col_dict = dict(zip(syntethic_data.columns.values,training_set_kettle.columns.values))\n",
    "X = training_set_kettle.append(syntethic_data.rename(columns=col_dict))\n",
    "\n",
    "y = response_kettle.append(syntethic_response)\n",
    "\n",
    "print(X.shape)\n",
    "print(y.shape)\n",
    "\n",
    "X_np = np.array(X,dtype=np.float64).reshape((X.shape[0],X.shape[1],1))\n",
    "y_np = np.array(y,dtype=np.float64).reshape((y.shape[0],y.shape[1]))\n",
    "\n",
    "#some cleaning (some of the syntethic data contained 0-length signals?)\n",
    "dirty = []\n",
    "for i in range(y_np.shape[0]):\n",
    "    if np.isnan(y_np[i]).any():\n",
    "        dirty.append(i)\n",
    "y_np = np.delete(y_np, dirty,axis=0)\n",
    "X_np = np.delete(X_np, dirty,axis=0)\n",
    "\n",
    "print(\"Removed \" + str(len(dirty)) + \" instances.\")\n",
    "#row_mean = syntethic_data.mean(axis=1)\n",
    "#syntethic_data_n = syntethic_data.sub(row_mean.T,axis=0)\n",
    "#rand_sd = syntethic_data.std(axis=1)\n",
    "#rand_sd = rand_sd.sample(frac=1).reset_index(drop=True)\n",
    "#syntethic_data_n = syntethic_data_n.div(rand_sd,axis=0)\n",
    "#syntethic_data_n.head()\n",
    "\n"
   ]
  },
  {
   "cell_type": "code",
   "execution_count": 281,
   "metadata": {},
   "outputs": [
    {
     "data": {
      "image/png": "[encoded data removed]",
      "text/plain": [
       "<matplotlib.figure.Figure at 0x7f6bc874b898>"
      ]
     },
     "metadata": {},
     "output_type": "display_data"
    },
    {
     "data": {
      "image/png": "[encoded data removed]",
      "text/plain": [
       "<matplotlib.figure.Figure at 0x7f6bc84370f0>"
      ]
     },
     "metadata": {},
     "output_type": "display_data"
    }
   ],
   "source": [
    "#Tangent: The syntethic data looks a lot like the real data\n",
    "means_real = training_set_kettle.mean(axis=1).sort_values().reset_index(drop=True)\n",
    "means_synth = syntethic_data[:means_real.size].mean(axis=1).sort_values().reset_index(drop=True)\n",
    "plt.hist(means_real,alpha=0.5, bins=20, range=(0,4000))\n",
    "plt.hist(means_synth,alpha=0.5,color='orange', bins=20, range=(0,4000))\n",
    "plt.show()\n",
    "\n",
    "stds_real = training_set_kettle.std(axis=1).sort_values().reset_index(drop=True)\n",
    "stds_synth = syntethic_data[:stds_real.size].std(axis=1).sort_values().reset_index(drop=True)\n",
    "plt.hist(stds_real,alpha=0.5,bins=20, range=(0,4000))\n",
    "plt.hist(stds_synth,alpha=0.5,color='orange',bins=20, range=(0,4000))\n",
    "plt.show()"
   ]
  },
  {
   "cell_type": "code",
   "execution_count": 282,
   "metadata": {},
   "outputs": [
    {
     "name": "stdout",
     "output_type": "stream",
     "text": [
      "Mean:  1.054152594e-16\n",
      "Std:  1.5771109766\n"
     ]
    }
   ],
   "source": [
    "mean = X_np.mean()\n",
    "X_np = X_np - mean\n",
    "sd = X_np.std(axis=1).mean()\n",
    "#rand_sd = rand_sd.sample(frac=1).reset_index(drop=True)\n",
    "X_np /= sd\n",
    "print(\"Mean: \", X_np.mean())\n",
    "print(\"Std: \", X_np.std())\n",
    "\n",
    "normalization_params = pd.DataFrame([[mean,sd]],columns=['mean','sd'])\n",
    "normalization_params.to_csv('../master_data/nilm/normalization_params.csv',sep=' ')"
   ]
  },
  {
   "cell_type": "code",
   "execution_count": 105,
   "metadata": {},
   "outputs": [
    {
     "name": "stdout",
     "output_type": "stream",
     "text": [
      "(12813, 131)\n"
     ]
    }
   ],
   "source": [
    "#data = pd.concat([training_set_kettle,response_kettle],axis=1)\n",
    "#data = data.sample(frac=1).reset_index(drop=True)\n",
    "\n",
    "#split = int(data.shape[0]*0.5)\n",
    "#training_set = data[:split]\n",
    "#test_set = data[split:]\n",
    "\n",
    "#syntethic_training_set = pd.concat([syntethic_data,syntethic_response],axis=1)\n",
    "#col_dict = dict(zip(syntethic_training_set.columns.values,training_set.columns.values))\n",
    "#training_set = training_set.append(syntethic_training_set.rename(columns=col_dict))\n",
    "#print(training_set.shape)\n",
    "#X_train = training_set.iloc[:,:-3]\n",
    "#y_train = training_set.iloc[:,-3:]\n",
    "\n",
    "#X_test = test_set.iloc[:,:-3]\n",
    "#y_test = test_set.iloc[:,-3:]\n",
    "\n",
    "#X_train_np = np.array(X_train,dtype=np.float64).reshape((X_train.shape[0],X_train.shape[1],1))\n",
    "#y_train_np = np.array(y_train,dtype=np.float64).reshape((y_train.shape[0],y_train.shape[1]))\n",
    "\n",
    "#X_test_np = np.array(X_test,dtype=np.float64).reshape((X_test.shape[0],X_test.shape[1],1))\n",
    "#y_test_np = np.array(y_test,dtype=np.float64).reshape((y_test.shape[0],y_test.shape[1]))\n",
    "\n",
    "#some cleaning (some of the syntethic data contained 0-length signals?)\n",
    "#dirty_train = []\n",
    "#for i in range(y_train_np.shape[0]):\n",
    "#    if np.isnan(y_train_np[i]).any():\n",
    "#        dirty_train.append(i)\n",
    "#y_train_np = np.delete(y_train_np, dirty_train,axis=0)\n",
    "#X_train_np = np.delete(X_train_np, dirty_train,axis=0)\n",
    "\n",
    "#dirty_test = []\n",
    "#for i in range(y_test_np.shape[0]):\n",
    "#    if np.isnan(y_test_np[i]).any():\n",
    "#        dirty_test.append(i)\n",
    "#y_test_np = np.delete(y_test_np, dirty_test,axis=0)\n",
    "#X_test_np = np.delete(X_test_np, dirty_test,axis=0)\n",
    "\n"
   ]
  },
  {
   "cell_type": "code",
   "execution_count": 283,
   "metadata": {},
   "outputs": [],
   "source": [
    "#Tensorflow uses shape [samples][height][width][channels] \n",
    "\n",
    "layer1 = Conv1D(filters=16, input_shape = (sample_length,1,),kernel_size=4,\n",
    "                activation='linear',padding='valid', strides=1)\n",
    "layer2 = Conv1D(filters=16, kernel_size=4,activation='linear',padding='valid', strides=1)\n",
    "layer2_b = Flatten()\n",
    "layer3 = Dense(units=4096,activation='relu')\n",
    "layer4 = Dense(units=3072,activation='relu')\n",
    "layer5 = Dense(units=2048,activation='relu')\n",
    "layer6 = Dense(units=512,activation='relu')\n",
    "outputs = Dense(units=3,activation='linear')\n",
    "\n",
    "model = Sequential()\n",
    "\n",
    "model.add(layer1)\n",
    "model.add(layer2)\n",
    "model.add(layer2_b)\n",
    "model.add(layer3)\n",
    "model.add(layer4)\n",
    "model.add(layer5)\n",
    "model.add(layer6)\n",
    "model.add(outputs)"
   ]
  },
  {
   "cell_type": "code",
   "execution_count": 284,
   "metadata": {
    "scrolled": false
   },
   "outputs": [
    {
     "name": "stdout",
     "output_type": "stream",
     "text": [
      "(15583, 128, 1) (15583, 3)\n",
      "Epoch 1/10\n",
      "15583/15583 [==============================] - 181s 12ms/step - loss: 376888.7166 - mean_absolute_error: 220.2934\n",
      "Epoch 2/10\n",
      "15583/15583 [==============================] - 183s 12ms/step - loss: 214145.7250 - mean_absolute_error: 165.8566\n",
      "Epoch 3/10\n",
      "15583/15583 [==============================] - 165s 11ms/step - loss: 191569.7826 - mean_absolute_error: 154.7374\n",
      "Epoch 4/10\n",
      "15583/15583 [==============================] - 187s 12ms/step - loss: 180063.4963 - mean_absolute_error: 147.4242\n",
      "Epoch 5/10\n",
      "15583/15583 [==============================] - 206s 13ms/step - loss: 172279.3421 - mean_absolute_error: 143.3909\n",
      "Epoch 6/10\n",
      "15583/15583 [==============================] - 164s 11ms/step - loss: 167002.1644 - mean_absolute_error: 139.9268\n",
      "Epoch 7/10\n",
      "15583/15583 [==============================] - 168s 11ms/step - loss: 161981.9889 - mean_absolute_error: 137.2595\n",
      "Epoch 8/10\n",
      "15583/15583 [==============================] - 161s 10ms/step - loss: 154992.7546 - mean_absolute_error: 132.8229\n",
      "Epoch 9/10\n",
      "15583/15583 [==============================] - 162s 10ms/step - loss: 149475.4233 - mean_absolute_error: 129.9769\n",
      "Epoch 10/10\n",
      "15583/15583 [==============================] - 155s 10ms/step - loss: 146075.8918 - mean_absolute_error: 127.1253\n"
     ]
    },
    {
     "data": {
      "text/plain": [
       "<keras.callbacks.History at 0x7f6b85e3c3c8>"
      ]
     },
     "execution_count": 284,
     "metadata": {},
     "output_type": "execute_result"
    }
   ],
   "source": [
    "\n",
    "print(X_np.shape, y_np.shape)\n",
    "model.compile(optimizer='rmsprop',\n",
    "              loss='mean_squared_error',\n",
    "              metrics=['mae'])\n",
    "\n",
    "model.fit(X_np, y_np, batch_size=64,verbose=1,epochs=10)"
   ]
  },
  {
   "cell_type": "code",
   "execution_count": 286,
   "metadata": {
    "collapsed": true
   },
   "outputs": [],
   "source": [
    "model.save('../master_data/nilm/models/model0118.h5')"
   ]
  }
 ],
 "metadata": {
  "kernelspec": {
   "display_name": "Python (nilmtk)",
   "language": "python",
   "name": "nilmtk-env"
  },
  "language_info": {
   "codemirror_mode": {
    "name": "ipython",
    "version": 3
   },
   "file_extension": ".py",
   "mimetype": "text/x-python",
   "name": "python",
   "nbconvert_exporter": "python",
   "pygments_lexer": "ipython3",
   "version": "3.6.2"
  }
 },
 "nbformat": 4,
 "nbformat_minor": 2
}
