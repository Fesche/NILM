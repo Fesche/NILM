{
 "cells": [
  {
   "cell_type": "code",
   "execution_count": 1,
   "metadata": {
    "collapsed": true
   },
   "outputs": [],
   "source": [
    "import numpy as np\n",
    "import pandas as pd"
   ]
  },
  {
   "cell_type": "markdown",
   "metadata": {},
   "source": [
    "### Preparing the data\n",
    "\n",
    "Appliances:<br>\n",
    "Washing machine: 5<br>\n",
    "Dishwasher: 6<br>\n",
    "Kettle: 10<br>\n",
    "Fridge: 12<br>\n",
    "Microwave: 13<br>"
   ]
  },
  {
   "cell_type": "code",
   "execution_count": 4,
   "metadata": {},
   "outputs": [
    {
     "name": "stderr",
     "output_type": "stream",
     "text": [
      "/home/bjornif/anaconda3/lib/python3.6/site-packages/numpy/lib/arraysetops.py:463: FutureWarning: elementwise comparison failed; returning scalar instead, but in the future will perform elementwise comparison\n",
      "  mask |= (ar1 == a)\n"
     ]
    }
   ],
   "source": [
    "house1_aggregate = pd.read_csv('../master_data/house_1/channel_1.dat', header = None,\n",
    "                                    names = [\"Time\",\"Power\"], delim_whitespace = True,\n",
    "                                    index_col = 0)\n",
    "#wm_power = pd.read_csv('house_1/channel_5.dat', header = None,\n",
    "#                                    names = [\"Time\",\"Power\"], delim_whitespace = True,\n",
    "#                                    index_col = 0)\n",
    "#wm_button = pd.read_csv('house_1/channel_5_button_press.dat', header = None,\n",
    "#                                    names = [\"Time\",\"Power\"], delim_whitespace = True,\n",
    "#                                    index_col = 0)\n",
    "#dw_power = pd.read_csv('house_1/channel_6.dat', header = None,\n",
    "#                                    names = [\"Time\",\"Power\"], delim_whitespace = True,\n",
    "#                                    index_col = 0)\n",
    "#dw_button = pd.read_csv('house_1/channel_6_button_press.dat', header = None,\n",
    "#                                    names = [\"Time\",\"Power\"], delim_whitespace = True,\n",
    "#                                    index_col = 0)\n",
    "#kettle_power = pd.read_csv('../master_data/house_1/channel_10.dat', header = None,\n",
    "#                                    names = [\"Time\",\"Power\"], delim_whitespace = True,\n",
    "#                                    index_col = 0)\n",
    "#kettle_button = pd.read_csv('../master_data/house_1/channel_10_button_press.dat', header = None,\n",
    "#                                    names = [\"Time\",\"Power\"], delim_whitespace = True,\n",
    "#                                    index_col = 0)\n",
    "fridge_power = pd.read_csv('../master_data/house_1/channel_12.dat', header = None,\n",
    "                                    names = [\"Time\",\"Power\"], delim_whitespace = True,\n",
    "                                    index_col = 0)\n",
    "fridge_button = pd.read_csv('../master_data/house_1/channel_12_button_press.dat', header = None,\n",
    "                                    names = [\"Time\",\"Power\"], delim_whitespace = True,\n",
    "                                    index_col = 0)\n",
    "#mw_power = pd.read_csv('../master_data/house_1/channel_13.dat', header = None,\n",
    "#                                    names = [\"Time\",\"Power\"], delim_whitespace = True,\n",
    "#                                    index_col = 0)\n",
    "#mw_button = pd.read_csv('../master_data/house_1/channel_13_button_press.dat', header = None,\n",
    "#                                    names = [\"Time\",\"Power\"], delim_whitespace = True,\n",
    "#                                    index_col = 0)\n"
   ]
  },
  {
   "cell_type": "code",
   "execution_count": null,
   "metadata": {},
   "outputs": [],
   "source": [
    "\n"
   ]
  },
  {
   "cell_type": "markdown",
   "metadata": {},
   "source": [
    "The button data seems to have been recorded three months later than the signal data."
   ]
  },
  {
   "cell_type": "code",
   "execution_count": 5,
   "metadata": {
    "collapsed": true
   },
   "outputs": [],
   "source": [
    "#Extract activations from the appliance signal data. The default optional parameters are the same used for\n",
    "#microwave activations by Kelly&Knottenbelt. Takes a while.\n",
    "\n",
    "def get_activations(power_series, min_off_duration=30, min_on_duration=12,\n",
    "                        border=1, power_threshold=200):\n",
    "    activations = []\n",
    "    signal_start = None\n",
    "    signal_end = None\n",
    "    no_signal = 0\n",
    "    current_signal = []\n",
    "    series_length = len(power_series)\n",
    "    series_length_percent = int(len(power_series)/100)\n",
    "    measurements_processed = 0\n",
    "    \n",
    "    power_series.index = pd.to_datetime(power_series.index,unit='s')\n",
    "    min_off_duration = pd.Timedelta(str(min_off_duration) + 's')\n",
    "    min_on_duration = pd.Timedelta(str(min_off_duration) + 's')\n",
    "    timestep = pd.Timedelta('6s')\n",
    "    \n",
    "    for time in power_series.index:\n",
    "        measurement = power_series.loc[time]['Power']\n",
    "        measurements_processed +=1\n",
    "        \n",
    "        if measurements_processed % series_length_percent == 0:\n",
    "            print(str(measurements_processed/series_length_percent) + '%')\n",
    "        \n",
    "        if (measurement >= power_threshold):\n",
    "            if signal_start is None:\n",
    "                signal_start = time - timestep\n",
    "            no_signal = 0\n",
    "            current_signal.append(measurement)\n",
    "            signal_end = time + timestep\n",
    "            \n",
    "        else:\n",
    "            if signal_end is not None:\n",
    "                no_signal = time - signal_end\n",
    "                if (no_signal >= min_off_duration) and (signal_start is not None):\n",
    "                    if (signal_end - signal_start) > min_on_duration:\n",
    "                        mean_power = np.mean(current_signal)\n",
    "                        activations.append([signal_start,signal_end,mean_power])\n",
    "                    current_signal = []\n",
    "                    signal_start = None\n",
    "                    signal_end = None\n",
    "    \n",
    "    return activations"
   ]
  },
  {
   "cell_type": "code",
   "execution_count": 7,
   "metadata": {},
   "outputs": [
    {
     "name": "stdout",
     "output_type": "stream",
     "text": [
      "1.0%\n",
      "2.0%\n",
      "3.0%\n",
      "4.0%\n",
      "5.0%\n",
      "6.0%\n",
      "7.0%\n",
      "8.0%\n",
      "9.0%\n",
      "10.0%\n",
      "11.0%\n",
      "12.0%\n",
      "13.0%\n",
      "14.0%\n",
      "15.0%\n",
      "16.0%\n",
      "17.0%\n",
      "18.0%\n",
      "19.0%\n",
      "20.0%\n",
      "21.0%\n",
      "22.0%\n",
      "23.0%\n",
      "24.0%\n",
      "25.0%\n",
      "26.0%\n",
      "27.0%\n",
      "28.0%\n",
      "29.0%\n",
      "30.0%\n",
      "31.0%\n",
      "32.0%\n",
      "33.0%\n",
      "34.0%\n",
      "35.0%\n",
      "36.0%\n",
      "37.0%\n",
      "38.0%\n",
      "39.0%\n",
      "40.0%\n",
      "41.0%\n",
      "42.0%\n",
      "43.0%\n",
      "44.0%\n",
      "45.0%\n",
      "46.0%\n",
      "47.0%\n",
      "48.0%\n",
      "49.0%\n",
      "50.0%\n",
      "51.0%\n",
      "52.0%\n",
      "53.0%\n",
      "54.0%\n",
      "55.0%\n",
      "56.0%\n",
      "57.0%\n",
      "58.0%\n",
      "59.0%\n",
      "60.0%\n",
      "61.0%\n",
      "62.0%\n",
      "63.0%\n",
      "64.0%\n",
      "65.0%\n",
      "66.0%\n",
      "67.0%\n",
      "68.0%\n",
      "69.0%\n",
      "70.0%\n",
      "71.0%\n",
      "72.0%\n",
      "73.0%\n",
      "74.0%\n",
      "75.0%\n",
      "76.0%\n",
      "77.0%\n",
      "78.0%\n",
      "79.0%\n",
      "80.0%\n",
      "81.0%\n",
      "82.0%\n",
      "83.0%\n",
      "84.0%\n",
      "85.0%\n",
      "86.0%\n",
      "87.0%\n",
      "88.0%\n",
      "89.0%\n",
      "90.0%\n",
      "91.0%\n",
      "92.0%\n",
      "93.0%\n",
      "94.0%\n",
      "95.0%\n",
      "96.0%\n",
      "97.0%\n",
      "98.0%\n",
      "99.0%\n",
      "100.0%\n"
     ]
    }
   ],
   "source": [
    "fridge_activations = get_activations(fridge_power, power_threshold=50, min_on_duration=60, min_off_duration=12)\n"
   ]
  },
  {
   "cell_type": "code",
   "execution_count": 8,
   "metadata": {
    "collapsed": true
   },
   "outputs": [],
   "source": [
    "fridge_activations_pd = pd.DataFrame(fridge_activations)\n",
    "fridge_activations_pd.to_csv('../master_data/nilm/fridge_activations.dat', sep = ' ')"
   ]
  },
  {
   "cell_type": "code",
   "execution_count": null,
   "metadata": {},
   "outputs": [],
   "source": [
    "#fridge_activations = get_activations(fridge_power)\n",
    "#wm_activations = get_activations(wm_power)\n",
    "#dw_activations = get_activations(dw_power)\n",
    "#mw_activations = get_activations(mw_power)\n"
   ]
  },
  {
   "cell_type": "code",
   "execution_count": null,
   "metadata": {
    "collapsed": true
   },
   "outputs": [],
   "source": [
    "#fridge_activations_pd = pd.DataFrame(fridge_activations)\n",
    "#wm_activations_pd = pd.DataFrame(wm_activations)\n",
    "#kettle_activations_pd = pd.DataFrame(kettle_activations)\n",
    "#dw_activations_pd = pd.DataFrame(dw_activations)\n",
    "#dw_activations_pd.to_csv('dw_activations.dat', sep = ' ')\n",
    "#wm_activations_pd.to_csv('wm_activations.dat', sep = ' ')\n",
    "#fridge_activations_pd.to_csv('fridge_activations.dat', sep = ' ')\n",
    "#kettle_activations_pd.to_csv('kettle_activations.dat', sep = ' ')"
   ]
  },
  {
   "cell_type": "markdown",
   "metadata": {},
   "source": [
    "Done."
   ]
  }
 ],
 "metadata": {
  "kernelspec": {
   "display_name": "Python (nilmtk)",
   "language": "python",
   "name": "nilmtk-env"
  },
  "language_info": {
   "codemirror_mode": {
    "name": "ipython",
    "version": 3
   },
   "file_extension": ".py",
   "mimetype": "text/x-python",
   "name": "python",
   "nbconvert_exporter": "python",
   "pygments_lexer": "ipython3",
   "version": "3.6.2"
  }
 },
 "nbformat": 4,
 "nbformat_minor": 2
}
