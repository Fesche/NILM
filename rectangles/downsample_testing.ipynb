{
 "cells": [
  {
   "cell_type": "markdown",
   "metadata": {},
   "source": [
    "# Downsampling\n",
    "Here a model trained on 15 min resolution data is tested on data at 15 min resolution."
   ]
  },
  {
   "cell_type": "code",
   "execution_count": 119,
   "metadata": {
    "collapsed": true
   },
   "outputs": [],
   "source": [
    "from matplotlib import pyplot as plt\n",
    "import pandas as pd\n",
    "import numpy as np\n",
    "from matplotlib import pyplot as plt"
   ]
  },
  {
   "cell_type": "code",
   "execution_count": 120,
   "metadata": {
    "collapsed": true
   },
   "outputs": [],
   "source": [
    "sample_length = 32\n"
   ]
  },
  {
   "cell_type": "markdown",
   "metadata": {},
   "source": [
    "Testing on house 2"
   ]
  },
  {
   "cell_type": "code",
   "execution_count": 121,
   "metadata": {
    "scrolled": true
   },
   "outputs": [
    {
     "name": "stderr",
     "output_type": "stream",
     "text": [
      "/home/bjornif/anaconda3/lib/python3.6/site-packages/numpy/lib/arraysetops.py:463: FutureWarning: elementwise comparison failed; returning scalar instead, but in the future will perform elementwise comparison\n",
      "  mask |= (ar1 == a)\n"
     ]
    },
    {
     "data": {
      "text/html": [
       "<div>\n",
       "<style>\n",
       "    .dataframe thead tr:only-child th {\n",
       "        text-align: right;\n",
       "    }\n",
       "\n",
       "    .dataframe thead th {\n",
       "        text-align: left;\n",
       "    }\n",
       "\n",
       "    .dataframe tbody tr th {\n",
       "        vertical-align: top;\n",
       "    }\n",
       "</style>\n",
       "<table border=\"1\" class=\"dataframe\">\n",
       "  <thead>\n",
       "    <tr style=\"text-align: right;\">\n",
       "      <th></th>\n",
       "      <th>Power</th>\n",
       "    </tr>\n",
       "    <tr>\n",
       "      <th>Time</th>\n",
       "      <th></th>\n",
       "    </tr>\n",
       "  </thead>\n",
       "  <tbody>\n",
       "    <tr>\n",
       "      <th>1361116822</th>\n",
       "      <td>0</td>\n",
       "    </tr>\n",
       "    <tr>\n",
       "      <th>1361116825</th>\n",
       "      <td>0</td>\n",
       "    </tr>\n",
       "    <tr>\n",
       "      <th>1361116831</th>\n",
       "      <td>0</td>\n",
       "    </tr>\n",
       "    <tr>\n",
       "      <th>1361116837</th>\n",
       "      <td>0</td>\n",
       "    </tr>\n",
       "    <tr>\n",
       "      <th>1361116843</th>\n",
       "      <td>0</td>\n",
       "    </tr>\n",
       "  </tbody>\n",
       "</table>\n",
       "</div>"
      ],
      "text/plain": [
       "            Power\n",
       "Time             \n",
       "1361116822      0\n",
       "1361116825      0\n",
       "1361116831      0\n",
       "1361116837      0\n",
       "1361116843      0"
      ]
     },
     "execution_count": 121,
     "metadata": {},
     "output_type": "execute_result"
    }
   ],
   "source": [
    "aggregate_power = pd.read_csv('../master_data/house_2/channel_1.dat', header = None,\n",
    "                                names = [\"Time\",\"Power\"], delim_whitespace = True,\n",
    "                                index_col = 0)\n",
    "aggregate_power.index = pd.to_datetime(aggregate_power.index,unit='s')\n",
    "\n",
    "kettle_power = pd.read_csv('../master_data/house_2/channel_8.dat', header = None,\n",
    "                                names = [\"Time\",\"Power\"], delim_whitespace = True,\n",
    "                                index_col = 0)\n",
    "\n",
    "\n",
    "kettle_power.head()"
   ]
  },
  {
   "cell_type": "code",
   "execution_count": 122,
   "metadata": {
    "collapsed": true
   },
   "outputs": [],
   "source": [
    "def get_activations(power_series, min_off_duration=30, min_on_duration=12,\n",
    "                        border=1, power_threshold=200):\n",
    "    activations = []\n",
    "    signal_start = None\n",
    "    signal_end = None\n",
    "    no_signal = 0\n",
    "    current_signal = []\n",
    "    series_length = len(power_series)\n",
    "    series_length_percent = int(len(power_series)/100)\n",
    "    measurements_processed = 0\n",
    "    \n",
    "    power_series.index = pd.to_datetime(power_series.index,unit='s')\n",
    "    min_off_duration = pd.Timedelta(str(min_off_duration) + 's')\n",
    "    min_on_duration = pd.Timedelta(str(min_off_duration) + 's')\n",
    "    timestep = pd.Timedelta('6s')\n",
    "    \n",
    "    for time in power_series.index:\n",
    "        measurement = power_series.loc[time]['Power']\n",
    "        measurements_processed +=1\n",
    "        \n",
    "        if measurements_processed % series_length_percent == 0:\n",
    "            print(str(measurements_processed/series_length_percent) + '%')\n",
    "        \n",
    "        if (measurement >= power_threshold):\n",
    "            if signal_start is None:\n",
    "                signal_start = time - timestep\n",
    "            no_signal = 0\n",
    "            current_signal.append(measurement)\n",
    "            signal_end = time + timestep\n",
    "            \n",
    "        else:\n",
    "            if signal_end is not None:\n",
    "                no_signal = time - signal_end\n",
    "                if (no_signal >= min_off_duration) and (signal_start is not None):\n",
    "                    if (signal_end - signal_start) > min_on_duration:\n",
    "                        mean_power = np.mean(current_signal)\n",
    "                        activations.append([signal_start,signal_end,mean_power])\n",
    "                    current_signal = []\n",
    "                    signal_start = None\n",
    "                    signal_end = None\n",
    "    \n",
    "    return activations"
   ]
  },
  {
   "cell_type": "code",
   "execution_count": 5,
   "metadata": {},
   "outputs": [
    {
     "name": "stdout",
     "output_type": "stream",
     "text": [
      "1.0%\n",
      "2.0%\n",
      "3.0%\n",
      "4.0%\n",
      "5.0%\n",
      "6.0%\n",
      "7.0%\n",
      "8.0%\n",
      "9.0%\n",
      "10.0%\n",
      "11.0%\n",
      "12.0%\n",
      "13.0%\n",
      "14.0%\n",
      "15.0%\n",
      "16.0%\n",
      "17.0%\n",
      "18.0%\n",
      "19.0%\n",
      "20.0%\n",
      "21.0%\n",
      "22.0%\n",
      "23.0%\n",
      "24.0%\n",
      "25.0%\n",
      "26.0%\n",
      "27.0%\n",
      "28.0%\n",
      "29.0%\n",
      "30.0%\n",
      "31.0%\n",
      "32.0%\n",
      "33.0%\n",
      "34.0%\n",
      "35.0%\n",
      "36.0%\n",
      "37.0%\n",
      "38.0%\n",
      "39.0%\n",
      "40.0%\n",
      "41.0%\n",
      "42.0%\n",
      "43.0%\n",
      "44.0%\n",
      "45.0%\n",
      "46.0%\n",
      "47.0%\n",
      "48.0%\n",
      "49.0%\n",
      "50.0%\n",
      "51.0%\n",
      "52.0%\n",
      "53.0%\n",
      "54.0%\n",
      "55.0%\n",
      "56.0%\n",
      "57.0%\n",
      "58.0%\n",
      "59.0%\n",
      "60.0%\n",
      "61.0%\n",
      "62.0%\n",
      "63.0%\n",
      "64.0%\n",
      "65.0%\n",
      "66.0%\n",
      "67.0%\n",
      "68.0%\n",
      "69.0%\n",
      "70.0%\n",
      "71.0%\n",
      "72.0%\n",
      "73.0%\n",
      "74.0%\n",
      "75.0%\n",
      "76.0%\n",
      "77.0%\n",
      "78.0%\n",
      "79.0%\n",
      "80.0%\n",
      "81.0%\n",
      "82.0%\n",
      "83.0%\n",
      "84.0%\n",
      "85.0%\n",
      "86.0%\n",
      "87.0%\n",
      "88.0%\n",
      "89.0%\n",
      "90.0%\n",
      "91.0%\n",
      "92.0%\n",
      "93.0%\n",
      "94.0%\n",
      "95.0%\n",
      "96.0%\n",
      "97.0%\n",
      "98.0%\n",
      "99.0%\n",
      "100.0%\n"
     ]
    }
   ],
   "source": [
    "kettle_activations = get_activations(kettle_power)"
   ]
  },
  {
   "cell_type": "code",
   "execution_count": 6,
   "metadata": {},
   "outputs": [
    {
     "data": {
      "text/html": [
       "<div>\n",
       "<style>\n",
       "    .dataframe thead tr:only-child th {\n",
       "        text-align: right;\n",
       "    }\n",
       "\n",
       "    .dataframe thead th {\n",
       "        text-align: left;\n",
       "    }\n",
       "\n",
       "    .dataframe tbody tr th {\n",
       "        vertical-align: top;\n",
       "    }\n",
       "</style>\n",
       "<table border=\"1\" class=\"dataframe\">\n",
       "  <thead>\n",
       "    <tr style=\"text-align: right;\">\n",
       "      <th></th>\n",
       "      <th>start</th>\n",
       "      <th>end</th>\n",
       "      <th>mean_power</th>\n",
       "    </tr>\n",
       "  </thead>\n",
       "  <tbody>\n",
       "    <tr>\n",
       "      <th>0</th>\n",
       "      <td>2013-04-17 08:01:11</td>\n",
       "      <td>2013-04-17 08:03:11</td>\n",
       "      <td>2846.210526</td>\n",
       "    </tr>\n",
       "    <tr>\n",
       "      <th>1</th>\n",
       "      <td>2013-04-17 16:23:28</td>\n",
       "      <td>2013-04-17 16:26:22</td>\n",
       "      <td>3016.071429</td>\n",
       "    </tr>\n",
       "    <tr>\n",
       "      <th>2</th>\n",
       "      <td>2013-04-17 19:11:30</td>\n",
       "      <td>2013-04-17 19:15:12</td>\n",
       "      <td>2897.971429</td>\n",
       "    </tr>\n",
       "    <tr>\n",
       "      <th>3</th>\n",
       "      <td>2013-04-17 20:40:15</td>\n",
       "      <td>2013-04-17 20:43:21</td>\n",
       "      <td>2998.500000</td>\n",
       "    </tr>\n",
       "    <tr>\n",
       "      <th>4</th>\n",
       "      <td>2013-04-18 15:32:01</td>\n",
       "      <td>2013-04-18 15:35:01</td>\n",
       "      <td>3007.241379</td>\n",
       "    </tr>\n",
       "  </tbody>\n",
       "</table>\n",
       "</div>"
      ],
      "text/plain": [
       "                start                 end   mean_power\n",
       "0 2013-04-17 08:01:11 2013-04-17 08:03:11  2846.210526\n",
       "1 2013-04-17 16:23:28 2013-04-17 16:26:22  3016.071429\n",
       "2 2013-04-17 19:11:30 2013-04-17 19:15:12  2897.971429\n",
       "3 2013-04-17 20:40:15 2013-04-17 20:43:21  2998.500000\n",
       "4 2013-04-18 15:32:01 2013-04-18 15:35:01  3007.241379"
      ]
     },
     "execution_count": 6,
     "metadata": {},
     "output_type": "execute_result"
    }
   ],
   "source": [
    "kettle_activations_pd = pd.DataFrame(kettle_activations, columns = ['start','end','mean_power'])\n",
    "kettle_activations_pd['start'] = pd.to_datetime(kettle_activations_pd['start'])\n",
    "kettle_activations_pd['end'] = pd.to_datetime(kettle_activations_pd['end'])\n",
    "\n",
    "kettle_activations_pd.head()"
   ]
  },
  {
   "cell_type": "code",
   "execution_count": 7,
   "metadata": {},
   "outputs": [
    {
     "name": "stdout",
     "output_type": "stream",
     "text": [
      "2013-04-26 06:22:03 2013-04-26 06:25:39\n"
     ]
    },
    {
     "data": {
      "image/png": "[encoded data removed]",
      "text/plain": [
       "<matplotlib.figure.Figure at 0x7fa381d12b70>"
      ]
     },
     "metadata": {},
     "output_type": "display_data"
    }
   ],
   "source": [
    "for _ in range(1):\n",
    "    dice = np.random.randint(0,100)\n",
    "    start = kettle_activations_pd.iloc[dice]['start']\n",
    "    end = kettle_activations_pd.iloc[dice]['end']\n",
    "    print(start,end)\n",
    "    aggregate_power[start:end].plot()\n",
    "    plt.show()"
   ]
  },
  {
   "cell_type": "code",
   "execution_count": 89,
   "metadata": {
    "collapsed": true
   },
   "outputs": [],
   "source": [
    "def clean_power_series(aggregate_power, activations):\n",
    "    \n",
    "    temp_ap = aggregate_power.copy()\n",
    "    \n",
    "    n = activations.shape[0]\n",
    "\n",
    "    #pcent = int(n/100)\n",
    "    ap_sans_activations = pd.DataFrame()\n",
    "    \n",
    "    ap_sans_activations.append(temp_ap[:activations['start'][0]])\n",
    "    \n",
    "    for i in range(1,n):\n",
    "        ap_sans_activations = ap_sans_activations.append(temp_ap[activations['end'][i-1]:activations['start'][i]])\n",
    "    \n",
    "    ap_sans_activations.append(temp_ap[activations['end'][i]:])\n",
    "    \n",
    "    return ap_sans_activations\n",
    "\n",
    "\n",
    "def create_training_set(aggregate_power, activations, ap_sans_activations = None, sample_length = 128, pad = 1024):\n",
    "    training_set = pd.DataFrame(columns = np.linspace(0,1,sample_length))\n",
    "    training_set_response = pd.DataFrame(columns = ['start','end','mean_power'])\n",
    "\n",
    "    #aggregate power sans the activation intervals\n",
    "    if ap_sans_activations is None:\n",
    "        ap_sans_activations = clean_power_series(aggregate_power,activations)\n",
    "\n",
    "    n = aggregate_power.shape[0]\n",
    "    j = 0\n",
    "    for i in range(activations.shape[0]):\n",
    "        if i % 100 == 0:\n",
    "            print(i)\n",
    "        while True:\n",
    "            dice = np.random.random()\n",
    "            if dice < 0.5:\n",
    "                start = activations['start'][i]\n",
    "                end = activations['end'][i]\n",
    "                #randomly place the chosen signal in a window.\n",
    "                #note that the entire signal is always in the window \n",
    "                sample_start = start - pd.Timedelta(np.random.randint(0,pad),unit='s')\n",
    "                sample_end = end + pd.Timedelta(np.random.randint(0,pad),unit='s')\n",
    "                sample = aggregate_power[sample_start:sample_end]\n",
    "                while sample.shape[0] > sample_length:\n",
    "                    if np.random.random() > 0.5 and end < sample.index[-1]:\n",
    "                        sample = sample.iloc[:-1]\n",
    "                    elif start > sample.index[0]:\n",
    "                        sample = sample.iloc[1:]\n",
    "                    else:\n",
    "                        sample = sample.iloc[0:1]\n",
    "                \n",
    "                if not sample.shape[0] < sample_length:\n",
    "                    \n",
    "                    #sample = sample.reindex(columns=training_set.columns, method='nearest')\n",
    "                    start_fraction = (start - sample.index[0])/(sample.index[-1] - sample.index[0])\n",
    "                    end_fraction = (end - sample.index[0])/(sample.index[-1] - sample.index[0])\n",
    "                    training_set.loc[j] = sample.T.values[0]\n",
    "                    training_set_response.loc[j] = [start_fraction,end_fraction,activations['mean_power'][i]]\n",
    "                    j+=1\n",
    "                \n",
    "                break\n",
    "                \n",
    "                \n",
    "            ri = np.random.randint(0,ap_sans_activations.shape[0]-sample_length)\n",
    "            sample = ap_sans_activations.iloc[ri: ri+sample_length]\n",
    "            training_set.loc[j] = sample.T.values[0]\n",
    "            training_set_response.loc[j] = [0,0,0]\n",
    "            j+=1\n",
    "            \n",
    "    return training_set, training_set_response\n",
    "\n"
   ]
  },
  {
   "cell_type": "code",
   "execution_count": 111,
   "metadata": {},
   "outputs": [
    {
     "name": "stdout",
     "output_type": "stream",
     "text": [
      "(2780373, 1) (22517, 1)\n"
     ]
    },
    {
     "data": {
      "text/html": [
       "<div>\n",
       "<style>\n",
       "    .dataframe thead tr:only-child th {\n",
       "        text-align: right;\n",
       "    }\n",
       "\n",
       "    .dataframe thead th {\n",
       "        text-align: left;\n",
       "    }\n",
       "\n",
       "    .dataframe tbody tr th {\n",
       "        vertical-align: top;\n",
       "    }\n",
       "</style>\n",
       "<table border=\"1\" class=\"dataframe\">\n",
       "  <thead>\n",
       "    <tr style=\"text-align: right;\">\n",
       "      <th></th>\n",
       "      <th>Power</th>\n",
       "    </tr>\n",
       "    <tr>\n",
       "      <th>Time</th>\n",
       "      <th></th>\n",
       "    </tr>\n",
       "  </thead>\n",
       "  <tbody>\n",
       "    <tr>\n",
       "      <th>2013-02-17 16:15:00</th>\n",
       "      <td>433.016393</td>\n",
       "    </tr>\n",
       "    <tr>\n",
       "      <th>2013-02-17 16:30:00</th>\n",
       "      <td>483.034247</td>\n",
       "    </tr>\n",
       "    <tr>\n",
       "      <th>2013-02-17 16:45:00</th>\n",
       "      <td>968.544828</td>\n",
       "    </tr>\n",
       "    <tr>\n",
       "      <th>2013-02-17 17:00:00</th>\n",
       "      <td>521.678082</td>\n",
       "    </tr>\n",
       "    <tr>\n",
       "      <th>2013-02-17 17:15:00</th>\n",
       "      <td>650.234483</td>\n",
       "    </tr>\n",
       "  </tbody>\n",
       "</table>\n",
       "</div>"
      ],
      "text/plain": [
       "                          Power\n",
       "Time                           \n",
       "2013-02-17 16:15:00  433.016393\n",
       "2013-02-17 16:30:00  483.034247\n",
       "2013-02-17 16:45:00  968.544828\n",
       "2013-02-17 17:00:00  521.678082\n",
       "2013-02-17 17:15:00  650.234483"
      ]
     },
     "execution_count": 111,
     "metadata": {},
     "output_type": "execute_result"
    }
   ],
   "source": [
    "#downsample the input:\n",
    "aggregate_power_15m = aggregate_power.resample('15min').mean()\n",
    "print(aggregate_power.shape, aggregate_power_15m.shape)\n",
    "aggregate_power_15m.head()"
   ]
  },
  {
   "cell_type": "code",
   "execution_count": null,
   "metadata": {
    "collapsed": true
   },
   "outputs": [],
   "source": []
  },
  {
   "cell_type": "code",
   "execution_count": 112,
   "metadata": {},
   "outputs": [
    {
     "data": {
      "text/plain": [
       "(19185, 1)"
      ]
     },
     "execution_count": 112,
     "metadata": {},
     "output_type": "execute_result"
    }
   ],
   "source": [
    "aggregate_power_15m = aggregate_power_15m.dropna()\n",
    "aggregate_power_15m.shape"
   ]
  },
  {
   "cell_type": "code",
   "execution_count": 113,
   "metadata": {
    "collapsed": true,
    "scrolled": true
   },
   "outputs": [],
   "source": [
    "clean_ap = clean_power_series(aggregate_power_15m,kettle_activations_pd)"
   ]
  },
  {
   "cell_type": "code",
   "execution_count": 114,
   "metadata": {},
   "outputs": [
    {
     "name": "stdout",
     "output_type": "stream",
     "text": [
      "0\n",
      "100\n",
      "200\n",
      "300\n",
      "400\n",
      "500\n",
      "600\n",
      "700\n"
     ]
    },
    {
     "data": {
      "text/html": [
       "<div>\n",
       "<style>\n",
       "    .dataframe thead tr:only-child th {\n",
       "        text-align: right;\n",
       "    }\n",
       "\n",
       "    .dataframe thead th {\n",
       "        text-align: left;\n",
       "    }\n",
       "\n",
       "    .dataframe tbody tr th {\n",
       "        vertical-align: top;\n",
       "    }\n",
       "</style>\n",
       "<table border=\"1\" class=\"dataframe\">\n",
       "  <thead>\n",
       "    <tr style=\"text-align: right;\">\n",
       "      <th></th>\n",
       "      <th>0.0</th>\n",
       "      <th>0.0322580645161</th>\n",
       "      <th>0.0645161290323</th>\n",
       "      <th>0.0967741935484</th>\n",
       "      <th>0.129032258065</th>\n",
       "      <th>0.161290322581</th>\n",
       "      <th>0.193548387097</th>\n",
       "      <th>0.225806451613</th>\n",
       "      <th>0.258064516129</th>\n",
       "      <th>0.290322580645</th>\n",
       "      <th>...</th>\n",
       "      <th>0.709677419355</th>\n",
       "      <th>0.741935483871</th>\n",
       "      <th>0.774193548387</th>\n",
       "      <th>0.806451612903</th>\n",
       "      <th>0.838709677419</th>\n",
       "      <th>0.870967741935</th>\n",
       "      <th>0.903225806452</th>\n",
       "      <th>0.935483870968</th>\n",
       "      <th>0.967741935484</th>\n",
       "      <th>1.0</th>\n",
       "    </tr>\n",
       "  </thead>\n",
       "  <tbody>\n",
       "    <tr>\n",
       "      <th>0</th>\n",
       "      <td>129.075342</td>\n",
       "      <td>176.808219</td>\n",
       "      <td>130.513699</td>\n",
       "      <td>151.349315</td>\n",
       "      <td>151.856164</td>\n",
       "      <td>127.232877</td>\n",
       "      <td>170.636986</td>\n",
       "      <td>1054.638889</td>\n",
       "      <td>965.605442</td>\n",
       "      <td>475.863014</td>\n",
       "      <td>...</td>\n",
       "      <td>973.383562</td>\n",
       "      <td>243.452055</td>\n",
       "      <td>206.979452</td>\n",
       "      <td>182.273973</td>\n",
       "      <td>231.760274</td>\n",
       "      <td>828.452055</td>\n",
       "      <td>1078.595890</td>\n",
       "      <td>263.363014</td>\n",
       "      <td>203.315068</td>\n",
       "      <td>187.150685</td>\n",
       "    </tr>\n",
       "    <tr>\n",
       "      <th>1</th>\n",
       "      <td>124.212329</td>\n",
       "      <td>182.482517</td>\n",
       "      <td>149.921429</td>\n",
       "      <td>270.028169</td>\n",
       "      <td>281.616438</td>\n",
       "      <td>219.255172</td>\n",
       "      <td>244.082192</td>\n",
       "      <td>287.684932</td>\n",
       "      <td>217.226027</td>\n",
       "      <td>246.958042</td>\n",
       "      <td>...</td>\n",
       "      <td>268.118056</td>\n",
       "      <td>222.343066</td>\n",
       "      <td>218.303448</td>\n",
       "      <td>268.500000</td>\n",
       "      <td>261.818182</td>\n",
       "      <td>258.390071</td>\n",
       "      <td>303.091549</td>\n",
       "      <td>263.811189</td>\n",
       "      <td>230.811594</td>\n",
       "      <td>317.302817</td>\n",
       "    </tr>\n",
       "    <tr>\n",
       "      <th>2</th>\n",
       "      <td>172.095890</td>\n",
       "      <td>132.731034</td>\n",
       "      <td>169.568493</td>\n",
       "      <td>155.253425</td>\n",
       "      <td>135.582192</td>\n",
       "      <td>187.041096</td>\n",
       "      <td>139.006849</td>\n",
       "      <td>149.438356</td>\n",
       "      <td>169.234483</td>\n",
       "      <td>135.130137</td>\n",
       "      <td>...</td>\n",
       "      <td>135.931507</td>\n",
       "      <td>163.047945</td>\n",
       "      <td>162.376712</td>\n",
       "      <td>134.705479</td>\n",
       "      <td>177.273973</td>\n",
       "      <td>141.541096</td>\n",
       "      <td>565.753425</td>\n",
       "      <td>253.006849</td>\n",
       "      <td>205.397260</td>\n",
       "      <td>203.986301</td>\n",
       "    </tr>\n",
       "    <tr>\n",
       "      <th>3</th>\n",
       "      <td>176.958621</td>\n",
       "      <td>147.765517</td>\n",
       "      <td>123.813793</td>\n",
       "      <td>168.441379</td>\n",
       "      <td>121.337931</td>\n",
       "      <td>141.236111</td>\n",
       "      <td>168.137931</td>\n",
       "      <td>251.234483</td>\n",
       "      <td>294.558621</td>\n",
       "      <td>423.881944</td>\n",
       "      <td>...</td>\n",
       "      <td>262.437500</td>\n",
       "      <td>236.986207</td>\n",
       "      <td>270.193103</td>\n",
       "      <td>365.606897</td>\n",
       "      <td>230.068966</td>\n",
       "      <td>302.439716</td>\n",
       "      <td>258.600000</td>\n",
       "      <td>331.434483</td>\n",
       "      <td>390.372414</td>\n",
       "      <td>333.689655</td>\n",
       "    </tr>\n",
       "    <tr>\n",
       "      <th>4</th>\n",
       "      <td>132.787671</td>\n",
       "      <td>167.075342</td>\n",
       "      <td>145.732877</td>\n",
       "      <td>133.157534</td>\n",
       "      <td>181.095890</td>\n",
       "      <td>172.054422</td>\n",
       "      <td>279.280822</td>\n",
       "      <td>281.952055</td>\n",
       "      <td>211.986301</td>\n",
       "      <td>257.465753</td>\n",
       "      <td>...</td>\n",
       "      <td>2358.861842</td>\n",
       "      <td>1211.837838</td>\n",
       "      <td>1851.536913</td>\n",
       "      <td>721.312925</td>\n",
       "      <td>338.210884</td>\n",
       "      <td>948.924658</td>\n",
       "      <td>315.006849</td>\n",
       "      <td>295.609589</td>\n",
       "      <td>266.523810</td>\n",
       "      <td>265.705479</td>\n",
       "    </tr>\n",
       "  </tbody>\n",
       "</table>\n",
       "<p>5 rows × 32 columns</p>\n",
       "</div>"
      ],
      "text/plain": [
       "     0.000000    0.032258    0.064516    0.096774    0.129032    0.161290  \\\n",
       "0  129.075342  176.808219  130.513699  151.349315  151.856164  127.232877   \n",
       "1  124.212329  182.482517  149.921429  270.028169  281.616438  219.255172   \n",
       "2  172.095890  132.731034  169.568493  155.253425  135.582192  187.041096   \n",
       "3  176.958621  147.765517  123.813793  168.441379  121.337931  141.236111   \n",
       "4  132.787671  167.075342  145.732877  133.157534  181.095890  172.054422   \n",
       "\n",
       "     0.193548     0.225806    0.258065    0.290323     ...         0.709677  \\\n",
       "0  170.636986  1054.638889  965.605442  475.863014     ...       973.383562   \n",
       "1  244.082192   287.684932  217.226027  246.958042     ...       268.118056   \n",
       "2  139.006849   149.438356  169.234483  135.130137     ...       135.931507   \n",
       "3  168.137931   251.234483  294.558621  423.881944     ...       262.437500   \n",
       "4  279.280822   281.952055  211.986301  257.465753     ...      2358.861842   \n",
       "\n",
       "      0.741935     0.774194    0.806452    0.838710    0.870968     0.903226  \\\n",
       "0   243.452055   206.979452  182.273973  231.760274  828.452055  1078.595890   \n",
       "1   222.343066   218.303448  268.500000  261.818182  258.390071   303.091549   \n",
       "2   163.047945   162.376712  134.705479  177.273973  141.541096   565.753425   \n",
       "3   236.986207   270.193103  365.606897  230.068966  302.439716   258.600000   \n",
       "4  1211.837838  1851.536913  721.312925  338.210884  948.924658   315.006849   \n",
       "\n",
       "     0.935484    0.967742    1.000000  \n",
       "0  263.363014  203.315068  187.150685  \n",
       "1  263.811189  230.811594  317.302817  \n",
       "2  253.006849  205.397260  203.986301  \n",
       "3  331.434483  390.372414  333.689655  \n",
       "4  295.609589  266.523810  265.705479  \n",
       "\n",
       "[5 rows x 32 columns]"
      ]
     },
     "execution_count": 114,
     "metadata": {},
     "output_type": "execute_result"
    }
   ],
   "source": [
    "X, y = create_training_set(aggregate_power_15m, kettle_activations_pd,\n",
    "                                            ap_sans_activations = clean_ap,\n",
    "                                            sample_length = sample_length, pad = 40000)\n",
    "X.head()"
   ]
  },
  {
   "cell_type": "code",
   "execution_count": 123,
   "metadata": {},
   "outputs": [],
   "source": [
    "from keras.models import load_model\n",
    "\n",
    "model = load_model('../master_data/nilm/models/model0122ds15.h5')\n"
   ]
  },
  {
   "cell_type": "code",
   "execution_count": 124,
   "metadata": {},
   "outputs": [
    {
     "data": {
      "text/html": [
       "<div>\n",
       "<style>\n",
       "    .dataframe thead tr:only-child th {\n",
       "        text-align: right;\n",
       "    }\n",
       "\n",
       "    .dataframe thead th {\n",
       "        text-align: left;\n",
       "    }\n",
       "\n",
       "    .dataframe tbody tr th {\n",
       "        vertical-align: top;\n",
       "    }\n",
       "</style>\n",
       "<table border=\"1\" class=\"dataframe\">\n",
       "  <thead>\n",
       "    <tr style=\"text-align: right;\">\n",
       "      <th></th>\n",
       "      <th>mean</th>\n",
       "      <th>sd</th>\n",
       "    </tr>\n",
       "  </thead>\n",
       "  <tbody>\n",
       "    <tr>\n",
       "      <th>0</th>\n",
       "      <td>[[[ 505.60967371]]\\n\\n [[ 250.21105381]]\\n\\n [...</td>\n",
       "      <td>242.646964</td>\n",
       "    </tr>\n",
       "  </tbody>\n",
       "</table>\n",
       "</div>"
      ],
      "text/plain": [
       "                                                mean          sd\n",
       "0  [[[ 505.60967371]]\\n\\n [[ 250.21105381]]\\n\\n [...  242.646964"
      ]
     },
     "execution_count": 124,
     "metadata": {},
     "output_type": "execute_result"
    }
   ],
   "source": [
    "normalization = pd.read_csv('../master_data/nilm/normalization_params.csv', header=0, delim_whitespace=True)\n",
    "normalization.head()"
   ]
  },
  {
   "cell_type": "code",
   "execution_count": 125,
   "metadata": {
    "scrolled": false
   },
   "outputs": [
    {
     "name": "stdout",
     "output_type": "stream",
     "text": [
      "Mean:  1.11022302463e-17\n",
      "Std:  1.39754053785\n"
     ]
    }
   ],
   "source": [
    "X_np = np.array(X).reshape((X.shape[0],X.shape[1],1))\n",
    "y_np = np.array(y).reshape((y.shape[0],y.shape[1]))\n",
    "\n",
    "#mean = normalization['mean'].values[0]\n",
    "mean = X_np.mean(axis=1).reshape(X_np.shape[0],1,1)\n",
    "X_np = X_np - mean\n",
    "sd = normalization['sd'].values[0]\n",
    "#rand_sd = rand_sd.sample(frac=1).reset_index(drop=True)\n",
    "X_np /= sd\n",
    "print(\"Mean: \", X_np.mean())\n",
    "print(\"Std: \", X_np.std())\n"
   ]
  },
  {
   "cell_type": "code",
   "execution_count": 126,
   "metadata": {
    "scrolled": false
   },
   "outputs": [
    {
     "name": "stdout",
     "output_type": "stream",
     "text": [
      "(1320, 1)\n"
     ]
    },
    {
     "data": {
      "image/png": "[encoded data removed]",
      "text/plain": [
       "<matplotlib.figure.Figure at 0x7fa3606849e8>"
      ]
     },
     "metadata": {},
     "output_type": "display_data"
    },
    {
     "data": {
      "image/png": "[encoded data removed]",
      "text/plain": [
       "<matplotlib.figure.Figure at 0x7fa360684a58>"
      ]
     },
     "metadata": {},
     "output_type": "display_data"
    },
    {
     "data": {
      "image/png": "[encoded data removed]",
      "text/plain": [
       "<matplotlib.figure.Figure at 0x7fa368419cc0>"
      ]
     },
     "metadata": {},
     "output_type": "display_data"
    }
   ],
   "source": [
    "\n",
    "pred = model.predict(X_np)\n",
    "\n",
    "#Scale experiment:\n",
    "pred[:,0] = pred[:,0]/1000\n",
    "pred[:,1] = pred[:,1]/1000\n",
    "\n",
    "diff_power = pred[:,2] - y_np[:,2]\n",
    "diff_power = diff_power.reshape(diff_power.shape[0],1)\n",
    "diff_clean = pred[:,2][y_np[:,2] == 0] - y_np[:,2][y_np[:,2] == 0]\n",
    "diff_clean = diff_clean.reshape(diff_clean.shape[0],1)\n",
    "diff_signal = pred[:,2][y_np[:,2] != 0] - y_np[:,2][y_np[:,2] != 0]\n",
    "diff_signal = diff_signal.reshape(diff_signal.shape[0],1)\n",
    "\n",
    "print(diff_power.shape)\n",
    "\n",
    "plt.hist(diff_power,bins=50, color='teal')\n",
    "plt.title(\"Distribution of prediction - measurement\")\n",
    "plt.show()\n",
    "\n",
    "plt.hist(diff_clean,bins=50, color='teal')\n",
    "plt.title(\"Distribution of prediction - measurement with no signal present\")\n",
    "plt.show()\n",
    "\n",
    "plt.hist(diff_signal,bins=50, color='teal')\n",
    "plt.title(\"Distribution of prediction - measurement with signal present\")\n",
    "plt.show()"
   ]
  },
  {
   "cell_type": "markdown",
   "metadata": {},
   "source": [
    "The model is now extremely poor."
   ]
  },
  {
   "cell_type": "code",
   "execution_count": 127,
   "metadata": {
    "scrolled": true
   },
   "outputs": [
    {
     "name": "stdout",
     "output_type": "stream",
     "text": [
      "Best F1:  0.624256837099\n"
     ]
    },
    {
     "name": "stderr",
     "output_type": "stream",
     "text": [
      "/home/bjornif/anaconda3/lib/python3.6/site-packages/ipykernel_launcher.py:11: RuntimeWarning: invalid value encountered in double_scalars\n",
      "  # This is added back by InteractiveShellApp.init_path()\n"
     ]
    },
    {
     "data": {
      "image/png": "[encoded data removed]",
      "text/plain": [
       "<matplotlib.figure.Figure at 0x7fa3606d7390>"
      ]
     },
     "metadata": {},
     "output_type": "display_data"
    }
   ],
   "source": [
    "#F1 score = 2*(recall*precision)/(recall+precision)\n",
    "signal_present_gold = np.zeros(pred.shape[0])\n",
    "signal_present_gold[np.where(y_np[:,2] > 0)] = 1\n",
    "accs = []\n",
    "thresholds = np.arange(20,2000,10)\n",
    "\n",
    "for i in thresholds:\n",
    "    signal_present_pred = np.zeros(pred.shape[0])\n",
    "    signal_present_pred[np.where(pred[:,2] >= i)] = 1\n",
    "    \n",
    "    precision = signal_present_gold[signal_present_gold + signal_present_pred == 2].shape[0]/np.sum(signal_present_pred)\n",
    "    recall = signal_present_gold[signal_present_gold + signal_present_pred == 2].shape[0]/np.sum(signal_present_gold)\n",
    "    f1 = 2*(recall*precision)/(recall+precision)\n",
    "    \n",
    "    accs.append(f1)\n",
    "    \n",
    "print(\"Best F1: \", max(accs))\n",
    "plt.plot(thresholds,accs)\n",
    "plt.xticks = thresholds\n",
    "plt.show()\n"
   ]
  },
  {
   "cell_type": "markdown",
   "metadata": {},
   "source": [
    "The maximum F1 score has now dropped to approximately .62"
   ]
  },
  {
   "cell_type": "code",
   "execution_count": 128,
   "metadata": {
    "scrolled": false
   },
   "outputs": [
    {
     "data": {
      "image/png": "[encoded data removed]",
      "text/plain": [
       "<matplotlib.figure.Figure at 0x7fa360334908>"
      ]
     },
     "metadata": {},
     "output_type": "display_data"
    },
    {
     "data": {
      "image/png": "[encoded data removed]",
      "text/plain": [
       "<matplotlib.figure.Figure at 0x7fa368190e80>"
      ]
     },
     "metadata": {},
     "output_type": "display_data"
    },
    {
     "data": {
      "image/png": "[encoded data removed]",
      "text/plain": [
       "<matplotlib.figure.Figure at 0x7fa36823fc50>"
      ]
     },
     "metadata": {},
     "output_type": "display_data"
    }
   ],
   "source": [
    "#Error in duration:\n",
    "\n",
    "duration_pred = pred[:,1] - pred[:,0]\n",
    "duration_measured = y_np[:,1] - y_np[:,0]\n",
    "sane_index = np.where(np.logical_and(duration_pred < 1,duration_pred > 0))\n",
    "sane_duration_pred  = duration_pred[sane_index]\n",
    "sane_duration_measured = duration_measured[sane_index]\n",
    "\n",
    "duration_mae = np.abs(duration_pred - duration_measured)\n",
    "duration_mae = duration_mae.reshape(duration_mae.shape[0],1)\n",
    "sane_duration_mae = np.abs(sane_duration_pred - sane_duration_measured).mean()\n",
    "\n",
    "plt.clf()\n",
    "plt.hist(duration_mae,bins = 50, color='teal')\n",
    "plt.title(\"Distribution of predicted signal duration error\")\n",
    "plt.show()\n",
    "\n",
    "start_diff = np.abs(pred[:,0] - y_np[:,0])\n",
    "start_diff = start_diff.reshape(start_diff.shape[0],1)\n",
    "\n",
    "plt.hist(start_diff,bins = 50, color='teal')\n",
    "plt.title(\"Distribution of predicted signal start error\")\n",
    "plt.show()\n",
    "\n",
    "end_diff = np.abs(pred[:,1] - y_np[:,1])\n",
    "end_diff = end_diff.reshape(end_diff.shape[0],1)\n",
    "\n",
    "plt.hist(end_diff,bins = 50, color='teal')\n",
    "plt.title(\"Distribution of predicted signal end error\")\n",
    "plt.show()"
   ]
  },
  {
   "cell_type": "markdown",
   "metadata": {},
   "source": [
    "The predicted duration increases, which makes a lot of sense, since the time interval is a lot larger, so most duration fractions will be very small."
   ]
  },
  {
   "cell_type": "markdown",
   "metadata": {},
   "source": [
    "## Discussion\n",
    "### Normalization\n",
    "A normalization scheme similar to what Kelly proposed - subtracting the mean from each row, but dividing all inputs by the average standard deviation of all rows - seems to work the best. Other normalization schemes tested include no normalization, no centering, neither, centering by average mean and normalizing with random deviations.<br>\n",
    "\n",
    "### Training\n",
    "Surprisingly, the model does not seem to benefit much from extensive training, and can be trained in a single epoch to a reasonable degree, taking around 2-3 minutes. This is in stark contrast to the training times reported by Kelly.<br><br>\n",
    "One neat discovery was that scaling the range of the time components of the output to be the same order of magnitude as the power component, allowed the net to focus more on this part of the loss (now non-neglible). Perhaps the reason this is not more commonly covered in literature is because of the rarity of training multiple regression nets.<br><br>\n",
    "Also surprising is the fact that by thresholding appropriately I am able to acheive a far better F1 score than Kelly on the kettle.\n",
    "\n",
    "### Downsampling\n",
    "Testing a model trained on high-res data on downsampled data yielded poor results.<br>\n",
    "Training a model on 1 minute resolution data and testing it on the same resolution gave slightly more promising results.<br>\n",
    "Training a model on 15 minute resolution data and testing it on the same resolution was close to useless.\n"
   ]
  }
 ],
 "metadata": {
  "kernelspec": {
   "display_name": "Python 3",
   "language": "python",
   "name": "python3"
  },
  "language_info": {
   "codemirror_mode": {
    "name": "ipython",
    "version": 3
   },
   "file_extension": ".py",
   "mimetype": "text/x-python",
   "name": "python",
   "nbconvert_exporter": "python",
   "pygments_lexer": "ipython3",
   "version": "3.6.2"
  }
 },
 "nbformat": 4,
 "nbformat_minor": 2
}
