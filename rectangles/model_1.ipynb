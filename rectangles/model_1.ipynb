{
 "cells": [
  {
   "cell_type": "markdown",
   "metadata": {},
   "source": [
    "## Model trained on 2 min resolution data"
   ]
  },
  {
   "cell_type": "code",
   "execution_count": 7,
   "metadata": {
    "collapsed": true
   },
   "outputs": [],
   "source": [
    "from keras.models import Sequential\n",
    "from keras.layers import Conv1D,Input,Dense,Flatten\n",
    "from matplotlib import pyplot as plt\n",
    "import pandas as pd\n",
    "import numpy as np"
   ]
  },
  {
   "cell_type": "code",
   "execution_count": 272,
   "metadata": {
    "collapsed": true
   },
   "outputs": [],
   "source": [
    "sample_length = 32 # approximately corresponding to 1 hour"
   ]
  },
  {
   "cell_type": "code",
   "execution_count": 69,
   "metadata": {
    "scrolled": true
   },
   "outputs": [
    {
     "name": "stderr",
     "output_type": "stream",
     "text": [
      "/home/bjornif/anaconda3/lib/python3.6/site-packages/numpy/lib/arraysetops.py:463: FutureWarning: elementwise comparison failed; returning scalar instead, but in the future will perform elementwise comparison\n",
      "  mask |= (ar1 == a)\n"
     ]
    },
    {
     "data": {
      "text/html": [
       "<div>\n",
       "<style>\n",
       "    .dataframe thead tr:only-child th {\n",
       "        text-align: right;\n",
       "    }\n",
       "\n",
       "    .dataframe thead th {\n",
       "        text-align: left;\n",
       "    }\n",
       "\n",
       "    .dataframe tbody tr th {\n",
       "        vertical-align: top;\n",
       "    }\n",
       "</style>\n",
       "<table border=\"1\" class=\"dataframe\">\n",
       "  <thead>\n",
       "    <tr style=\"text-align: right;\">\n",
       "      <th></th>\n",
       "      <th>start</th>\n",
       "      <th>end</th>\n",
       "      <th>mean_power</th>\n",
       "    </tr>\n",
       "    <tr>\n",
       "      <th>index</th>\n",
       "      <th></th>\n",
       "      <th></th>\n",
       "      <th></th>\n",
       "    </tr>\n",
       "  </thead>\n",
       "  <tbody>\n",
       "    <tr>\n",
       "      <th>0</th>\n",
       "      <td>2012-11-10 08:49:42</td>\n",
       "      <td>2012-11-10 08:51:45</td>\n",
       "      <td>2311.157895</td>\n",
       "    </tr>\n",
       "    <tr>\n",
       "      <th>1</th>\n",
       "      <td>2012-11-10 17:22:40</td>\n",
       "      <td>2012-11-10 17:24:05</td>\n",
       "      <td>2282.692308</td>\n",
       "    </tr>\n",
       "    <tr>\n",
       "      <th>2</th>\n",
       "      <td>2012-11-11 08:28:41</td>\n",
       "      <td>2012-11-11 08:30:47</td>\n",
       "      <td>2261.200000</td>\n",
       "    </tr>\n",
       "    <tr>\n",
       "      <th>3</th>\n",
       "      <td>2012-11-11 11:35:09</td>\n",
       "      <td>2012-11-11 11:38:09</td>\n",
       "      <td>2282.896552</td>\n",
       "    </tr>\n",
       "    <tr>\n",
       "      <th>4</th>\n",
       "      <td>2012-11-11 11:44:35</td>\n",
       "      <td>2012-11-11 11:46:59</td>\n",
       "      <td>2285.956522</td>\n",
       "    </tr>\n",
       "  </tbody>\n",
       "</table>\n",
       "</div>"
      ],
      "text/plain": [
       "                    start                 end   mean_power\n",
       "index                                                     \n",
       "0     2012-11-10 08:49:42 2012-11-10 08:51:45  2311.157895\n",
       "1     2012-11-10 17:22:40 2012-11-10 17:24:05  2282.692308\n",
       "2     2012-11-11 08:28:41 2012-11-11 08:30:47  2261.200000\n",
       "3     2012-11-11 11:35:09 2012-11-11 11:38:09  2282.896552\n",
       "4     2012-11-11 11:44:35 2012-11-11 11:46:59  2285.956522"
      ]
     },
     "execution_count": 69,
     "metadata": {},
     "output_type": "execute_result"
    }
   ],
   "source": [
    "aggregate_power = pd.read_csv('../master_data/house_1/channel_1.dat', header = None,\n",
    "                                names = [\"Time\",\"Power\"], delim_whitespace = True,\n",
    "                                index_col = 0)\n",
    "aggregate_power.index = pd.to_datetime(aggregate_power.index,unit='s')\n",
    "#mw_activations = pd.read_csv('../master_data/nilm/mw_activations.dat', #header = None,\n",
    "#                                delim_whitespace = True,\n",
    "#                                names = ['index', 'start','end','mean_power'],\n",
    "#                                index_col = 0)\n",
    "kettle_activations = pd.read_csv('../master_data/nilm/kettle_activations.dat', header = 0,\n",
    "                                delim_whitespace = True,\n",
    "                                names = ['index', 'start','end','mean_power'],\n",
    "                                index_col = 0, parse_dates = ['start','end'],\n",
    "                                date_parser = pd.core.tools.datetimes.to_datetime)\n",
    "#dw_activations = pd.read_csv('../master_data/nilm/dw_activations.dat', #header = None,\n",
    "#                                delim_whitespace = True,\n",
    "#                                names = ['index', 'start','end','mean_power'],\n",
    "#                                index_col = 0)\n",
    "kettle_activations.head()"
   ]
  },
  {
   "cell_type": "code",
   "execution_count": 193,
   "metadata": {},
   "outputs": [
    {
     "name": "stdout",
     "output_type": "stream",
     "text": [
      "2012-11-15 07:49:53 2012-11-15 07:52:02\n"
     ]
    },
    {
     "data": {
      "image/png": "[encoded data removed]",
      "text/plain": [
       "<matplotlib.figure.Figure at 0x7f9502fa1828>"
      ]
     },
     "metadata": {},
     "output_type": "display_data"
    }
   ],
   "source": [
    "for _ in range(1):\n",
    "    dice = np.random.randint(0,100)\n",
    "    start = kettle_activations.iloc[dice]['start']\n",
    "    end = kettle_activations.iloc[dice]['end']\n",
    "    print(start,end)\n",
    "    aggregate_power_2m[start:end].plot()\n",
    "    plt.show()"
   ]
  },
  {
   "cell_type": "code",
   "execution_count": 429,
   "metadata": {},
   "outputs": [
    {
     "data": {
      "text/plain": [
       "index\n",
       "1133   00:06:22\n",
       "1566   00:06:26\n",
       "355    00:06:28\n",
       "1063   00:07:16\n",
       "1193   00:07:17\n",
       "2344   00:07:49\n",
       "1490   00:07:54\n",
       "1221   00:07:58\n",
       "1119   00:08:57\n",
       "3092   00:11:25\n",
       "dtype: timedelta64[ns]"
      ]
     },
     "execution_count": 429,
     "metadata": {},
     "output_type": "execute_result"
    }
   ],
   "source": [
    "(kettle_activations['end'] - kettle_activations['start']).sort_values().tail(10)"
   ]
  },
  {
   "cell_type": "markdown",
   "metadata": {},
   "source": [
    "#### Note:\n",
    "The minimal run time of the kettle is 30 seconds."
   ]
  },
  {
   "cell_type": "code",
   "execution_count": 216,
   "metadata": {},
   "outputs": [
    {
     "name": "stdout",
     "output_type": "stream",
     "text": [
      "0.480475899939 of the activations exceed 2 minutes.\n"
     ]
    }
   ],
   "source": [
    "durations = (kettle_activations['end'] - kettle_activations['start'])\n",
    "print(durations.where(durations > pd.Timedelta('2min')).isnull().value_counts()[0]/durations.shape[0],\n",
    "      \"of the activations exceed 2 minutes.\")"
   ]
  },
  {
   "cell_type": "markdown",
   "metadata": {},
   "source": [
    "It is not entirely clear to me how the authors of the paper created their training sets (only that they extended them substantially with syntethic data). Below is an attempt to create a training set in the spirit of the paper, by randomly selecting \"empty\" and \"meaningful\" intervals with a 50/50 probability."
   ]
  },
  {
   "cell_type": "code",
   "execution_count": 271,
   "metadata": {
    "collapsed": true
   },
   "outputs": [],
   "source": [
    "def clean_power_series(aggregate_power, activations):\n",
    "    \n",
    "    temp_ap = aggregate_power.copy()\n",
    "    \n",
    "    n = activations.shape[0]\n",
    "\n",
    "    #pcent = int(n/100)\n",
    "    ap_sans_activations = pd.DataFrame()\n",
    "    \n",
    "    ap_sans_activations.append(temp_ap[:activations['start'][0]])\n",
    "    \n",
    "    for i in range(1,n):\n",
    "        ap_sans_activations = ap_sans_activations.append(temp_ap[activations['end'][i-1]:activations['start'][i]])\n",
    "    \n",
    "    ap_sans_activations.append(temp_ap[activations['end'][i]:])\n",
    "    \n",
    "    return ap_sans_activations\n",
    "\n",
    "\n",
    "def create_training_set(aggregate_power, activations, ap_sans_activations = None, sample_length = 128, pad = 1024):\n",
    "    training_set = pd.DataFrame(columns = np.linspace(0,1,sample_length))\n",
    "    training_set_response = pd.DataFrame(columns = ['start','end','mean_power'])\n",
    "\n",
    "    #aggregate power sans the activation intervals\n",
    "    if ap_sans_activations is None:\n",
    "        ap_sans_activations = clean_power_series(aggregate_power,activations)\n",
    "\n",
    "    n = aggregate_power.shape[0]\n",
    "    j = 0\n",
    "    for i in range(activations.shape[0]):\n",
    "        if i % 100 == 0:\n",
    "            print(i)\n",
    "        while True:\n",
    "            dice = np.random.random()\n",
    "            if dice < 0.5:\n",
    "                start = activations['start'][i]\n",
    "                end = activations['end'][i]\n",
    "                #randomly place the chosen signal in a window.\n",
    "                #note that the entire signal is always in the window \n",
    "                sample_start = start - pd.Timedelta(np.random.randint(0,pad),unit='s')\n",
    "                sample_end = end + pd.Timedelta(np.random.randint(0,pad),unit='s')\n",
    "                sample = aggregate_power[sample_start:sample_end]\n",
    "\n",
    "                while sample.shape[0] > sample_length:\n",
    "                    if np.random.random() > 0.5 and end + pd.timeDelta('15min') < sample.index[-1]:\n",
    "                        sample = sample.iloc[:-1]\n",
    "                    elif start - pd.timeDelta('15min') > sample.index[0]:\n",
    "                        sample = sample.iloc[1:]\n",
    "                    else:\n",
    "                        sample = sample.iloc[0:1]\n",
    "                \n",
    "                if not sample.shape[0] < sample_length:\n",
    "                    \n",
    "                    #sample = sample.reindex(columns=training_set.columns, method='nearest')\n",
    "                    start_fraction = (start - sample.index[0])/(sample.index[-1] - sample.index[0])\n",
    "                    end_fraction = (end - sample.index[0])/(sample.index[-1] - sample.index[0])\n",
    "                    training_set.loc[j] = sample.T.values[0]\n",
    "                    training_set_response.loc[j] = [start_fraction,end_fraction,activations['mean_power'][i]]\n",
    "                    j+=1\n",
    "                \n",
    "                break\n",
    "                \n",
    "                \n",
    "            ri = np.random.randint(0,ap_sans_activations.shape[0]-sample_length)\n",
    "            sample = ap_sans_activations.iloc[ri: ri+sample_length]\n",
    "            training_set.loc[j] = sample.T.values[0]\n",
    "            training_set_response.loc[j] = [0,0,0]\n",
    "            j+=1\n",
    "            \n",
    "    return training_set, training_set_response\n",
    "\n"
   ]
  },
  {
   "cell_type": "code",
   "execution_count": 295,
   "metadata": {},
   "outputs": [
    {
     "name": "stdout",
     "output_type": "stream",
     "text": [
      "(10239433, 1) (71323, 1)\n"
     ]
    }
   ],
   "source": [
    "#aggregate_power.resample('2min').mean().isnull()['Power'].value_counts()\n",
    "aggregate_power_15m = aggregate_power.resample('15min').mean()\n",
    "aggregate_power_15m = aggregate_power_15m.dropna()\n",
    "print(aggregate_power.shape, aggregate_power_15m.shape)"
   ]
  },
  {
   "cell_type": "markdown",
   "metadata": {},
   "source": [
    "#### Note: \n",
    "drop() takes forever, avoid it.<br>\n"
   ]
  },
  {
   "cell_type": "code",
   "execution_count": 296,
   "metadata": {
    "collapsed": true,
    "scrolled": true
   },
   "outputs": [],
   "source": [
    "clean_ap = clean_power_series(aggregate_power_15m,kettle_activations)"
   ]
  },
  {
   "cell_type": "code",
   "execution_count": 376,
   "metadata": {},
   "outputs": [
    {
     "name": "stdout",
     "output_type": "stream",
     "text": [
      "0\n",
      "100\n",
      "200\n",
      "300\n",
      "400\n",
      "500\n",
      "600\n",
      "700\n",
      "800\n",
      "900\n",
      "1000\n",
      "1100\n",
      "1200\n",
      "1300\n",
      "1400\n",
      "1500\n",
      "1600\n",
      "1700\n",
      "1800\n",
      "1900\n",
      "2000\n",
      "2100\n",
      "2200\n",
      "2300\n",
      "2400\n",
      "2500\n",
      "2600\n",
      "2700\n",
      "2800\n",
      "2900\n",
      "3000\n",
      "3100\n",
      "3200\n"
     ]
    },
    {
     "data": {
      "text/html": [
       "<div>\n",
       "<style>\n",
       "    .dataframe thead tr:only-child th {\n",
       "        text-align: right;\n",
       "    }\n",
       "\n",
       "    .dataframe thead th {\n",
       "        text-align: left;\n",
       "    }\n",
       "\n",
       "    .dataframe tbody tr th {\n",
       "        vertical-align: top;\n",
       "    }\n",
       "</style>\n",
       "<table border=\"1\" class=\"dataframe\">\n",
       "  <thead>\n",
       "    <tr style=\"text-align: right;\">\n",
       "      <th></th>\n",
       "      <th>0.0</th>\n",
       "      <th>0.0322580645161</th>\n",
       "      <th>0.0645161290323</th>\n",
       "      <th>0.0967741935484</th>\n",
       "      <th>0.129032258065</th>\n",
       "      <th>0.161290322581</th>\n",
       "      <th>0.193548387097</th>\n",
       "      <th>0.225806451613</th>\n",
       "      <th>0.258064516129</th>\n",
       "      <th>0.290322580645</th>\n",
       "      <th>...</th>\n",
       "      <th>0.709677419355</th>\n",
       "      <th>0.741935483871</th>\n",
       "      <th>0.774193548387</th>\n",
       "      <th>0.806451612903</th>\n",
       "      <th>0.838709677419</th>\n",
       "      <th>0.870967741935</th>\n",
       "      <th>0.903225806452</th>\n",
       "      <th>0.935483870968</th>\n",
       "      <th>0.967741935484</th>\n",
       "      <th>1.0</th>\n",
       "    </tr>\n",
       "  </thead>\n",
       "  <tbody>\n",
       "    <tr>\n",
       "      <th>0</th>\n",
       "      <td>137.480916</td>\n",
       "      <td>137.932331</td>\n",
       "      <td>147.180451</td>\n",
       "      <td>193.520000</td>\n",
       "      <td>577.650794</td>\n",
       "      <td>284.258993</td>\n",
       "      <td>205.827068</td>\n",
       "      <td>419.733333</td>\n",
       "      <td>668.442748</td>\n",
       "      <td>250.688889</td>\n",
       "      <td>...</td>\n",
       "      <td>494.423077</td>\n",
       "      <td>214.548872</td>\n",
       "      <td>185.575758</td>\n",
       "      <td>144.187500</td>\n",
       "      <td>299.272059</td>\n",
       "      <td>569.828358</td>\n",
       "      <td>581.596899</td>\n",
       "      <td>412.081481</td>\n",
       "      <td>218.776923</td>\n",
       "      <td>226.037037</td>\n",
       "    </tr>\n",
       "    <tr>\n",
       "      <th>1</th>\n",
       "      <td>409.263514</td>\n",
       "      <td>1508.438849</td>\n",
       "      <td>457.966216</td>\n",
       "      <td>173.147651</td>\n",
       "      <td>222.695946</td>\n",
       "      <td>251.217687</td>\n",
       "      <td>214.324324</td>\n",
       "      <td>208.156463</td>\n",
       "      <td>219.694444</td>\n",
       "      <td>187.101351</td>\n",
       "      <td>...</td>\n",
       "      <td>212.517007</td>\n",
       "      <td>210.333333</td>\n",
       "      <td>155.108844</td>\n",
       "      <td>168.246575</td>\n",
       "      <td>285.087838</td>\n",
       "      <td>183.621622</td>\n",
       "      <td>212.911565</td>\n",
       "      <td>210.346939</td>\n",
       "      <td>214.351351</td>\n",
       "      <td>197.864865</td>\n",
       "    </tr>\n",
       "    <tr>\n",
       "      <th>2</th>\n",
       "      <td>419.733333</td>\n",
       "      <td>668.442748</td>\n",
       "      <td>250.688889</td>\n",
       "      <td>1303.362205</td>\n",
       "      <td>2225.727273</td>\n",
       "      <td>1058.601562</td>\n",
       "      <td>905.971014</td>\n",
       "      <td>856.209677</td>\n",
       "      <td>570.423358</td>\n",
       "      <td>1095.421053</td>\n",
       "      <td>...</td>\n",
       "      <td>412.081481</td>\n",
       "      <td>218.776923</td>\n",
       "      <td>226.037037</td>\n",
       "      <td>872.503759</td>\n",
       "      <td>508.207692</td>\n",
       "      <td>555.674242</td>\n",
       "      <td>1011.069231</td>\n",
       "      <td>636.688000</td>\n",
       "      <td>979.900000</td>\n",
       "      <td>812.692913</td>\n",
       "    </tr>\n",
       "    <tr>\n",
       "      <th>3</th>\n",
       "      <td>207.233083</td>\n",
       "      <td>212.063492</td>\n",
       "      <td>163.030075</td>\n",
       "      <td>152.945312</td>\n",
       "      <td>153.318519</td>\n",
       "      <td>185.000000</td>\n",
       "      <td>275.774436</td>\n",
       "      <td>235.387597</td>\n",
       "      <td>194.616000</td>\n",
       "      <td>201.480916</td>\n",
       "      <td>...</td>\n",
       "      <td>292.870229</td>\n",
       "      <td>218.902256</td>\n",
       "      <td>212.431818</td>\n",
       "      <td>204.871212</td>\n",
       "      <td>165.587786</td>\n",
       "      <td>165.932331</td>\n",
       "      <td>205.187500</td>\n",
       "      <td>165.154472</td>\n",
       "      <td>164.684615</td>\n",
       "      <td>698.045802</td>\n",
       "    </tr>\n",
       "    <tr>\n",
       "      <th>4</th>\n",
       "      <td>275.774436</td>\n",
       "      <td>235.387597</td>\n",
       "      <td>194.616000</td>\n",
       "      <td>201.480916</td>\n",
       "      <td>181.307692</td>\n",
       "      <td>200.907692</td>\n",
       "      <td>153.733333</td>\n",
       "      <td>153.829630</td>\n",
       "      <td>167.872000</td>\n",
       "      <td>790.666667</td>\n",
       "      <td>...</td>\n",
       "      <td>205.187500</td>\n",
       "      <td>165.154472</td>\n",
       "      <td>164.684615</td>\n",
       "      <td>698.045802</td>\n",
       "      <td>677.030769</td>\n",
       "      <td>791.354331</td>\n",
       "      <td>324.484615</td>\n",
       "      <td>208.977612</td>\n",
       "      <td>181.552239</td>\n",
       "      <td>191.835714</td>\n",
       "    </tr>\n",
       "  </tbody>\n",
       "</table>\n",
       "<p>5 rows × 32 columns</p>\n",
       "</div>"
      ],
      "text/plain": [
       "     0.000000     0.032258    0.064516     0.096774     0.129032     0.161290  \\\n",
       "0  137.480916   137.932331  147.180451   193.520000   577.650794   284.258993   \n",
       "1  409.263514  1508.438849  457.966216   173.147651   222.695946   251.217687   \n",
       "2  419.733333   668.442748  250.688889  1303.362205  2225.727273  1058.601562   \n",
       "3  207.233083   212.063492  163.030075   152.945312   153.318519   185.000000   \n",
       "4  275.774436   235.387597  194.616000   201.480916   181.307692   200.907692   \n",
       "\n",
       "     0.193548    0.225806    0.258065     0.290323     ...        0.709677  \\\n",
       "0  205.827068  419.733333  668.442748   250.688889     ...      494.423077   \n",
       "1  214.324324  208.156463  219.694444   187.101351     ...      212.517007   \n",
       "2  905.971014  856.209677  570.423358  1095.421053     ...      412.081481   \n",
       "3  275.774436  235.387597  194.616000   201.480916     ...      292.870229   \n",
       "4  153.733333  153.829630  167.872000   790.666667     ...      205.187500   \n",
       "\n",
       "     0.741935    0.774194    0.806452    0.838710    0.870968     0.903226  \\\n",
       "0  214.548872  185.575758  144.187500  299.272059  569.828358   581.596899   \n",
       "1  210.333333  155.108844  168.246575  285.087838  183.621622   212.911565   \n",
       "2  218.776923  226.037037  872.503759  508.207692  555.674242  1011.069231   \n",
       "3  218.902256  212.431818  204.871212  165.587786  165.932331   205.187500   \n",
       "4  165.154472  164.684615  698.045802  677.030769  791.354331   324.484615   \n",
       "\n",
       "     0.935484    0.967742    1.000000  \n",
       "0  412.081481  218.776923  226.037037  \n",
       "1  210.346939  214.351351  197.864865  \n",
       "2  636.688000  979.900000  812.692913  \n",
       "3  165.154472  164.684615  698.045802  \n",
       "4  208.977612  181.552239  191.835714  \n",
       "\n",
       "[5 rows x 32 columns]"
      ]
     },
     "execution_count": 376,
     "metadata": {},
     "output_type": "execute_result"
    }
   ],
   "source": [
    "training_set_kettle, response_kettle = create_training_set(aggregate_power_15m, kettle_activations,\n",
    "                                                           ap_sans_activations = clean_ap,\n",
    "                                                          sample_length = sample_length, pad = 200000)\n",
    "training_set_kettle.head()"
   ]
  },
  {
   "cell_type": "code",
   "execution_count": 401,
   "metadata": {},
   "outputs": [
    {
     "data": {
      "text/plain": [
       "(3353, 3)"
      ]
     },
     "execution_count": 401,
     "metadata": {},
     "output_type": "execute_result"
    }
   ],
   "source": [
    "response_kettle.where(response_kettle['mean_power'] == 0).dropna().shape"
   ]
  },
  {
   "cell_type": "markdown",
   "metadata": {},
   "source": [
    "### Normalization:"
   ]
  },
  {
   "cell_type": "markdown",
   "metadata": {},
   "source": [
    "As per the paper, done by subtracting sample mean and dividing by a <i>random</i> sample standard deviation.<br>\n",
    "The normalization parameters are saved so they may be used when testing the model."
   ]
  },
  {
   "cell_type": "code",
   "execution_count": 414,
   "metadata": {},
   "outputs": [
    {
     "name": "stdout",
     "output_type": "stream",
     "text": [
      "start            1.026559\n",
      "end              1.030968\n",
      "mean_power    2323.315789\n",
      "Name: 383, dtype: float64\n"
     ]
    },
    {
     "data": {
      "image/png": "[encoded data removed]",
      "text/plain": [
       "<matplotlib.figure.Figure at 0x7f94fc035048>"
      ]
     },
     "metadata": {},
     "output_type": "display_data"
    }
   ],
   "source": [
    "for _ in range(1):\n",
    "    dice = np.random.randint(0,1000)\n",
    "    training_set_kettle.iloc[dice].plot()\n",
    "    print(response_kettle.iloc[dice])\n",
    "    plt.show()"
   ]
  },
  {
   "cell_type": "code",
   "execution_count": 415,
   "metadata": {},
   "outputs": [
    {
     "data": {
      "text/html": [
       "<div>\n",
       "<style>\n",
       "    .dataframe thead tr:only-child th {\n",
       "        text-align: right;\n",
       "    }\n",
       "\n",
       "    .dataframe thead th {\n",
       "        text-align: left;\n",
       "    }\n",
       "\n",
       "    .dataframe tbody tr th {\n",
       "        vertical-align: top;\n",
       "    }\n",
       "</style>\n",
       "<table border=\"1\" class=\"dataframe\">\n",
       "  <thead>\n",
       "    <tr style=\"text-align: right;\">\n",
       "      <th></th>\n",
       "      <th>start</th>\n",
       "      <th>end</th>\n",
       "      <th>mean_power</th>\n",
       "    </tr>\n",
       "    <tr>\n",
       "      <th>Time</th>\n",
       "      <th></th>\n",
       "      <th></th>\n",
       "      <th></th>\n",
       "    </tr>\n",
       "  </thead>\n",
       "  <tbody>\n",
       "    <tr>\n",
       "      <th>0</th>\n",
       "      <td>0.000000</td>\n",
       "      <td>0.000000</td>\n",
       "      <td>0.000000</td>\n",
       "    </tr>\n",
       "    <tr>\n",
       "      <th>1</th>\n",
       "      <td>0.225806</td>\n",
       "      <td>0.225806</td>\n",
       "      <td>NaN</td>\n",
       "    </tr>\n",
       "    <tr>\n",
       "      <th>2</th>\n",
       "      <td>0.225806</td>\n",
       "      <td>0.225806</td>\n",
       "      <td>NaN</td>\n",
       "    </tr>\n",
       "    <tr>\n",
       "      <th>3</th>\n",
       "      <td>0.322581</td>\n",
       "      <td>0.354839</td>\n",
       "      <td>365.619718</td>\n",
       "    </tr>\n",
       "    <tr>\n",
       "      <th>4</th>\n",
       "      <td>0.000000</td>\n",
       "      <td>0.000000</td>\n",
       "      <td>0.000000</td>\n",
       "    </tr>\n",
       "  </tbody>\n",
       "</table>\n",
       "</div>"
      ],
      "text/plain": [
       "         start       end  mean_power\n",
       "Time                                \n",
       "0     0.000000  0.000000    0.000000\n",
       "1     0.225806  0.225806         NaN\n",
       "2     0.225806  0.225806         NaN\n",
       "3     0.322581  0.354839  365.619718\n",
       "4     0.000000  0.000000    0.000000"
      ]
     },
     "execution_count": 415,
     "metadata": {},
     "output_type": "execute_result"
    }
   ],
   "source": [
    "syntethic_data = pd.read_csv('../master_data/nilm/syntethic_data_15m.dat',\n",
    "                                delim_whitespace = True,\n",
    "                                index_col = 0)\n",
    "\n",
    "syntethic_response = pd.read_csv('../master_data/nilm/syntethic_response_15m.dat', header = 0,\n",
    "                                names = [\"Time\",\"start\",\"end\",\"mean_power\"], delim_whitespace = True,\n",
    "                                index_col = 0)\n",
    "\n",
    "#syntethic_training_set.columns = pd.to_numeric(syntethic_data.columns)\n",
    "syntethic_response.head()"
   ]
  },
  {
   "cell_type": "code",
   "execution_count": 416,
   "metadata": {},
   "outputs": [
    {
     "name": "stdout",
     "output_type": "stream",
     "text": [
      "(15363, 32)\n",
      "(15363, 3)\n",
      "Removed 4324 instances.\n"
     ]
    }
   ],
   "source": [
    "#real_data = pd.concat([training_set_kettle,response_kettle],axis=1)\n",
    "\n",
    "col_dict = dict(zip(syntethic_data.columns.values,training_set_kettle.columns.values))\n",
    "X = training_set_kettle.append(syntethic_data.rename(columns=col_dict))\n",
    "\n",
    "y = response_kettle.append(syntethic_response)\n",
    "\n",
    "print(X.shape)\n",
    "print(y.shape)\n",
    "\n",
    "X_np = np.array(X,dtype=np.float64).reshape((X.shape[0],X.shape[1],1))\n",
    "y_np = np.array(y,dtype=np.float64).reshape((y.shape[0],y.shape[1]))\n",
    "\n",
    "#some cleaning (some of the syntethic data contained 0-length signals?)\n",
    "dirty = []\n",
    "for i in range(y_np.shape[0]):\n",
    "    if np.isnan(y_np[i]).any():\n",
    "        dirty.append(i)\n",
    "y_np = np.delete(y_np, dirty,axis=0)\n",
    "X_np = np.delete(X_np, dirty,axis=0)\n",
    "\n",
    "print(\"Removed \" + str(len(dirty)) + \" instances.\")\n",
    "#row_mean = syntethic_data.mean(axis=1)\n",
    "#syntethic_data_n = syntethic_data.sub(row_mean.T,axis=0)\n",
    "#rand_sd = syntethic_data.std(axis=1)\n",
    "#rand_sd = rand_sd.sample(frac=1).reset_index(drop=True)\n",
    "#syntethic_data_n = syntethic_data_n.div(rand_sd,axis=0)\n",
    "#syntethic_data_n.head()\n",
    "\n"
   ]
  },
  {
   "cell_type": "code",
   "execution_count": 270,
   "metadata": {},
   "outputs": [
    {
     "data": {
      "text/plain": [
       "(5791, 96)"
      ]
     },
     "execution_count": 270,
     "metadata": {},
     "output_type": "execute_result"
    }
   ],
   "source": []
  },
  {
   "cell_type": "code",
   "execution_count": 417,
   "metadata": {},
   "outputs": [
    {
     "data": {
      "image/png": "[encoded data removed]",
      "text/plain": [
       "<matplotlib.figure.Figure at 0x7f9508041eb8>"
      ]
     },
     "metadata": {},
     "output_type": "display_data"
    },
    {
     "data": {
      "image/png": "[encoded data removed]",
      "text/plain": [
       "<matplotlib.figure.Figure at 0x7f95033a1a58>"
      ]
     },
     "metadata": {},
     "output_type": "display_data"
    }
   ],
   "source": [
    "#Tangent: The syntethic data looks a lot like the real data\n",
    "means_real = training_set_kettle.mean(axis=1).sort_values().reset_index(drop=True)\n",
    "means_synth = syntethic_data[:means_real.size].mean(axis=1).sort_values().reset_index(drop=True)\n",
    "plt.hist(means_real,alpha=0.5, bins=20, range=(0,4000))\n",
    "plt.hist(means_synth,alpha=0.5,color='orange', bins=20, range=(0,4000))\n",
    "plt.show()\n",
    "\n",
    "stds_real = training_set_kettle.std(axis=1).sort_values().reset_index(drop=True)\n",
    "stds_synth = syntethic_data[:stds_real.size].std(axis=1).sort_values().reset_index(drop=True)\n",
    "plt.hist(stds_real,alpha=0.5,bins=20, range=(0,4000))\n",
    "plt.hist(stds_synth,alpha=0.5,color='orange',bins=20, range=(0,4000))\n",
    "plt.show()"
   ]
  },
  {
   "cell_type": "code",
   "execution_count": 418,
   "metadata": {},
   "outputs": [
    {
     "name": "stdout",
     "output_type": "stream",
     "text": [
      "Mean:  -9.13169500761e-19\n",
      "Std:  1.21589761696\n"
     ]
    }
   ],
   "source": [
    "mean = X_np.mean(axis=1).reshape(X_np.shape[0],1,1)\n",
    "#mean = 0.0\n",
    "X_np = X_np - mean\n",
    "sd = X_np.std(axis=1).mean()\n",
    "#rand_sd = rand_sd.sample(frac=1).reset_index(drop=True)\n",
    "X_np /= sd\n",
    "print(\"Mean: \", X_np.mean())\n",
    "print(\"Std: \", X_np.std())\n"
   ]
  },
  {
   "cell_type": "code",
   "execution_count": 419,
   "metadata": {
    "collapsed": true
   },
   "outputs": [],
   "source": [
    "\n",
    "normalization_params = pd.DataFrame([[mean,sd]],columns=['mean','sd'])\n",
    "normalization_params.to_csv('../master_data/nilm/normalization_params.csv',sep=' ')"
   ]
  },
  {
   "cell_type": "code",
   "execution_count": 420,
   "metadata": {},
   "outputs": [
    {
     "data": {
      "text/plain": [
       "array([  143.5483871 ,     0.        ,  1019.53405018, ...,     0.        ,\n",
       "           0.        ,     0.        ])"
      ]
     },
     "execution_count": 420,
     "metadata": {},
     "output_type": "execute_result"
    }
   ],
   "source": [
    "#Experiment: Resize the time intervals from the [0,1] range to [0,1000]\n",
    "y_np[:,0] = y_np[:,0]*1000\n",
    "y_np[:,1] = y_np[:,1]*1000\n",
    "y_np[:,1]"
   ]
  },
  {
   "cell_type": "code",
   "execution_count": 105,
   "metadata": {},
   "outputs": [
    {
     "name": "stdout",
     "output_type": "stream",
     "text": [
      "(12813, 131)\n"
     ]
    }
   ],
   "source": [
    "#data = pd.concat([training_set_kettle,response_kettle],axis=1)\n",
    "#data = data.sample(frac=1).reset_index(drop=True)\n",
    "\n",
    "#split = int(data.shape[0]*0.5)\n",
    "#training_set = data[:split]\n",
    "#test_set = data[split:]\n",
    "\n",
    "#syntethic_training_set = pd.concat([syntethic_data,syntethic_response],axis=1)\n",
    "#col_dict = dict(zip(syntethic_training_set.columns.values,training_set.columns.values))\n",
    "#training_set = training_set.append(syntethic_training_set.rename(columns=col_dict))\n",
    "#print(training_set.shape)\n",
    "#X_train = training_set.iloc[:,:-3]\n",
    "#y_train = training_set.iloc[:,-3:]\n",
    "\n",
    "#X_test = test_set.iloc[:,:-3]\n",
    "#y_test = test_set.iloc[:,-3:]\n",
    "\n",
    "#X_train_np = np.array(X_train,dtype=np.float64).reshape((X_train.shape[0],X_train.shape[1],1))\n",
    "#y_train_np = np.array(y_train,dtype=np.float64).reshape((y_train.shape[0],y_train.shape[1]))\n",
    "\n",
    "#X_test_np = np.array(X_test,dtype=np.float64).reshape((X_test.shape[0],X_test.shape[1],1))\n",
    "#y_test_np = np.array(y_test,dtype=np.float64).reshape((y_test.shape[0],y_test.shape[1]))\n",
    "\n",
    "#some cleaning (some of the syntethic data contained 0-length signals?)\n",
    "#dirty_train = []\n",
    "#for i in range(y_train_np.shape[0]):\n",
    "#    if np.isnan(y_train_np[i]).any():\n",
    "#        dirty_train.append(i)\n",
    "#y_train_np = np.delete(y_train_np, dirty_train,axis=0)\n",
    "#X_train_np = np.delete(X_train_np, dirty_train,axis=0)\n",
    "\n",
    "#dirty_test = []\n",
    "#for i in range(y_test_np.shape[0]):\n",
    "#    if np.isnan(y_test_np[i]).any():\n",
    "#        dirty_test.append(i)\n",
    "#y_test_np = np.delete(y_test_np, dirty_test,axis=0)\n",
    "#X_test_np = np.delete(X_test_np, dirty_test,axis=0)\n",
    "\n"
   ]
  },
  {
   "cell_type": "code",
   "execution_count": 421,
   "metadata": {
    "collapsed": true
   },
   "outputs": [],
   "source": [
    "#Tensorflow uses shape [samples][height][width][channels] \n",
    "\n",
    "layer1 = Conv1D(filters=16, input_shape = (sample_length,1,),kernel_size=4,\n",
    "                activation='linear',padding='valid', strides=1)\n",
    "layer2 = Conv1D(filters=16, kernel_size=4,activation='linear',padding='valid', strides=1)\n",
    "layer2_b = Flatten()\n",
    "layer3 = Dense(units=4096,activation='relu')\n",
    "layer4 = Dense(units=3072,activation='relu')\n",
    "layer5 = Dense(units=2048,activation='relu')\n",
    "layer6 = Dense(units=512,activation='relu')\n",
    "outputs = Dense(units=3,activation='linear')\n",
    "\n",
    "model = Sequential()\n",
    "\n",
    "model.add(layer1)\n",
    "model.add(layer2)\n",
    "model.add(layer2_b)\n",
    "model.add(layer3)\n",
    "model.add(layer4)\n",
    "model.add(layer5)\n",
    "model.add(layer6)\n",
    "model.add(outputs)"
   ]
  },
  {
   "cell_type": "code",
   "execution_count": 427,
   "metadata": {
    "scrolled": false
   },
   "outputs": [
    {
     "name": "stdout",
     "output_type": "stream",
     "text": [
      "(11039, 32, 1) (11039, 3)\n",
      "Train on 5519 samples, validate on 5520 samples\n",
      "Epoch 1/2\n",
      "5519/5519 [==============================] - 48s 9ms/step - loss: 405454.9325 - mean_absolute_error: 431.1595 - val_loss: 436210.0035 - val_mean_absolute_error: 446.8267\n",
      "Epoch 2/2\n",
      "5519/5519 [==============================] - 48s 9ms/step - loss: 386346.9559 - mean_absolute_error: 418.8524 - val_loss: 300814.5062 - val_mean_absolute_error: 365.1828\n"
     ]
    }
   ],
   "source": [
    "\n",
    "print(X_np.shape, y_np.shape)\n",
    "model.compile(optimizer='rmsprop',\n",
    "              loss='mean_squared_error',\n",
    "              metrics=['mae'])\n",
    "\n",
    "training_history = model.fit(X_np, y_np, batch_size=64,verbose=1,epochs=2, validation_split=0.5)"
   ]
  },
  {
   "cell_type": "code",
   "execution_count": 425,
   "metadata": {
    "collapsed": true
   },
   "outputs": [],
   "source": [
    "model.save('../master_data/nilm/models/model0122ds15.h5')"
   ]
  },
  {
   "cell_type": "code",
   "execution_count": 428,
   "metadata": {},
   "outputs": [
    {
     "data": {
      "image/png": "[encoded data removed]",
      "text/plain": [
       "<matplotlib.figure.Figure at 0x7f94dcd3d9b0>"
      ]
     },
     "metadata": {},
     "output_type": "display_data"
    }
   ],
   "source": [
    "plt.plot(training_history.history['mean_absolute_error'])\n",
    "plt.plot(training_history.history['val_mean_absolute_error'])\n",
    "plt.show()"
   ]
  },
  {
   "cell_type": "code",
   "execution_count": null,
   "metadata": {
    "collapsed": true
   },
   "outputs": [],
   "source": []
  }
 ],
 "metadata": {
  "kernelspec": {
   "display_name": "Python (nilmtk)",
   "language": "python",
   "name": "nilmtk-env"
  },
  "language_info": {
   "codemirror_mode": {
    "name": "ipython",
    "version": 3
   },
   "file_extension": ".py",
   "mimetype": "text/x-python",
   "name": "python",
   "nbconvert_exporter": "python",
   "pygments_lexer": "ipython3",
   "version": "3.6.2"
  }
 },
 "nbformat": 4,
 "nbformat_minor": 2
}
