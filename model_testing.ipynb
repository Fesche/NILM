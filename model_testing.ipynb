{
 "cells": [
  {
   "cell_type": "markdown",
   "metadata": {},
   "source": [
    "# Model testing 18/01\n",
    "This model was trained for 10 iterations using a normalization scheme subtracting the average row mean from every row and dividing every row by the average standard deviation."
   ]
  },
  {
   "cell_type": "code",
   "execution_count": 1,
   "metadata": {},
   "outputs": [],
   "source": [
    "from matplotlib import pyplot as plt\n",
    "import pandas as pd\n",
    "import numpy as np\n",
    "from matplotlib import pyplot as plt"
   ]
  },
  {
   "cell_type": "code",
   "execution_count": 2,
   "metadata": {
    "collapsed": true
   },
   "outputs": [],
   "source": [
    "sample_length = 128\n"
   ]
  },
  {
   "cell_type": "markdown",
   "metadata": {},
   "source": [
    "Testing on house 2"
   ]
  },
  {
   "cell_type": "code",
   "execution_count": 3,
   "metadata": {
    "scrolled": true
   },
   "outputs": [
    {
     "name": "stderr",
     "output_type": "stream",
     "text": [
      "/home/bjornif/anaconda3/lib/python3.6/site-packages/numpy/lib/arraysetops.py:463: FutureWarning: elementwise comparison failed; returning scalar instead, but in the future will perform elementwise comparison\n",
      "  mask |= (ar1 == a)\n"
     ]
    },
    {
     "data": {
      "text/html": [
       "<div>\n",
       "<style>\n",
       "    .dataframe thead tr:only-child th {\n",
       "        text-align: right;\n",
       "    }\n",
       "\n",
       "    .dataframe thead th {\n",
       "        text-align: left;\n",
       "    }\n",
       "\n",
       "    .dataframe tbody tr th {\n",
       "        vertical-align: top;\n",
       "    }\n",
       "</style>\n",
       "<table border=\"1\" class=\"dataframe\">\n",
       "  <thead>\n",
       "    <tr style=\"text-align: right;\">\n",
       "      <th></th>\n",
       "      <th>Power</th>\n",
       "    </tr>\n",
       "    <tr>\n",
       "      <th>Time</th>\n",
       "      <th></th>\n",
       "    </tr>\n",
       "  </thead>\n",
       "  <tbody>\n",
       "    <tr>\n",
       "      <th>1361116822</th>\n",
       "      <td>0</td>\n",
       "    </tr>\n",
       "    <tr>\n",
       "      <th>1361116825</th>\n",
       "      <td>0</td>\n",
       "    </tr>\n",
       "    <tr>\n",
       "      <th>1361116831</th>\n",
       "      <td>0</td>\n",
       "    </tr>\n",
       "    <tr>\n",
       "      <th>1361116837</th>\n",
       "      <td>0</td>\n",
       "    </tr>\n",
       "    <tr>\n",
       "      <th>1361116843</th>\n",
       "      <td>0</td>\n",
       "    </tr>\n",
       "  </tbody>\n",
       "</table>\n",
       "</div>"
      ],
      "text/plain": [
       "            Power\n",
       "Time             \n",
       "1361116822      0\n",
       "1361116825      0\n",
       "1361116831      0\n",
       "1361116837      0\n",
       "1361116843      0"
      ]
     },
     "execution_count": 3,
     "metadata": {},
     "output_type": "execute_result"
    }
   ],
   "source": [
    "aggregate_power = pd.read_csv('../master_data/house_2/channel_1.dat', header = None,\n",
    "                                names = [\"Time\",\"Power\"], delim_whitespace = True,\n",
    "                                index_col = 0)\n",
    "aggregate_power.index = pd.to_datetime(aggregate_power.index,unit='s')\n",
    "\n",
    "kettle_power = pd.read_csv('../master_data/house_2/channel_8.dat', header = None,\n",
    "                                names = [\"Time\",\"Power\"], delim_whitespace = True,\n",
    "                                index_col = 0)\n",
    "\n",
    "\n",
    "kettle_power.head()"
   ]
  },
  {
   "cell_type": "code",
   "execution_count": 4,
   "metadata": {
    "collapsed": true
   },
   "outputs": [],
   "source": [
    "def get_activations(power_series, min_off_duration=30, min_on_duration=12,\n",
    "                        border=1, power_threshold=200):\n",
    "    activations = []\n",
    "    signal_start = None\n",
    "    signal_end = None\n",
    "    no_signal = 0\n",
    "    current_signal = []\n",
    "    series_length = len(power_series)\n",
    "    series_length_percent = int(len(power_series)/100)\n",
    "    measurements_processed = 0\n",
    "    \n",
    "    power_series.index = pd.to_datetime(power_series.index,unit='s')\n",
    "    min_off_duration = pd.Timedelta(str(min_off_duration) + 's')\n",
    "    min_on_duration = pd.Timedelta(str(min_off_duration) + 's')\n",
    "    timestep = pd.Timedelta('6s')\n",
    "    \n",
    "    for time in power_series.index:\n",
    "        measurement = power_series.loc[time]['Power']\n",
    "        measurements_processed +=1\n",
    "        \n",
    "        if measurements_processed % series_length_percent == 0:\n",
    "            print(str(measurements_processed/series_length_percent) + '%')\n",
    "        \n",
    "        if (measurement >= power_threshold):\n",
    "            if signal_start is None:\n",
    "                signal_start = time - timestep\n",
    "            no_signal = 0\n",
    "            current_signal.append(measurement)\n",
    "            signal_end = time + timestep\n",
    "            \n",
    "        else:\n",
    "            if signal_end is not None:\n",
    "                no_signal = time - signal_end\n",
    "                if (no_signal >= min_off_duration) and (signal_start is not None):\n",
    "                    if (signal_end - signal_start) > min_on_duration:\n",
    "                        mean_power = np.mean(current_signal)\n",
    "                        activations.append([signal_start,signal_end,mean_power])\n",
    "                    current_signal = []\n",
    "                    signal_start = None\n",
    "                    signal_end = None\n",
    "    \n",
    "    return activations"
   ]
  },
  {
   "cell_type": "code",
   "execution_count": 5,
   "metadata": {},
   "outputs": [
    {
     "name": "stdout",
     "output_type": "stream",
     "text": [
      "1.0%\n",
      "2.0%\n",
      "3.0%\n",
      "4.0%\n",
      "5.0%\n",
      "6.0%\n",
      "7.0%\n",
      "8.0%\n",
      "9.0%\n",
      "10.0%\n",
      "11.0%\n",
      "12.0%\n",
      "13.0%\n",
      "14.0%\n",
      "15.0%\n",
      "16.0%\n",
      "17.0%\n",
      "18.0%\n",
      "19.0%\n",
      "20.0%\n",
      "21.0%\n",
      "22.0%\n",
      "23.0%\n",
      "24.0%\n",
      "25.0%\n",
      "26.0%\n",
      "27.0%\n",
      "28.0%\n",
      "29.0%\n",
      "30.0%\n",
      "31.0%\n",
      "32.0%\n",
      "33.0%\n",
      "34.0%\n",
      "35.0%\n",
      "36.0%\n",
      "37.0%\n",
      "38.0%\n",
      "39.0%\n",
      "40.0%\n",
      "41.0%\n",
      "42.0%\n",
      "43.0%\n",
      "44.0%\n",
      "45.0%\n",
      "46.0%\n",
      "47.0%\n",
      "48.0%\n",
      "49.0%\n",
      "50.0%\n",
      "51.0%\n",
      "52.0%\n",
      "53.0%\n",
      "54.0%\n",
      "55.0%\n",
      "56.0%\n",
      "57.0%\n",
      "58.0%\n",
      "59.0%\n",
      "60.0%\n",
      "61.0%\n",
      "62.0%\n",
      "63.0%\n",
      "64.0%\n",
      "65.0%\n",
      "66.0%\n",
      "67.0%\n",
      "68.0%\n",
      "69.0%\n",
      "70.0%\n",
      "71.0%\n",
      "72.0%\n",
      "73.0%\n",
      "74.0%\n",
      "75.0%\n",
      "76.0%\n",
      "77.0%\n",
      "78.0%\n",
      "79.0%\n",
      "80.0%\n",
      "81.0%\n",
      "82.0%\n",
      "83.0%\n",
      "84.0%\n",
      "85.0%\n",
      "86.0%\n",
      "87.0%\n",
      "88.0%\n",
      "89.0%\n",
      "90.0%\n",
      "91.0%\n",
      "92.0%\n",
      "93.0%\n",
      "94.0%\n",
      "95.0%\n",
      "96.0%\n",
      "97.0%\n",
      "98.0%\n",
      "99.0%\n",
      "100.0%\n"
     ]
    }
   ],
   "source": [
    "kettle_activations = get_activations(kettle_power)"
   ]
  },
  {
   "cell_type": "code",
   "execution_count": 6,
   "metadata": {},
   "outputs": [
    {
     "data": {
      "text/html": [
       "<div>\n",
       "<style>\n",
       "    .dataframe thead tr:only-child th {\n",
       "        text-align: right;\n",
       "    }\n",
       "\n",
       "    .dataframe thead th {\n",
       "        text-align: left;\n",
       "    }\n",
       "\n",
       "    .dataframe tbody tr th {\n",
       "        vertical-align: top;\n",
       "    }\n",
       "</style>\n",
       "<table border=\"1\" class=\"dataframe\">\n",
       "  <thead>\n",
       "    <tr style=\"text-align: right;\">\n",
       "      <th></th>\n",
       "      <th>start</th>\n",
       "      <th>end</th>\n",
       "      <th>mean_power</th>\n",
       "    </tr>\n",
       "  </thead>\n",
       "  <tbody>\n",
       "    <tr>\n",
       "      <th>0</th>\n",
       "      <td>2013-04-17 08:01:11</td>\n",
       "      <td>2013-04-17 08:03:11</td>\n",
       "      <td>2846.210526</td>\n",
       "    </tr>\n",
       "    <tr>\n",
       "      <th>1</th>\n",
       "      <td>2013-04-17 16:23:28</td>\n",
       "      <td>2013-04-17 16:26:22</td>\n",
       "      <td>3016.071429</td>\n",
       "    </tr>\n",
       "    <tr>\n",
       "      <th>2</th>\n",
       "      <td>2013-04-17 19:11:30</td>\n",
       "      <td>2013-04-17 19:15:12</td>\n",
       "      <td>2897.971429</td>\n",
       "    </tr>\n",
       "    <tr>\n",
       "      <th>3</th>\n",
       "      <td>2013-04-17 20:40:15</td>\n",
       "      <td>2013-04-17 20:43:21</td>\n",
       "      <td>2998.500000</td>\n",
       "    </tr>\n",
       "    <tr>\n",
       "      <th>4</th>\n",
       "      <td>2013-04-18 15:32:01</td>\n",
       "      <td>2013-04-18 15:35:01</td>\n",
       "      <td>3007.241379</td>\n",
       "    </tr>\n",
       "  </tbody>\n",
       "</table>\n",
       "</div>"
      ],
      "text/plain": [
       "                start                 end   mean_power\n",
       "0 2013-04-17 08:01:11 2013-04-17 08:03:11  2846.210526\n",
       "1 2013-04-17 16:23:28 2013-04-17 16:26:22  3016.071429\n",
       "2 2013-04-17 19:11:30 2013-04-17 19:15:12  2897.971429\n",
       "3 2013-04-17 20:40:15 2013-04-17 20:43:21  2998.500000\n",
       "4 2013-04-18 15:32:01 2013-04-18 15:35:01  3007.241379"
      ]
     },
     "execution_count": 6,
     "metadata": {},
     "output_type": "execute_result"
    }
   ],
   "source": [
    "kettle_activations_pd = pd.DataFrame(kettle_activations, columns = ['start','end','mean_power'])\n",
    "kettle_activations_pd['start'] = pd.to_datetime(kettle_activations_pd['start'])\n",
    "kettle_activations_pd['end'] = pd.to_datetime(kettle_activations_pd['end'])\n",
    "\n",
    "kettle_activations_pd.head()"
   ]
  },
  {
   "cell_type": "code",
   "execution_count": 7,
   "metadata": {},
   "outputs": [
    {
     "name": "stdout",
     "output_type": "stream",
     "text": [
      "2013-04-21 08:41:28 2013-04-21 08:45:10\n"
     ]
    },
    {
     "data": {
      "image/png": "[encoded data removed]",
      "text/plain": [
       "<matplotlib.figure.Figure at 0x7f97a4409ef0>"
      ]
     },
     "metadata": {},
     "output_type": "display_data"
    }
   ],
   "source": [
    "for _ in range(1):\n",
    "    dice = np.random.randint(0,100)\n",
    "    start = kettle_activations_pd.iloc[dice]['start']\n",
    "    end = kettle_activations_pd.iloc[dice]['end']\n",
    "    print(start,end)\n",
    "    aggregate_power[start:end].plot()\n",
    "    plt.show()"
   ]
  },
  {
   "cell_type": "code",
   "execution_count": 8,
   "metadata": {
    "collapsed": true
   },
   "outputs": [],
   "source": [
    "def clean_power_series(aggregate_power, activations):\n",
    "    \n",
    "    temp_ap = aggregate_power.copy()\n",
    "    \n",
    "    n = activations.shape[0]\n",
    "\n",
    "    #pcent = int(n/100)\n",
    "    ap_sans_activations = pd.DataFrame()\n",
    "    \n",
    "    ap_sans_activations.append(temp_ap[:activations['start'][0]])\n",
    "    \n",
    "    for i in range(1,n):\n",
    "        ap_sans_activations = ap_sans_activations.append(temp_ap[activations['end'][i-1]:activations['start'][i]])\n",
    "    \n",
    "    ap_sans_activations.append(temp_ap[activations['end'][i]:])\n",
    "    \n",
    "    return ap_sans_activations\n",
    "\n",
    "\n",
    "def create_training_set(aggregate_power, activations, ap_sans_activations = None, sample_length = 128, pad = 1024):\n",
    "    training_set = pd.DataFrame(columns = np.linspace(0,1,sample_length))\n",
    "    training_set_response = pd.DataFrame(columns = ['start','end','mean_power'])\n",
    "\n",
    "    #aggregate power sans the activation intervals\n",
    "    if ap_sans_activations is None:\n",
    "        ap_sans_activations = clean_power_series(aggregate_power,activations)\n",
    "\n",
    "    n = aggregate_power.shape[0]\n",
    "    j = 0\n",
    "    for i in range(activations.shape[0]):\n",
    "        if i % 100 == 0:\n",
    "            print(i)\n",
    "        while True:\n",
    "            dice = np.random.random()\n",
    "            if dice < 0.5:\n",
    "                start = activations['start'][i]\n",
    "                end = activations['end'][i]\n",
    "                #randomly place the chosen signal in a window.\n",
    "                #note that the entire signal is always in the window \n",
    "                sample_start = start - pd.Timedelta(np.random.randint(0,pad),unit='s')\n",
    "                sample_end = end + pd.Timedelta(np.random.randint(0,pad),unit='s')\n",
    "                sample = aggregate_power[sample_start:sample_end]\n",
    "\n",
    "                while sample.shape[0] > sample_length:\n",
    "                    if np.random.random() > 0.5 and end < sample.index[-1]:\n",
    "                        sample = sample.iloc[:-1]\n",
    "                    elif start > sample.index[0]:\n",
    "                        sample = sample.iloc[1:]\n",
    "                    else:\n",
    "                        sample = sample.iloc[0:1]\n",
    "                \n",
    "                if not sample.shape[0] < sample_length:\n",
    "                    \n",
    "                    #sample = sample.reindex(columns=training_set.columns, method='nearest')\n",
    "                    start_fraction = (start - sample.index[0])/(sample.index[-1] - sample.index[0])\n",
    "                    end_fraction = (end - sample.index[0])/(sample.index[-1] - sample.index[0])\n",
    "                    training_set.loc[j] = sample.T.values[0]\n",
    "                    training_set_response.loc[j] = [start_fraction,end_fraction,activations['mean_power'][i]]\n",
    "                    j+=1\n",
    "                \n",
    "                break\n",
    "                \n",
    "                \n",
    "            ri = np.random.randint(0,ap_sans_activations.shape[0]-sample_length)\n",
    "            sample = ap_sans_activations.iloc[ri: ri+sample_length]\n",
    "            training_set.loc[j] = sample.T.values[0]\n",
    "            training_set_response.loc[j] = [0,0,0]\n",
    "            j+=1\n",
    "            \n",
    "    return training_set, training_set_response\n",
    "\n"
   ]
  },
  {
   "cell_type": "markdown",
   "metadata": {},
   "source": [
    "#### Note: \n",
    "drop() takes forever, avoid it.<br>\n"
   ]
  },
  {
   "cell_type": "code",
   "execution_count": 9,
   "metadata": {
    "scrolled": true
   },
   "outputs": [],
   "source": [
    "clean_ap = clean_power_series(aggregate_power,kettle_activations_pd)"
   ]
  },
  {
   "cell_type": "code",
   "execution_count": 10,
   "metadata": {},
   "outputs": [
    {
     "name": "stdout",
     "output_type": "stream",
     "text": [
      "0\n",
      "100\n",
      "200\n",
      "300\n",
      "400\n",
      "500\n",
      "600\n",
      "700\n"
     ]
    },
    {
     "data": {
      "text/html": [
       "<div>\n",
       "<style>\n",
       "    .dataframe thead tr:only-child th {\n",
       "        text-align: right;\n",
       "    }\n",
       "\n",
       "    .dataframe thead th {\n",
       "        text-align: left;\n",
       "    }\n",
       "\n",
       "    .dataframe tbody tr th {\n",
       "        vertical-align: top;\n",
       "    }\n",
       "</style>\n",
       "<table border=\"1\" class=\"dataframe\">\n",
       "  <thead>\n",
       "    <tr style=\"text-align: right;\">\n",
       "      <th></th>\n",
       "      <th>0.0</th>\n",
       "      <th>0.00787401574803</th>\n",
       "      <th>0.0157480314961</th>\n",
       "      <th>0.0236220472441</th>\n",
       "      <th>0.0314960629921</th>\n",
       "      <th>0.0393700787402</th>\n",
       "      <th>0.0472440944882</th>\n",
       "      <th>0.0551181102362</th>\n",
       "      <th>0.0629921259843</th>\n",
       "      <th>0.0708661417323</th>\n",
       "      <th>...</th>\n",
       "      <th>0.929133858268</th>\n",
       "      <th>0.937007874016</th>\n",
       "      <th>0.944881889764</th>\n",
       "      <th>0.952755905512</th>\n",
       "      <th>0.96062992126</th>\n",
       "      <th>0.968503937008</th>\n",
       "      <th>0.976377952756</th>\n",
       "      <th>0.984251968504</th>\n",
       "      <th>0.992125984252</th>\n",
       "      <th>1.0</th>\n",
       "    </tr>\n",
       "  </thead>\n",
       "  <tbody>\n",
       "    <tr>\n",
       "      <th>0</th>\n",
       "      <td>133</td>\n",
       "      <td>132</td>\n",
       "      <td>133</td>\n",
       "      <td>133</td>\n",
       "      <td>131</td>\n",
       "      <td>133</td>\n",
       "      <td>134</td>\n",
       "      <td>133</td>\n",
       "      <td>134</td>\n",
       "      <td>133</td>\n",
       "      <td>...</td>\n",
       "      <td>218</td>\n",
       "      <td>219</td>\n",
       "      <td>216</td>\n",
       "      <td>224</td>\n",
       "      <td>233</td>\n",
       "      <td>218</td>\n",
       "      <td>218</td>\n",
       "      <td>210</td>\n",
       "      <td>205</td>\n",
       "      <td>210</td>\n",
       "    </tr>\n",
       "    <tr>\n",
       "      <th>1</th>\n",
       "      <td>197</td>\n",
       "      <td>199</td>\n",
       "      <td>196</td>\n",
       "      <td>198</td>\n",
       "      <td>197</td>\n",
       "      <td>197</td>\n",
       "      <td>196</td>\n",
       "      <td>200</td>\n",
       "      <td>200</td>\n",
       "      <td>196</td>\n",
       "      <td>...</td>\n",
       "      <td>195</td>\n",
       "      <td>197</td>\n",
       "      <td>195</td>\n",
       "      <td>198</td>\n",
       "      <td>198</td>\n",
       "      <td>198</td>\n",
       "      <td>198</td>\n",
       "      <td>198</td>\n",
       "      <td>198</td>\n",
       "      <td>196</td>\n",
       "    </tr>\n",
       "    <tr>\n",
       "      <th>2</th>\n",
       "      <td>219</td>\n",
       "      <td>163</td>\n",
       "      <td>148</td>\n",
       "      <td>148</td>\n",
       "      <td>150</td>\n",
       "      <td>147</td>\n",
       "      <td>148</td>\n",
       "      <td>150</td>\n",
       "      <td>148</td>\n",
       "      <td>148</td>\n",
       "      <td>...</td>\n",
       "      <td>212</td>\n",
       "      <td>212</td>\n",
       "      <td>206</td>\n",
       "      <td>207</td>\n",
       "      <td>207</td>\n",
       "      <td>208</td>\n",
       "      <td>209</td>\n",
       "      <td>210</td>\n",
       "      <td>209</td>\n",
       "      <td>197</td>\n",
       "    </tr>\n",
       "    <tr>\n",
       "      <th>3</th>\n",
       "      <td>227</td>\n",
       "      <td>224</td>\n",
       "      <td>220</td>\n",
       "      <td>220</td>\n",
       "      <td>218</td>\n",
       "      <td>218</td>\n",
       "      <td>218</td>\n",
       "      <td>219</td>\n",
       "      <td>218</td>\n",
       "      <td>222</td>\n",
       "      <td>...</td>\n",
       "      <td>278</td>\n",
       "      <td>276</td>\n",
       "      <td>280</td>\n",
       "      <td>274</td>\n",
       "      <td>278</td>\n",
       "      <td>283</td>\n",
       "      <td>271</td>\n",
       "      <td>274</td>\n",
       "      <td>278</td>\n",
       "      <td>290</td>\n",
       "    </tr>\n",
       "    <tr>\n",
       "      <th>4</th>\n",
       "      <td>384</td>\n",
       "      <td>372</td>\n",
       "      <td>372</td>\n",
       "      <td>370</td>\n",
       "      <td>377</td>\n",
       "      <td>382</td>\n",
       "      <td>378</td>\n",
       "      <td>378</td>\n",
       "      <td>383</td>\n",
       "      <td>3376</td>\n",
       "      <td>...</td>\n",
       "      <td>329</td>\n",
       "      <td>330</td>\n",
       "      <td>323</td>\n",
       "      <td>332</td>\n",
       "      <td>326</td>\n",
       "      <td>329</td>\n",
       "      <td>280</td>\n",
       "      <td>264</td>\n",
       "      <td>270</td>\n",
       "      <td>266</td>\n",
       "    </tr>\n",
       "  </tbody>\n",
       "</table>\n",
       "<p>5 rows × 128 columns</p>\n",
       "</div>"
      ],
      "text/plain": [
       "  0.000000 0.007874 0.015748 0.023622 0.031496 0.039370 0.047244 0.055118  \\\n",
       "0      133      132      133      133      131      133      134      133   \n",
       "1      197      199      196      198      197      197      196      200   \n",
       "2      219      163      148      148      150      147      148      150   \n",
       "3      227      224      220      220      218      218      218      219   \n",
       "4      384      372      372      370      377      382      378      378   \n",
       "\n",
       "  0.062992 0.070866   ...    0.929134 0.937008 0.944882 0.952756 0.960630  \\\n",
       "0      134      133   ...         218      219      216      224      233   \n",
       "1      200      196   ...         195      197      195      198      198   \n",
       "2      148      148   ...         212      212      206      207      207   \n",
       "3      218      222   ...         278      276      280      274      278   \n",
       "4      383     3376   ...         329      330      323      332      326   \n",
       "\n",
       "  0.968504 0.976378 0.984252 0.992126 1.000000  \n",
       "0      218      218      210      205      210  \n",
       "1      198      198      198      198      196  \n",
       "2      208      209      210      209      197  \n",
       "3      283      271      274      278      290  \n",
       "4      329      280      264      270      266  \n",
       "\n",
       "[5 rows x 128 columns]"
      ]
     },
     "execution_count": 10,
     "metadata": {},
     "output_type": "execute_result"
    }
   ],
   "source": [
    "X, y = create_training_set(aggregate_power, kettle_activations_pd,\n",
    "                                            ap_sans_activations = clean_ap,\n",
    "                                            sample_length = sample_length)\n",
    "X.head()"
   ]
  },
  {
   "cell_type": "code",
   "execution_count": 11,
   "metadata": {},
   "outputs": [
    {
     "name": "stderr",
     "output_type": "stream",
     "text": [
      "Using TensorFlow backend.\n"
     ]
    }
   ],
   "source": [
    "from keras.models import load_model\n",
    "\n",
    "model = load_model('../master_data/nilm/models/model0118.h5')\n",
    "normalization = pd.read_csv('../master_data/nilm/normalization_params.csv', header=0, delim_whitespace=True)\n"
   ]
  },
  {
   "cell_type": "code",
   "execution_count": 16,
   "metadata": {},
   "outputs": [
    {
     "data": {
      "text/html": [
       "<div>\n",
       "<style>\n",
       "    .dataframe thead tr:only-child th {\n",
       "        text-align: right;\n",
       "    }\n",
       "\n",
       "    .dataframe thead th {\n",
       "        text-align: left;\n",
       "    }\n",
       "\n",
       "    .dataframe tbody tr th {\n",
       "        vertical-align: top;\n",
       "    }\n",
       "</style>\n",
       "<table border=\"1\" class=\"dataframe\">\n",
       "  <thead>\n",
       "    <tr style=\"text-align: right;\">\n",
       "      <th></th>\n",
       "      <th>mean</th>\n",
       "      <th>sd</th>\n",
       "    </tr>\n",
       "  </thead>\n",
       "  <tbody>\n",
       "    <tr>\n",
       "      <th>0</th>\n",
       "      <td>577.388628</td>\n",
       "      <td>560.485032</td>\n",
       "    </tr>\n",
       "  </tbody>\n",
       "</table>\n",
       "</div>"
      ],
      "text/plain": [
       "         mean          sd\n",
       "0  577.388628  560.485032"
      ]
     },
     "execution_count": 16,
     "metadata": {},
     "output_type": "execute_result"
    }
   ],
   "source": [
    "normalization.head()"
   ]
  },
  {
   "cell_type": "code",
   "execution_count": 17,
   "metadata": {
    "scrolled": false
   },
   "outputs": [
    {
     "name": "stdout",
     "output_type": "stream",
     "text": [
      "Mean:  0.07300032156577452\n",
      "Std:  1.74701390676\n"
     ]
    }
   ],
   "source": [
    "X_np = np.array(X).reshape((X.shape[0],X.shape[1],1))\n",
    "y_np = np.array(y).reshape((y.shape[0],y.shape[1]))\n",
    "\n",
    "mean = normalization['mean'].values[0]\n",
    "X_np = X_np - mean\n",
    "sd = normalization['sd'].values[0]\n",
    "#rand_sd = rand_sd.sample(frac=1).reset_index(drop=True)\n",
    "X_np /= sd\n",
    "print(\"Mean: \", X_np.mean())\n",
    "print(\"Std: \", X_np.std())"
   ]
  },
  {
   "cell_type": "code",
   "execution_count": 33,
   "metadata": {
    "scrolled": false
   },
   "outputs": [
    {
     "name": "stdout",
     "output_type": "stream",
     "text": [
      "(1373, 3)\n"
     ]
    },
    {
     "data": {
      "image/png": "[encoded data removed]",
      "text/plain": [
       "<matplotlib.figure.Figure at 0x7f978cf1ab38>"
      ]
     },
     "metadata": {},
     "output_type": "display_data"
    },
    {
     "data": {
      "image/png": "[encoded data removed]",
      "text/plain": [
       "<matplotlib.figure.Figure at 0x7f978d037c88>"
      ]
     },
     "metadata": {},
     "output_type": "display_data"
    },
    {
     "data": {
      "image/png": "[encoded data removed]",
      "text/plain": [
       "<matplotlib.figure.Figure at 0x7f978d238438>"
      ]
     },
     "metadata": {},
     "output_type": "display_data"
    }
   ],
   "source": [
    "\n",
    "pred = model.predict(X_np)\n",
    "\n",
    "diff_power = pred[:,2] - y_np[:,2]\n",
    "diff_clean = pred[:,2][y_np[:,2] == 0] - y_np[:,2][y_np[:,2] == 0]\n",
    "diff_signal = pred[:,2][y_np[:,2] != 0] - y_np[:,2][y_np[:,2] != 0]\n",
    "\n",
    "\n",
    "print(pred.shape)\n",
    "\n",
    "plt.hist(diff_power,bins=50, color='teal')\n",
    "plt.title(\"Distribution of prediction - measurement\")\n",
    "plt.show()\n",
    "\n",
    "plt.hist(diff_clean,bins=50, color='teal')\n",
    "plt.title(\"Distribution of prediction - measurement with no signal present\")\n",
    "plt.show()\n",
    "\n",
    "plt.hist(diff_signal,bins=50, color='teal')\n",
    "plt.title(\"Distribution of prediction - measurement with signal present\")\n",
    "plt.show()"
   ]
  },
  {
   "cell_type": "markdown",
   "metadata": {},
   "source": [
    "As seen previously, the model seems to predict fairly well whether or not a signal is present. However, it systematically underestimates the average power of the signal by around 700W. It does this however, with a large degree of confidence. Perhaps a different normalization would allow it to shift the distribution."
   ]
  },
  {
   "cell_type": "code",
   "execution_count": 37,
   "metadata": {
    "scrolled": false
   },
   "outputs": [
    {
     "name": "stdout",
     "output_type": "stream",
     "text": [
      "Best accuracy:  0.991055456172\n"
     ]
    },
    {
     "data": {
      "image/png": "[encoded data removed]",
      "text/plain": [
       "<matplotlib.figure.Figure at 0x7f978ccd4e48>"
      ]
     },
     "metadata": {},
     "output_type": "display_data"
    }
   ],
   "source": [
    "#F1 score = 2*(recall*precision)/(recall+precision)\n",
    "signal_present_gold = np.zeros(pred.shape[0])\n",
    "signal_present_gold[np.where(y_np[:,2] > 0)] = 1\n",
    "accs = []\n",
    "thresholds = np.arange(100,2000,100)\n",
    "\n",
    "for i in thresholds:\n",
    "    signal_present_pred = np.zeros(pred.shape[0])\n",
    "    signal_present_pred[np.where(pred[:,2] >= i)] = 1\n",
    "    \n",
    "    precision = signal_present_gold[signal_present_gold + signal_present_pred == 2].shape[0]/np.sum(signal_present_pred)\n",
    "    recall = signal_present_gold[signal_present_gold + signal_present_pred == 2].shape[0]/np.sum(signal_present_gold)\n",
    "    f1 = 2*(recall*precision)/(recall+precision)\n",
    "    \n",
    "    accs.append(f1)\n",
    "    \n",
    "print(\"Best accuracy: \", max(accs))\n",
    "plt.plot(thresholds,accs)\n",
    "plt.xticks = thresholds\n",
    "plt.show()\n"
   ]
  },
  {
   "cell_type": "markdown",
   "metadata": {},
   "source": [
    "Thresholding around 1300W allows for a >99% accuracy."
   ]
  },
  {
   "cell_type": "markdown",
   "metadata": {},
   "source": [
    "## Downsampling (NOT UPDATED)\n",
    "\n",
    "In the following section, I wattempt to downsample the signal and observe the change in accuracy (since this was the only metric in which the net acheived a decent score) when testing the model trained on the high-frequency data on the downsampled time series."
   ]
  },
  {
   "cell_type": "code",
   "execution_count": 1,
   "metadata": {},
   "outputs": [
    {
     "ename": "NameError",
     "evalue": "name 'aggregate_power' is not defined",
     "output_type": "error",
     "traceback": [
      "\u001b[0;31m---------------------------------------------------------------------------\u001b[0m",
      "\u001b[0;31mNameError\u001b[0m                                 Traceback (most recent call last)",
      "\u001b[0;32m<ipython-input-1-521fc9cbf1de>\u001b[0m in \u001b[0;36m<module>\u001b[0;34m()\u001b[0m\n\u001b[0;32m----> 1\u001b[0;31m \u001b[0maggregate_power_ds\u001b[0m \u001b[0;34m=\u001b[0m \u001b[0maggregate_power\u001b[0m\u001b[0;34m.\u001b[0m\u001b[0mresample\u001b[0m\u001b[0;34m(\u001b[0m\u001b[0;34m'2min'\u001b[0m\u001b[0;34m)\u001b[0m\u001b[0;34m.\u001b[0m\u001b[0mmean\u001b[0m\u001b[0;34m(\u001b[0m\u001b[0;34m)\u001b[0m\u001b[0;34m\u001b[0m\u001b[0m\n\u001b[0m\u001b[1;32m      2\u001b[0m \u001b[0msample_length\u001b[0m \u001b[0;34m=\u001b[0m \u001b[0;36m128\u001b[0m\u001b[0;34m\u001b[0m\u001b[0m\n\u001b[1;32m      3\u001b[0m \u001b[0mprint\u001b[0m\u001b[0;34m(\u001b[0m\u001b[0maggregate_power_ds\u001b[0m\u001b[0;34m.\u001b[0m\u001b[0msize\u001b[0m\u001b[0;34m)\u001b[0m\u001b[0;34m\u001b[0m\u001b[0m\n\u001b[1;32m      4\u001b[0m training_set_kettle_ds, response_kettle_ds = create_training_set(aggregate_power_ds, kettle_activations,\n\u001b[1;32m      5\u001b[0m                                                           sample_length = sample_length, pad = 50000)\n",
      "\u001b[0;31mNameError\u001b[0m: name 'aggregate_power' is not defined"
     ]
    }
   ],
   "source": [
    "aggregate_power_ds = aggregate_power.resample('2min').mean()\n",
    "sample_length = 128\n",
    "print(aggregate_power_ds.size)\n",
    "training_set_kettle_ds, response_kettle_ds = create_training_set(aggregate_power_ds, kettle_activations,\n",
    "                                                          sample_length = sample_length, pad = 50000)\n",
    "training_set_kettle_ds.head()"
   ]
  },
  {
   "cell_type": "code",
   "execution_count": 329,
   "metadata": {},
   "outputs": [
    {
     "data": {
      "text/plain": [
       "388608"
      ]
     },
     "execution_count": 329,
     "metadata": {},
     "output_type": "execute_result"
    }
   ],
   "source": [
    "row_mean = training_set_kettle_ds.mean(axis=1)\n",
    "training_set_kettle_ds_n = training_set_kettle_ds.sub(row_mean.T,axis=0)\n",
    "rand_sd = training_set_kettle_ds.std(axis=1)\n",
    "rand_sd = rand_sd.sample(frac=1).reset_index(drop=True)\n",
    "training_set_kettle_ds_n = training_set_kettle_ds_n.div(rand_sd,axis=0).dropna()\n",
    "training_set_kettle_ds_n.size\n"
   ]
  },
  {
   "cell_type": "code",
   "execution_count": 335,
   "metadata": {},
   "outputs": [
    {
     "data": {
      "text/html": [
       "<div>\n",
       "<style>\n",
       "    .dataframe thead tr:only-child th {\n",
       "        text-align: right;\n",
       "    }\n",
       "\n",
       "    .dataframe thead th {\n",
       "        text-align: left;\n",
       "    }\n",
       "\n",
       "    .dataframe tbody tr th {\n",
       "        vertical-align: top;\n",
       "    }\n",
       "</style>\n",
       "<table border=\"1\" class=\"dataframe\">\n",
       "  <thead>\n",
       "    <tr style=\"text-align: right;\">\n",
       "      <th></th>\n",
       "      <th>start</th>\n",
       "      <th>end</th>\n",
       "      <th>mean_power</th>\n",
       "    </tr>\n",
       "  </thead>\n",
       "  <tbody>\n",
       "    <tr>\n",
       "      <th>2553</th>\n",
       "      <td>0</td>\n",
       "      <td>0</td>\n",
       "      <td>0</td>\n",
       "    </tr>\n",
       "    <tr>\n",
       "      <th>2554</th>\n",
       "      <td>0</td>\n",
       "      <td>0</td>\n",
       "      <td>0</td>\n",
       "    </tr>\n",
       "    <tr>\n",
       "      <th>2555</th>\n",
       "      <td>0</td>\n",
       "      <td>0</td>\n",
       "      <td>0</td>\n",
       "    </tr>\n",
       "    <tr>\n",
       "      <th>2556</th>\n",
       "      <td>0</td>\n",
       "      <td>0</td>\n",
       "      <td>0</td>\n",
       "    </tr>\n",
       "    <tr>\n",
       "      <th>2557</th>\n",
       "      <td>0</td>\n",
       "      <td>0</td>\n",
       "      <td>0</td>\n",
       "    </tr>\n",
       "    <tr>\n",
       "      <th>2558</th>\n",
       "      <td>0</td>\n",
       "      <td>0</td>\n",
       "      <td>0</td>\n",
       "    </tr>\n",
       "    <tr>\n",
       "      <th>2559</th>\n",
       "      <td>0</td>\n",
       "      <td>0</td>\n",
       "      <td>0</td>\n",
       "    </tr>\n",
       "    <tr>\n",
       "      <th>2560</th>\n",
       "      <td>0</td>\n",
       "      <td>0</td>\n",
       "      <td>0</td>\n",
       "    </tr>\n",
       "    <tr>\n",
       "      <th>2561</th>\n",
       "      <td>0</td>\n",
       "      <td>0</td>\n",
       "      <td>0</td>\n",
       "    </tr>\n",
       "    <tr>\n",
       "      <th>2562</th>\n",
       "      <td>0</td>\n",
       "      <td>0</td>\n",
       "      <td>0</td>\n",
       "    </tr>\n",
       "    <tr>\n",
       "      <th>2563</th>\n",
       "      <td>0</td>\n",
       "      <td>0</td>\n",
       "      <td>0</td>\n",
       "    </tr>\n",
       "    <tr>\n",
       "      <th>2564</th>\n",
       "      <td>0</td>\n",
       "      <td>0</td>\n",
       "      <td>0</td>\n",
       "    </tr>\n",
       "    <tr>\n",
       "      <th>2565</th>\n",
       "      <td>0</td>\n",
       "      <td>0</td>\n",
       "      <td>0</td>\n",
       "    </tr>\n",
       "    <tr>\n",
       "      <th>2566</th>\n",
       "      <td>0</td>\n",
       "      <td>0</td>\n",
       "      <td>0</td>\n",
       "    </tr>\n",
       "    <tr>\n",
       "      <th>2567</th>\n",
       "      <td>0</td>\n",
       "      <td>0</td>\n",
       "      <td>0</td>\n",
       "    </tr>\n",
       "    <tr>\n",
       "      <th>2568</th>\n",
       "      <td>0</td>\n",
       "      <td>0</td>\n",
       "      <td>0</td>\n",
       "    </tr>\n",
       "    <tr>\n",
       "      <th>2569</th>\n",
       "      <td>0</td>\n",
       "      <td>0</td>\n",
       "      <td>0</td>\n",
       "    </tr>\n",
       "    <tr>\n",
       "      <th>2570</th>\n",
       "      <td>0</td>\n",
       "      <td>0</td>\n",
       "      <td>0</td>\n",
       "    </tr>\n",
       "    <tr>\n",
       "      <th>2571</th>\n",
       "      <td>0</td>\n",
       "      <td>0</td>\n",
       "      <td>0</td>\n",
       "    </tr>\n",
       "    <tr>\n",
       "      <th>2572</th>\n",
       "      <td>0</td>\n",
       "      <td>0</td>\n",
       "      <td>0</td>\n",
       "    </tr>\n",
       "    <tr>\n",
       "      <th>2573</th>\n",
       "      <td>0</td>\n",
       "      <td>0</td>\n",
       "      <td>0</td>\n",
       "    </tr>\n",
       "    <tr>\n",
       "      <th>2574</th>\n",
       "      <td>0</td>\n",
       "      <td>0</td>\n",
       "      <td>0</td>\n",
       "    </tr>\n",
       "    <tr>\n",
       "      <th>2575</th>\n",
       "      <td>0</td>\n",
       "      <td>0</td>\n",
       "      <td>0</td>\n",
       "    </tr>\n",
       "    <tr>\n",
       "      <th>2576</th>\n",
       "      <td>0</td>\n",
       "      <td>0</td>\n",
       "      <td>0</td>\n",
       "    </tr>\n",
       "    <tr>\n",
       "      <th>2577</th>\n",
       "      <td>0</td>\n",
       "      <td>0</td>\n",
       "      <td>0</td>\n",
       "    </tr>\n",
       "    <tr>\n",
       "      <th>2578</th>\n",
       "      <td>0</td>\n",
       "      <td>0</td>\n",
       "      <td>0</td>\n",
       "    </tr>\n",
       "    <tr>\n",
       "      <th>2579</th>\n",
       "      <td>0</td>\n",
       "      <td>0</td>\n",
       "      <td>0</td>\n",
       "    </tr>\n",
       "    <tr>\n",
       "      <th>2580</th>\n",
       "      <td>0</td>\n",
       "      <td>0</td>\n",
       "      <td>0</td>\n",
       "    </tr>\n",
       "    <tr>\n",
       "      <th>2581</th>\n",
       "      <td>0</td>\n",
       "      <td>0</td>\n",
       "      <td>0</td>\n",
       "    </tr>\n",
       "  </tbody>\n",
       "</table>\n",
       "</div>"
      ],
      "text/plain": [
       "     start end mean_power\n",
       "2553     0   0          0\n",
       "2554     0   0          0\n",
       "2555     0   0          0\n",
       "2556     0   0          0\n",
       "2557     0   0          0\n",
       "2558     0   0          0\n",
       "2559     0   0          0\n",
       "2560     0   0          0\n",
       "2561     0   0          0\n",
       "2562     0   0          0\n",
       "2563     0   0          0\n",
       "2564     0   0          0\n",
       "2565     0   0          0\n",
       "2566     0   0          0\n",
       "2567     0   0          0\n",
       "2568     0   0          0\n",
       "2569     0   0          0\n",
       "2570     0   0          0\n",
       "2571     0   0          0\n",
       "2572     0   0          0\n",
       "2573     0   0          0\n",
       "2574     0   0          0\n",
       "2575     0   0          0\n",
       "2576     0   0          0\n",
       "2577     0   0          0\n",
       "2578     0   0          0\n",
       "2579     0   0          0\n",
       "2580     0   0          0\n",
       "2581     0   0          0"
      ]
     },
     "execution_count": 335,
     "metadata": {},
     "output_type": "execute_result"
    }
   ],
   "source": [
    "\n",
    "data_ds = pd.concat([training_set_kettle_ds,response_kettle_ds],axis=1)\n",
    "data_ds = data_ds.sample(frac=1).reset_index(drop=True)\n",
    "\n",
    "split = int(data_ds.shape[0]*0.75)\n",
    "training_set_ds = data_ds[:split]\n",
    "test_set_ds = data_ds[split:]\n",
    "\n",
    "X_ds = test_set_ds.iloc[:,:-3]\n",
    "y_ds = test_set_ds.iloc[:,-3:]\n"
   ]
  },
  {
   "cell_type": "code",
   "execution_count": 325,
   "metadata": {
    "collapsed": true
   },
   "outputs": [],
   "source": [
    "X_ds = np.array(X_ds).reshape((X_ds.shape[0],X_ds.shape[1],1))\n",
    "y_ds = np.array(y_ds)\n",
    "\n",
    "pred_ds = pred = model.predict(X_ds)\n",
    "\n",
    "\n",
    "#print(y_ds[:,2][y_ds[:,2] > 0].min())\n"
   ]
  },
  {
   "cell_type": "code",
   "execution_count": 326,
   "metadata": {},
   "outputs": [
    {
     "name": "stdout",
     "output_type": "stream",
     "text": [
      "[48.905948638916016 698.433837890625 3.0191001892089844 10.668148040771484\n",
      " 696.7069091796875 31.583616256713867 794.8026733398438 11.881888389587402\n",
      " nan 5.796083450317383]\n"
     ]
    },
    {
     "data": {
      "image/png": "[encoded data removed]",
      "text/plain": [
       "<matplotlib.figure.Figure at 0x7fd6d5300b38>"
      ]
     },
     "metadata": {},
     "output_type": "display_data"
    },
    {
     "ename": "TypeError",
     "evalue": "ufunc 'isfinite' not supported for the input types, and the inputs could not be safely coerced to any supported types according to the casting rule ''safe''",
     "output_type": "error",
     "traceback": [
      "\u001b[0;31m---------------------------------------------------------------------------\u001b[0m",
      "\u001b[0;31mTypeError\u001b[0m                                 Traceback (most recent call last)",
      "\u001b[0;32m<ipython-input-326-033882401a4b>\u001b[0m in \u001b[0;36m<module>\u001b[0;34m()\u001b[0m\n\u001b[1;32m     18\u001b[0m \u001b[0mplt\u001b[0m\u001b[0;34m.\u001b[0m\u001b[0mshow\u001b[0m\u001b[0;34m(\u001b[0m\u001b[0;34m)\u001b[0m\u001b[0;34m\u001b[0m\u001b[0m\n\u001b[1;32m     19\u001b[0m \u001b[0;34m\u001b[0m\u001b[0m\n\u001b[0;32m---> 20\u001b[0;31m \u001b[0mplt\u001b[0m\u001b[0;34m.\u001b[0m\u001b[0mfill_between\u001b[0m\u001b[0;34m(\u001b[0m\u001b[0mnp\u001b[0m\u001b[0;34m.\u001b[0m\u001b[0marange\u001b[0m\u001b[0;34m(\u001b[0m\u001b[0;36m200\u001b[0m\u001b[0;34m)\u001b[0m\u001b[0;34m,\u001b[0m\u001b[0mdiff_v\u001b[0m\u001b[0;34m[\u001b[0m\u001b[0;34m:\u001b[0m\u001b[0;36m200\u001b[0m\u001b[0;34m]\u001b[0m\u001b[0;34m,\u001b[0m\u001b[0mwhere\u001b[0m\u001b[0;34m=\u001b[0m\u001b[0;34m(\u001b[0m\u001b[0mdiff_v\u001b[0m\u001b[0;34m[\u001b[0m\u001b[0;34m:\u001b[0m\u001b[0;36m200\u001b[0m\u001b[0;34m]\u001b[0m \u001b[0;34m>=\u001b[0m \u001b[0;36m0\u001b[0m\u001b[0;34m)\u001b[0m\u001b[0;34m,\u001b[0m\u001b[0mcolor\u001b[0m\u001b[0;34m=\u001b[0m\u001b[0;34m'green'\u001b[0m\u001b[0;34m)\u001b[0m\u001b[0;34m\u001b[0m\u001b[0m\n\u001b[0m\u001b[1;32m     21\u001b[0m \u001b[0mplt\u001b[0m\u001b[0;34m.\u001b[0m\u001b[0mfill_between\u001b[0m\u001b[0;34m(\u001b[0m\u001b[0mnp\u001b[0m\u001b[0;34m.\u001b[0m\u001b[0marange\u001b[0m\u001b[0;34m(\u001b[0m\u001b[0;36m200\u001b[0m\u001b[0;34m)\u001b[0m\u001b[0;34m,\u001b[0m\u001b[0mdiff_v\u001b[0m\u001b[0;34m[\u001b[0m\u001b[0;34m:\u001b[0m\u001b[0;36m200\u001b[0m\u001b[0;34m]\u001b[0m\u001b[0;34m,\u001b[0m\u001b[0mwhere\u001b[0m\u001b[0;34m=\u001b[0m\u001b[0;34m(\u001b[0m\u001b[0mdiff_v\u001b[0m\u001b[0;34m[\u001b[0m\u001b[0;34m:\u001b[0m\u001b[0;36m200\u001b[0m\u001b[0;34m]\u001b[0m \u001b[0;34m<\u001b[0m \u001b[0;36m0\u001b[0m\u001b[0;34m)\u001b[0m\u001b[0;34m,\u001b[0m\u001b[0mcolor\u001b[0m\u001b[0;34m=\u001b[0m\u001b[0;34m'red'\u001b[0m\u001b[0;34m)\u001b[0m\u001b[0;34m\u001b[0m\u001b[0m\n\u001b[1;32m     22\u001b[0m \u001b[0mplt\u001b[0m\u001b[0;34m.\u001b[0m\u001b[0mshow\u001b[0m\u001b[0;34m(\u001b[0m\u001b[0;34m)\u001b[0m\u001b[0;34m\u001b[0m\u001b[0m\n",
      "\u001b[0;32m~/anaconda3/lib/python3.6/site-packages/matplotlib/pyplot.py\u001b[0m in \u001b[0;36mfill_between\u001b[0;34m(x, y1, y2, where, interpolate, step, hold, data, **kwargs)\u001b[0m\n\u001b[1;32m   2921\u001b[0m         ret = ax.fill_between(x, y1, y2=y2, where=where,\n\u001b[1;32m   2922\u001b[0m                               \u001b[0minterpolate\u001b[0m\u001b[0;34m=\u001b[0m\u001b[0minterpolate\u001b[0m\u001b[0;34m,\u001b[0m \u001b[0mstep\u001b[0m\u001b[0;34m=\u001b[0m\u001b[0mstep\u001b[0m\u001b[0;34m,\u001b[0m \u001b[0mdata\u001b[0m\u001b[0;34m=\u001b[0m\u001b[0mdata\u001b[0m\u001b[0;34m,\u001b[0m\u001b[0;34m\u001b[0m\u001b[0m\n\u001b[0;32m-> 2923\u001b[0;31m                               **kwargs)\n\u001b[0m\u001b[1;32m   2924\u001b[0m     \u001b[0;32mfinally\u001b[0m\u001b[0;34m:\u001b[0m\u001b[0;34m\u001b[0m\u001b[0m\n\u001b[1;32m   2925\u001b[0m         \u001b[0max\u001b[0m\u001b[0;34m.\u001b[0m\u001b[0m_hold\u001b[0m \u001b[0;34m=\u001b[0m \u001b[0mwashold\u001b[0m\u001b[0;34m\u001b[0m\u001b[0m\n",
      "\u001b[0;32m~/anaconda3/lib/python3.6/site-packages/matplotlib/__init__.py\u001b[0m in \u001b[0;36minner\u001b[0;34m(ax, *args, **kwargs)\u001b[0m\n\u001b[1;32m   1708\u001b[0m                     warnings.warn(msg % (label_namer, func.__name__),\n\u001b[1;32m   1709\u001b[0m                                   RuntimeWarning, stacklevel=2)\n\u001b[0;32m-> 1710\u001b[0;31m             \u001b[0;32mreturn\u001b[0m \u001b[0mfunc\u001b[0m\u001b[0;34m(\u001b[0m\u001b[0max\u001b[0m\u001b[0;34m,\u001b[0m \u001b[0;34m*\u001b[0m\u001b[0margs\u001b[0m\u001b[0;34m,\u001b[0m \u001b[0;34m**\u001b[0m\u001b[0mkwargs\u001b[0m\u001b[0;34m)\u001b[0m\u001b[0;34m\u001b[0m\u001b[0m\n\u001b[0m\u001b[1;32m   1711\u001b[0m         \u001b[0mpre_doc\u001b[0m \u001b[0;34m=\u001b[0m \u001b[0minner\u001b[0m\u001b[0;34m.\u001b[0m\u001b[0m__doc__\u001b[0m\u001b[0;34m\u001b[0m\u001b[0m\n\u001b[1;32m   1712\u001b[0m         \u001b[0;32mif\u001b[0m \u001b[0mpre_doc\u001b[0m \u001b[0;32mis\u001b[0m \u001b[0;32mNone\u001b[0m\u001b[0;34m:\u001b[0m\u001b[0;34m\u001b[0m\u001b[0m\n",
      "\u001b[0;32m~/anaconda3/lib/python3.6/site-packages/matplotlib/axes/_axes.py\u001b[0m in \u001b[0;36mfill_between\u001b[0;34m(self, x, y1, y2, where, interpolate, step, **kwargs)\u001b[0m\n\u001b[1;32m   4831\u001b[0m         \u001b[0;31m# Convert the arrays so we can work with them\u001b[0m\u001b[0;34m\u001b[0m\u001b[0;34m\u001b[0m\u001b[0m\n\u001b[1;32m   4832\u001b[0m         \u001b[0mx\u001b[0m \u001b[0;34m=\u001b[0m \u001b[0mma\u001b[0m\u001b[0;34m.\u001b[0m\u001b[0mmasked_invalid\u001b[0m\u001b[0;34m(\u001b[0m\u001b[0mself\u001b[0m\u001b[0;34m.\u001b[0m\u001b[0mconvert_xunits\u001b[0m\u001b[0;34m(\u001b[0m\u001b[0mx\u001b[0m\u001b[0;34m)\u001b[0m\u001b[0;34m)\u001b[0m\u001b[0;34m\u001b[0m\u001b[0m\n\u001b[0;32m-> 4833\u001b[0;31m         \u001b[0my1\u001b[0m \u001b[0;34m=\u001b[0m \u001b[0mma\u001b[0m\u001b[0;34m.\u001b[0m\u001b[0mmasked_invalid\u001b[0m\u001b[0;34m(\u001b[0m\u001b[0mself\u001b[0m\u001b[0;34m.\u001b[0m\u001b[0mconvert_yunits\u001b[0m\u001b[0;34m(\u001b[0m\u001b[0my1\u001b[0m\u001b[0;34m)\u001b[0m\u001b[0;34m)\u001b[0m\u001b[0;34m\u001b[0m\u001b[0m\n\u001b[0m\u001b[1;32m   4834\u001b[0m         \u001b[0my2\u001b[0m \u001b[0;34m=\u001b[0m \u001b[0mma\u001b[0m\u001b[0;34m.\u001b[0m\u001b[0mmasked_invalid\u001b[0m\u001b[0;34m(\u001b[0m\u001b[0mself\u001b[0m\u001b[0;34m.\u001b[0m\u001b[0mconvert_yunits\u001b[0m\u001b[0;34m(\u001b[0m\u001b[0my2\u001b[0m\u001b[0;34m)\u001b[0m\u001b[0;34m)\u001b[0m\u001b[0;34m\u001b[0m\u001b[0m\n\u001b[1;32m   4835\u001b[0m \u001b[0;34m\u001b[0m\u001b[0m\n",
      "\u001b[0;32m~/anaconda3/lib/python3.6/site-packages/numpy/ma/core.py\u001b[0m in \u001b[0;36mmasked_invalid\u001b[0;34m(a, copy)\u001b[0m\n\u001b[1;32m   2386\u001b[0m         \u001b[0mcls\u001b[0m \u001b[0;34m=\u001b[0m \u001b[0mtype\u001b[0m\u001b[0;34m(\u001b[0m\u001b[0ma\u001b[0m\u001b[0;34m)\u001b[0m\u001b[0;34m\u001b[0m\u001b[0m\n\u001b[1;32m   2387\u001b[0m     \u001b[0;32melse\u001b[0m\u001b[0;34m:\u001b[0m\u001b[0;34m\u001b[0m\u001b[0m\n\u001b[0;32m-> 2388\u001b[0;31m         \u001b[0mcondition\u001b[0m \u001b[0;34m=\u001b[0m \u001b[0;34m~\u001b[0m\u001b[0;34m(\u001b[0m\u001b[0mnp\u001b[0m\u001b[0;34m.\u001b[0m\u001b[0misfinite\u001b[0m\u001b[0;34m(\u001b[0m\u001b[0ma\u001b[0m\u001b[0;34m)\u001b[0m\u001b[0;34m)\u001b[0m\u001b[0;34m\u001b[0m\u001b[0m\n\u001b[0m\u001b[1;32m   2389\u001b[0m         \u001b[0mcls\u001b[0m \u001b[0;34m=\u001b[0m \u001b[0mMaskedArray\u001b[0m\u001b[0;34m\u001b[0m\u001b[0m\n\u001b[1;32m   2390\u001b[0m     \u001b[0mresult\u001b[0m \u001b[0;34m=\u001b[0m \u001b[0ma\u001b[0m\u001b[0;34m.\u001b[0m\u001b[0mview\u001b[0m\u001b[0;34m(\u001b[0m\u001b[0mcls\u001b[0m\u001b[0;34m)\u001b[0m\u001b[0;34m\u001b[0m\u001b[0m\n",
      "\u001b[0;31mTypeError\u001b[0m: ufunc 'isfinite' not supported for the input types, and the inputs could not be safely coerced to any supported types according to the casting rule ''safe''"
     ]
    }
   ],
   "source": [
    "X_test_np = np.array(X_test).reshape((X_test.shape[0],X_test.shape[1],1))\n",
    "y_test_np = np.array(y_test).reshape((y_test.shape[0],y_test.shape[1]))\n",
    "\n",
    "#model.evaluate(X_test_np,y_test_np, batch_size=64, verbose=1)\n",
    "pred = model.predict(X_test_np)\n",
    "\n",
    "diff_v = pred[:,2] - y_test_np[:,2]\n",
    "diff_s = pred[:,0] - y_test_np[:,0]\n",
    "diff_e = pred[:,1] - y_test_np[:,1]\n",
    "#print(pred[:10])\n",
    "print(diff_v[:10])\n",
    "mae = sum(abs(pred - y_test_np))/pred.shape[0]\n",
    "\n",
    "#print(mae)\n",
    "\n",
    "plt.plot(pred[:100,2])\n",
    "plt.plot(y_test_np[:100,2])\n",
    "plt.show()\n",
    "\n",
    "plt.fill_between(np.arange(200),diff_v[:200],where=(diff_v[:200] >= 0),color='green')\n",
    "plt.fill_between(np.arange(200),diff_v[:200],where=(diff_v[:200] < 0),color='red')\n",
    "plt.show()\n",
    "\n",
    "plt.fill_between(np.arange(200),diff_s[:200],where=(diff_s[:200] >= 0),color='green')\n",
    "plt.fill_between(np.arange(200),diff_e[:200],where=(diff_e[:200] < 0),color='red')\n",
    "#plt.axhline(1)\n",
    "#plt.axhline(-1)\n",
    "plt.show()"
   ]
  },
  {
   "cell_type": "code",
   "execution_count": 327,
   "metadata": {},
   "outputs": [
    {
     "name": "stdout",
     "output_type": "stream",
     "text": [
      "[]\n",
      "[]\n",
      "[]\n",
      "[]\n",
      "[]\n",
      "[]\n",
      "[]\n",
      "[]\n",
      "[]\n",
      "[]\n",
      "[]\n",
      "[]\n",
      "[]\n",
      "[]\n",
      "[]\n",
      "[]\n",
      "[]\n",
      "[]\n",
      "[]\n",
      "[]\n",
      "[]\n",
      "[]\n",
      "[]\n",
      "[]\n",
      "[]\n",
      "[]\n",
      "[]\n",
      "[]\n",
      "[]\n",
      "[]\n",
      "[]\n",
      "[]\n",
      "[]\n",
      "[]\n",
      "[]\n",
      "[]\n",
      "[]\n",
      "[]\n",
      "[]\n",
      "[]\n",
      "[]\n",
      "[]\n",
      "[]\n",
      "[]\n",
      "[]\n",
      "[]\n",
      "[]\n",
      "[]\n",
      "[]\n"
     ]
    },
    {
     "name": "stderr",
     "output_type": "stream",
     "text": [
      "/home/bjornif/anaconda3/lib/python3.6/site-packages/ipykernel_launcher.py:11: RuntimeWarning: invalid value encountered in double_scalars\n",
      "  # This is added back by InteractiveShellApp.init_path()\n"
     ]
    }
   ],
   "source": [
    "signal_present_gold = np.zeros(pred_ds.shape[0])\n",
    "signal_present_gold[np.where(y_ds[:,2] > 0)] = 1\n",
    "\n",
    "accs = []\n",
    "thresholds = np.arange(100,5000,100)\n",
    "\n",
    "for i in thresholds:\n",
    "    signal_present_pred = np.zeros(pred_ds.shape[0])\n",
    "    signal_present_pred[np.where(pred_ds[:,2] >= i)] = 1\n",
    "    print(signal_present_gold[signal_present_gold + signal_present_pred == 2])\n",
    "    precision = signal_present_gold[signal_present_gold + signal_present_pred == 2].shape[0]/np.sum(signal_present_pred)\n",
    "#    recall = signal_present_gold[signal_present_gold + signal_present_pred == 2].shape[0]/np.sum(signal_present_gold)\n",
    "#    f1 = 2*(recall*precision)/(recall+precision)\n",
    "    \n",
    "#    accs.append(f1)\n",
    "\n",
    "#plt.plot(thresholds,accs)\n",
    "#plt.show()"
   ]
  }
 ],
 "metadata": {
  "kernelspec": {
   "display_name": "Python 3",
   "language": "python",
   "name": "python3"
  },
  "language_info": {
   "codemirror_mode": {
    "name": "ipython",
    "version": 3
   },
   "file_extension": ".py",
   "mimetype": "text/x-python",
   "name": "python",
   "nbconvert_exporter": "python",
   "pygments_lexer": "ipython3",
   "version": "3.6.2"
  }
 },
 "nbformat": 4,
 "nbformat_minor": 2
}
